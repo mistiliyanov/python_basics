{
 "cells": [
  {
   "cell_type": "code",
   "execution_count": 1,
   "metadata": {},
   "outputs": [],
   "source": [
    "# My imports"
   ]
  },
  {
   "cell_type": "markdown",
   "metadata": {},
   "source": [
    "## If Statements"
   ]
  },
  {
   "cell_type": "markdown",
   "metadata": {},
   "source": [
    "### What are If Statements?\n",
    "\n",
    "* An if statement allows you to execute a block of code only if a specific condition is true.\n",
    "* This is a fundamental concept in programming that enables your programs to make decisions."
   ]
  },
  {
   "cell_type": "code",
   "execution_count": 1,
   "metadata": {},
   "outputs": [
    {
     "name": "stdout",
     "output_type": "stream",
     "text": [
      "x is greater than 5\n"
     ]
    }
   ],
   "source": [
    "# Simple if statement\n",
    "x = 10\n",
    "if x > 5:\n",
    "    \n",
    "    print(\"x is greater than 5\")"
   ]
  },
  {
   "cell_type": "markdown",
   "metadata": {},
   "source": [
    "In this example, the code inside the if block (print(\"x is greater than 5\")) only executes if the condition x > 5 is true."
   ]
  },
  {
   "cell_type": "markdown",
   "metadata": {},
   "source": [
    "### Basic Syntax and Usage\n",
    "\n",
    "* The basic syntax of an if statement in Python is as follows:\n",
    "    * Start with the keyword if, followed by a condition.\n",
    "    * End the condition with a colon :.\n",
    "    * Indent the code block that should execute if the condition is true."
   ]
  },
  {
   "cell_type": "code",
   "execution_count": 4,
   "metadata": {},
   "outputs": [],
   "source": [
    "age = 18\n",
    "\n",
    "# Check if age is 18 or older\n",
    "if age >= 18:\n",
    "    \n",
    "    print(\"You are an adult.\")\n"
   ]
  },
  {
   "cell_type": "markdown",
   "metadata": {},
   "source": [
    "In this example, the condition checks if age is greater than or equal to 18. If true, the message \"You are an adult.\" is printed."
   ]
  },
  {
   "cell_type": "markdown",
   "metadata": {},
   "source": [
    "### else and elif Clauses\n",
    "\n",
    "* The if statement can be extended with else and elif (else if) clauses to handle additional conditions.\n",
    "* The else clause executes if none of the preceding conditions are true.\n",
    "* The elif clause allows you to check multiple conditions.\n"
   ]
  },
  {
   "cell_type": "code",
   "execution_count": 5,
   "metadata": {},
   "outputs": [
    {
     "name": "stdout",
     "output_type": "stream",
     "text": [
      "It's warm outside.\n"
     ]
    }
   ],
   "source": [
    "temperature = 30\n",
    "\n",
    "if temperature > 30:\n",
    "    print(\"It's hot outside.\")\n",
    "elif temperature > 20:\n",
    "    print(\"It's warm outside.\")\n",
    "else:\n",
    "    print(\"It's cold outside.\")"
   ]
  },
  {
   "cell_type": "markdown",
   "metadata": {},
   "source": [
    "* The elif clause checks if the temperature is above 20 but not above 30.\n",
    "* The else clause handles all other cases where the temperature is 20 or below."
   ]
  },
  {
   "cell_type": "markdown",
   "metadata": {},
   "source": [
    "### Nested If Statements\n",
    "\n",
    "* You can nest if statements inside other if statements to check multiple conditions sequentially.\n",
    "* This is useful when you need to make more complex decisions based on multiple criteria."
   ]
  },
  {
   "cell_type": "code",
   "execution_count": 6,
   "metadata": {},
   "outputs": [
    {
     "name": "stdout",
     "output_type": "stream",
     "text": [
      "You passed!\n",
      "You got a B!\n"
     ]
    }
   ],
   "source": [
    "score = 85\n",
    "\n",
    "if score >= 60:\n",
    "    print(\"You passed!\")\n",
    "    if score >= 90:\n",
    "        print(\"You got an A!\")\n",
    "    elif score >= 80:\n",
    "        print(\"You got a B!\")\n",
    "else:\n",
    "    print(\"You failed.\")"
   ]
  },
  {
   "cell_type": "markdown",
   "metadata": {},
   "source": [
    "* The outer if checks if the score is at least 60 to determine if the student passed.\n",
    "* The inner if and elif further categorize the passing score into grades."
   ]
  },
  {
   "cell_type": "markdown",
   "metadata": {},
   "source": [
    "### Practical Examples\n",
    "\n",
    "Let’s look at some practical examples of using if statements.\n"
   ]
  },
  {
   "cell_type": "markdown",
   "metadata": {},
   "source": [
    "Example 1: Checking for Even or Odd Number"
   ]
  },
  {
   "cell_type": "code",
   "execution_count": null,
   "metadata": {},
   "outputs": [],
   "source": [
    "number = 7\n",
    "\n",
    "if number % 2 == 0:\n",
    "    print(\"The number is even.\")\n",
    "else:\n",
    "    print(\"The number is odd.\")"
   ]
  },
  {
   "cell_type": "markdown",
   "metadata": {},
   "source": [
    "Example 2: Validating User Input"
   ]
  },
  {
   "cell_type": "code",
   "execution_count": 8,
   "metadata": {},
   "outputs": [
    {
     "name": "stdout",
     "output_type": "stream",
     "text": [
      "Password length is acceptable.\n"
     ]
    }
   ],
   "source": [
    "password = input(\"Enter your password: \")\n",
    "\n",
    "if len(password) < 8:\n",
    "    print(\"Password is too short.\")\n",
    "else:\n",
    "    print(\"Password length is acceptable.\")"
   ]
  },
  {
   "cell_type": "markdown",
   "metadata": {},
   "source": [
    "Example 3: Determining the Largest of Three Numbers"
   ]
  },
  {
   "cell_type": "code",
   "execution_count": 9,
   "metadata": {},
   "outputs": [
    {
     "name": "stdout",
     "output_type": "stream",
     "text": [
      "b is the largest.\n"
     ]
    }
   ],
   "source": [
    "a = 10\n",
    "b = 20\n",
    "c = 15\n",
    "\n",
    "if a > b and a > c:\n",
    "    print(\"a is the largest.\")\n",
    "elif b > c:\n",
    "    print(\"b is the largest.\")\n",
    "else:\n",
    "    print(\"c is the largest.\")"
   ]
  },
  {
   "cell_type": "markdown",
   "metadata": {},
   "source": [
    "### Exercises\n",
    "\n",
    "Now, let’s try some exercises to practice what we’ve learned."
   ]
  },
  {
   "cell_type": "markdown",
   "metadata": {},
   "source": [
    "Exercise 1: Basic If Statement"
   ]
  },
  {
   "cell_type": "code",
   "execution_count": 10,
   "metadata": {},
   "outputs": [
    {
     "name": "stdout",
     "output_type": "stream",
     "text": [
      "The number is positive.\n"
     ]
    }
   ],
   "source": [
    "# Write a program that checks if a number is positive, negative, or zero.\n",
    "number = 5\n",
    "\n",
    "# Your code here\n",
    "if number > 0:\n",
    "    print(\"The number is positive.\")\n",
    "elif number < 0:\n",
    "    print(\"The number is negative.\")\n",
    "else:\n",
    "    print(\"The number is zero.\")"
   ]
  },
  {
   "cell_type": "markdown",
   "metadata": {},
   "source": [
    "Exercise 2: Temperature Check"
   ]
  },
  {
   "cell_type": "code",
   "execution_count": 11,
   "metadata": {},
   "outputs": [
    {
     "name": "stdout",
     "output_type": "stream",
     "text": [
      "Wear a light jacket.\n"
     ]
    }
   ],
   "source": [
    "# Write a program that checks the temperature and prints appropriate clothing advice.\n",
    "temperature = 15\n",
    "\n",
    "# Your code here\n",
    "if temperature >= 25:\n",
    "    print(\"Wear shorts and a t-shirt.\")\n",
    "elif temperature >= 15:\n",
    "    print(\"Wear a light jacket.\")\n",
    "else:\n",
    "    print(\"Wear a warm coat.\")"
   ]
  },
  {
   "cell_type": "markdown",
   "metadata": {},
   "source": [
    "Exercise 3: Age Group Classification"
   ]
  },
  {
   "cell_type": "code",
   "execution_count": 12,
   "metadata": {},
   "outputs": [
    {
     "name": "stdout",
     "output_type": "stream",
     "text": [
      "You are an adult.\n"
     ]
    }
   ],
   "source": [
    "# Write a program that categorizes a person's age into different age groups.\n",
    "age = 45\n",
    "\n",
    "# Your code here\n",
    "if age < 13:\n",
    "    print(\"You are a child.\")\n",
    "elif age < 20:\n",
    "    print(\"You are a teenager.\")\n",
    "elif age < 65:\n",
    "    print(\"You are an adult.\")\n",
    "elif age < 65:\n",
    "    print(\"You are an adult.\")\n",
    "elif age < 65:\n",
    "    print(\"You are an adult.\")\n",
    "elif age < 65:\n",
    "    print(\"You are an adult.\")\n",
    "elif age < 65:\n",
    "    print(\"You are an adult.\")\n",
    "elif age < 65:\n",
    "    print(\"You are an adult.\")\n",
    "elif age < 65:\n",
    "    print(\"You are an adult.\")\n",
    "elif age < 65:\n",
    "    print(\"You are an adult.\")\n",
    "elif age < 65:\n",
    "    print(\"You are an adult.\")\n",
    "else:\n",
    "    print(\"You are a senior.\")"
   ]
  },
  {
   "cell_type": "markdown",
   "metadata": {},
   "source": [
    "### Q&A and Troubleshooting\n",
    "\n",
    "* If you’re having trouble with the exercises, here are a few tips:\n",
    "    * Key errors: If you try to access a key that doesn’t exist, Python will raise a KeyError. Use get() with default value to avoid this.\n",
    "    * Mutable nature: Remember, dictionaries can be modified in place, so any changes will directly affect the original dictionary.\n",
    "    * Looping through dictionaries: You can loop through keys, values, or both using methods like keys(), values(), and items()."
   ]
  },
  {
   "cell_type": "markdown",
   "metadata": {},
   "source": [
    "### Summary\n",
    "\n",
    "* Today, we explored if statements, a crucial tool for controlling the flow of your programs by making decisions.\n",
    "* Until next time, try creating a program that asks the user for input and makes decisions based on that input, like a simple calculator or a program that gives advice based on the weather.\n",
    "* Next week, we'll dive into loops, which will allow us to repeat actions in our code efficiently.\n",
    "\n",
    "### Thank you for attending! See you next week!"
   ]
  },
  {
   "cell_type": "markdown",
   "metadata": {},
   "source": []
  }
 ],
 "metadata": {
  "kernelspec": {
   "display_name": "venv",
   "language": "python",
   "name": "python3"
  },
  "language_info": {
   "codemirror_mode": {
    "name": "ipython",
    "version": 3
   },
   "file_extension": ".py",
   "mimetype": "text/x-python",
   "name": "python",
   "nbconvert_exporter": "python",
   "pygments_lexer": "ipython3",
   "version": "3.11.1"
  }
 },
 "nbformat": 4,
 "nbformat_minor": 2
}
