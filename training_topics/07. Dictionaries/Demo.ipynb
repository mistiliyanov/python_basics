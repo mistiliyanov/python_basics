{
 "cells": [
  {
   "cell_type": "code",
   "execution_count": 17,
   "metadata": {},
   "outputs": [],
   "source": [
    "# my imports"
   ]
  },
  {
   "cell_type": "markdown",
   "metadata": {},
   "source": [
    "## Dictionaries"
   ]
  },
  {
   "cell_type": "markdown",
   "metadata": {},
   "source": [
    "### What are Dictionaries?\n",
    "\n",
    "* A dictionary in Python is a collection of key-value pairs. Each key is unique, and each key maps to a value.\n",
    "* Dictionaries are mutable, meaning you can change their contents after they are created.\n",
    "* They are commonly used to store data that is associated with specific keys, like a word and its definition or a student's name and their grades."
   ]
  },
  {
   "cell_type": "code",
   "execution_count": 18,
   "metadata": {},
   "outputs": [],
   "source": [
    "# Creating a dictionary\n",
    "student = {\"name\": \"Alice\", \"age\": 25, \"grade\": \"A\"}\n",
    "\n",
    "# Another example\n",
    "phone_book = {\"John\": \"555-1234\", \"Jane\": \"555-5678\", \"Alice\": \"555-8765\"}\n"
   ]
  },
  {
   "cell_type": "markdown",
   "metadata": {},
   "source": [
    "### Creating and Using Dictionaries\n",
    "\n",
    "* Dictionaries are created using curly braces {} with key-value pairs separated by colons : and pairs separated by commas.\n",
    "* You can access dictionary values by their keys."
   ]
  },
  {
   "cell_type": "code",
   "execution_count": 19,
   "metadata": {},
   "outputs": [],
   "source": [
    "empty_dict = {}"
   ]
  },
  {
   "cell_type": "code",
   "execution_count": 20,
   "metadata": {},
   "outputs": [],
   "source": [
    "# Creating a dictionary\n",
    "student = {\"name\": \"Alice\", \"age\": 25, \"grade\": \"A\"}"
   ]
  },
  {
   "cell_type": "code",
   "execution_count": 21,
   "metadata": {},
   "outputs": [
    {
     "name": "stdout",
     "output_type": "stream",
     "text": [
      "{'name': 'Alice', 'age': 25, 'grade': 'A'}\n"
     ]
    }
   ],
   "source": [
    "print(student)"
   ]
  },
  {
   "cell_type": "markdown",
   "metadata": {},
   "source": [
    "### Dictionary Operations\n",
    "\n",
    "* Dictionaries support various operations such as checking if a key exists, getting the number of key-value pairs, and merging dictionaries.\n"
   ]
  },
  {
   "cell_type": "code",
   "execution_count": 22,
   "metadata": {},
   "outputs": [
    {
     "name": "stdout",
     "output_type": "stream",
     "text": [
      "Student's name: Alice\n"
     ]
    }
   ],
   "source": [
    "# Accessing values by key\n",
    "student_name = student[\"name\"]\n",
    "print(\"Student's name:\", student_name)  # Output: Alice"
   ]
  },
  {
   "cell_type": "code",
   "execution_count": 23,
   "metadata": {},
   "outputs": [
    {
     "name": "stdout",
     "output_type": "stream",
     "text": [
      "Updated student info: {'name': 'Alice', 'age': 25, 'grade': 'A', 'major': 'Computer Science'}\n"
     ]
    }
   ],
   "source": [
    "# Adding a new key-value pair\n",
    "student[\"major\"] = \"Computer Science\"\n",
    "print(\"Updated student info:\", student)"
   ]
  },
  {
   "cell_type": "code",
   "execution_count": 24,
   "metadata": {},
   "outputs": [],
   "source": [
    "student[\"major\"] = \"History\""
   ]
  },
  {
   "cell_type": "code",
   "execution_count": 25,
   "metadata": {},
   "outputs": [
    {
     "name": "stdout",
     "output_type": "stream",
     "text": [
      "Updated student info: {'name': 'Alice', 'age': 25, 'grade': 'A', 'major': 'History'}\n"
     ]
    }
   ],
   "source": [
    "print(\"Updated student info:\", student)"
   ]
  },
  {
   "cell_type": "code",
   "execution_count": 26,
   "metadata": {},
   "outputs": [
    {
     "name": "stdout",
     "output_type": "stream",
     "text": [
      "Updated grade: A+\n"
     ]
    }
   ],
   "source": [
    "# Updating an existing value\n",
    "student[\"grade\"] = \"A+\"\n",
    "print(\"Updated grade:\", student[\"grade\"])"
   ]
  },
  {
   "cell_type": "code",
   "execution_count": 27,
   "metadata": {},
   "outputs": [
    {
     "data": {
      "text/plain": [
       "{'name': 'Alice', 'age': 25, 'grade': 'A+', 'major': 'History'}"
      ]
     },
     "execution_count": 27,
     "metadata": {},
     "output_type": "execute_result"
    }
   ],
   "source": [
    "student\n"
   ]
  },
  {
   "cell_type": "code",
   "execution_count": 28,
   "metadata": {},
   "outputs": [
    {
     "name": "stdout",
     "output_type": "stream",
     "text": [
      "After removing age: {'name': 'Alice', 'grade': 'A+', 'major': 'History'}\n"
     ]
    }
   ],
   "source": [
    "# Removing a key-value pair\n",
    "del student[\"age\"]\n",
    "print(\"After removing age:\", student)"
   ]
  },
  {
   "cell_type": "code",
   "execution_count": 29,
   "metadata": {},
   "outputs": [],
   "source": [
    "# del student"
   ]
  },
  {
   "cell_type": "code",
   "execution_count": 30,
   "metadata": {},
   "outputs": [
    {
     "name": "stdout",
     "output_type": "stream",
     "text": [
      "Does 'age' exist? True\n"
     ]
    }
   ],
   "source": [
    "student = {\"name\": \"Alice\", \"age\": 25, \"grade\": \"A\"}\n",
    "\n",
    "# Check if a key exists\n",
    "has_age = \"age\" in student\n",
    "print(\"Does 'age' exist?\", has_age)  # Output: True"
   ]
  },
  {
   "cell_type": "code",
   "execution_count": 33,
   "metadata": {},
   "outputs": [
    {
     "name": "stdout",
     "output_type": "stream",
     "text": [
      "Does 'Alice' exist? False\n"
     ]
    }
   ],
   "source": [
    "has_alice = \"Alice\" in student\n",
    "print(\"Does 'Alice' exist?\", has_alice)  # Output: True"
   ]
  },
  {
   "cell_type": "code",
   "execution_count": 34,
   "metadata": {},
   "outputs": [
    {
     "name": "stdout",
     "output_type": "stream",
     "text": [
      "Number of items in the dictionary: 3\n"
     ]
    }
   ],
   "source": [
    "# Get the number of key-value pairs\n",
    "num_items = len(student)\n",
    "print(\"Number of items in the dictionary:\", num_items)  # Output: 3"
   ]
  },
  {
   "cell_type": "code",
   "execution_count": 35,
   "metadata": {},
   "outputs": [
    {
     "name": "stdout",
     "output_type": "stream",
     "text": [
      "Merged dictionary: {'name': 'Alice', 'age': 25, 'grade': 'A', 'graduation_year': 2024, 'GPA': 3.9}\n"
     ]
    }
   ],
   "source": [
    "# Merge two dictionaries\n",
    "additional_info = {\"graduation_year\": 2024, \"GPA\": 3.9}\n",
    "student.update(additional_info)\n",
    "print(\"Merged dictionary:\", student)"
   ]
  },
  {
   "cell_type": "code",
   "execution_count": 36,
   "metadata": {},
   "outputs": [
    {
     "data": {
      "text/plain": [
       "{'name': 'Alice', 'age': 25, 'grade': 'A', 'graduation_year': 2024, 'GPA': 3.9}"
      ]
     },
     "execution_count": 36,
     "metadata": {},
     "output_type": "execute_result"
    }
   ],
   "source": [
    "student"
   ]
  },
  {
   "cell_type": "markdown",
   "metadata": {},
   "source": [
    "### Dictionary Methods\n",
    "\n",
    "* Python provides a variety of methods to work with dictionaries efficiently.\n",
    "\n"
   ]
  },
  {
   "cell_type": "code",
   "execution_count": 38,
   "metadata": {},
   "outputs": [
    {
     "name": "stdout",
     "output_type": "stream",
     "text": [
      "Major: Undeclared\n"
     ]
    }
   ],
   "source": [
    "student = {\"name\": \"Alice\", \"age\": 25, \"grade\": \"A\"}\n",
    "\n",
    "# Get a value with a default if the key doesn't exist\n",
    "major = student.get(\"major\", \"Undeclared\")\n",
    "print(\"Major:\", major)  # Output: Undeclared"
   ]
  },
  {
   "cell_type": "code",
   "execution_count": 37,
   "metadata": {},
   "outputs": [
    {
     "data": {
      "text/plain": [
       "'Alice'"
      ]
     },
     "execution_count": 37,
     "metadata": {},
     "output_type": "execute_result"
    }
   ],
   "source": [
    "student[\"name\"]"
   ]
  },
  {
   "cell_type": "code",
   "execution_count": 39,
   "metadata": {},
   "outputs": [
    {
     "data": {
      "text/plain": [
       "{'name': 'Alice', 'age': 25, 'grade': 'A'}"
      ]
     },
     "execution_count": 39,
     "metadata": {},
     "output_type": "execute_result"
    }
   ],
   "source": [
    "student"
   ]
  },
  {
   "cell_type": "code",
   "execution_count": 40,
   "metadata": {},
   "outputs": [
    {
     "name": "stdout",
     "output_type": "stream",
     "text": [
      "Popped grade: A\n",
      "After pop: {'name': 'Alice', 'age': 25}\n"
     ]
    }
   ],
   "source": [
    "# Remove and return a value by key\n",
    "grade = student.pop(\"grade\")\n",
    "print(\"Popped grade:\", grade)  # Output: A\n",
    "print(\"After pop:\", student)"
   ]
  },
  {
   "cell_type": "code",
   "execution_count": 41,
   "metadata": {},
   "outputs": [
    {
     "name": "stdout",
     "output_type": "stream",
     "text": [
      "Keys: dict_keys(['name', 'age'])\n",
      "Values: dict_values(['Alice', 25])\n",
      "Items: dict_items([('name', 'Alice'), ('age', 25)])\n"
     ]
    }
   ],
   "source": [
    "# Get all keys, values, or key-value pairs\n",
    "keys = student.keys()\n",
    "values = student.values()\n",
    "items = student.items()\n",
    "print(\"Keys:\", keys)\n",
    "print(\"Values:\", values)\n",
    "print(\"Items:\", items)"
   ]
  },
  {
   "cell_type": "markdown",
   "metadata": {},
   "source": [
    "### Practical Examples\n",
    "\n",
    "* Let’s look at some practical examples of using dictionaries.\n"
   ]
  },
  {
   "cell_type": "markdown",
   "metadata": {},
   "source": [
    "Example 1: Counting the Frequency of Words"
   ]
  },
  {
   "cell_type": "code",
   "execution_count": 42,
   "metadata": {},
   "outputs": [
    {
     "name": "stdout",
     "output_type": "stream",
     "text": [
      "Word count: {'hello': 2, 'world': 1}\n"
     ]
    }
   ],
   "source": [
    "text = \"hello world hello\"\n",
    "word_count = {}\n",
    "\n",
    "for word in text.split():\n",
    "    if word in word_count:\n",
    "        word_count[word] += 1\n",
    "    else:\n",
    "        word_count[word] = 1\n",
    "\n",
    "print(\"Word count:\", word_count)  # Output: {'hello': 2, 'world': 1}"
   ]
  },
  {
   "cell_type": "markdown",
   "metadata": {},
   "source": [
    "Example 2: Storing and Accessing Data"
   ]
  },
  {
   "cell_type": "code",
   "execution_count": 1,
   "metadata": {},
   "outputs": [
    {
     "name": "stdout",
     "output_type": "stream",
     "text": [
      "Alice's grade: A\n"
     ]
    }
   ],
   "source": [
    "# A dictionary of students and their grades\n",
    "grades = {\"Alice\": \"A\", \"Bob\": \"B\", \"Charlie\": \"C\"}\n",
    "\n",
    "# Accessing a student's grade\n",
    "alice_grade = grades[\"Alice\"]\n",
    "print(\"Alice's grade:\", alice_grade)  # Output: A"
   ]
  },
  {
   "cell_type": "markdown",
   "metadata": {},
   "source": [
    "Example 3: Dictionary Comprehension"
   ]
  },
  {
   "cell_type": "code",
   "execution_count": 44,
   "metadata": {},
   "outputs": [
    {
     "name": "stdout",
     "output_type": "stream",
     "text": [
      "Squares: {1: 1, 2: 4, 3: 9, 4: 16, 5: 25}\n"
     ]
    }
   ],
   "source": [
    "# Create a dictionary with squares of numbers from 1 to 5\n",
    "squares = {x: x**2 for x in range(1, 6)}\n",
    "print(\"Squares:\", squares)  # Output: {1: 1, 2: 4, 3: 9, 4: 16, 5: 25}"
   ]
  },
  {
   "cell_type": "markdown",
   "metadata": {},
   "source": [
    "### Exercises\n",
    "\n",
    "* Now, let’s try some exercises to practice what we’ve learned.\n",
    "\n"
   ]
  },
  {
   "cell_type": "markdown",
   "metadata": {},
   "source": [
    "Exercise 1: Create and Modify a Dictionary"
   ]
  },
  {
   "cell_type": "code",
   "execution_count": 45,
   "metadata": {},
   "outputs": [
    {
     "name": "stdout",
     "output_type": "stream",
     "text": [
      "Updated book info: {'title': '1984', 'author': 'George Orwell', 'year_published': 1950, 'genre': 'Dystopian'}\n"
     ]
    }
   ],
   "source": [
    "# Create a dictionary to store information about a book\n",
    "book_info = {\n",
    "    \"title\": \"1984\",\n",
    "    \"author\": \"George Orwell\",\n",
    "    \"year_published\": 1949\n",
    "}\n",
    "\n",
    "# Add the genre of the book\n",
    "book_info[\"genre\"] = \"Dystopian\"\n",
    "\n",
    "# Update the year published\n",
    "book_info[\"year_published\"] = 1950\n",
    "\n",
    "# Print the updated dictionary\n",
    "print(\"Updated book info:\", book_info)"
   ]
  },
  {
   "cell_type": "markdown",
   "metadata": {},
   "source": [
    "Exercise 2: Counting Items"
   ]
  },
  {
   "cell_type": "code",
   "execution_count": 46,
   "metadata": {},
   "outputs": [
    {
     "name": "stdout",
     "output_type": "stream",
     "text": [
      "Fruit count: {'apple': 3, 'banana': 2, 'orange': 2}\n"
     ]
    }
   ],
   "source": [
    "# Given a list of fruits\n",
    "fruits = [\"apple\", \"banana\", \"orange\", \"apple\", \"orange\", \"banana\", \"apple\"]\n",
    "\n",
    "# Create a dictionary to count the frequency of each fruit\n",
    "fruit_count = {}\n",
    "\n",
    "for fruit in fruits:\n",
    "    if fruit in fruit_count:\n",
    "        fruit_count[fruit] += 1\n",
    "    else:\n",
    "        fruit_count[fruit] = 1\n",
    "\n",
    "print(\"Fruit count:\", fruit_count)"
   ]
  },
  {
   "cell_type": "markdown",
   "metadata": {},
   "source": [
    "### Q&A and Troubleshooting\n",
    "\n",
    "* If you’re having trouble with the exercises, here are a few tips:\n",
    "    * Key errors: If you try to access a key that doesn’t exist, Python will raise a KeyError. Use get() with default value to avoid this.\n",
    "    * Mutable nature: Remember, dictionaries can be modified in place, so any changes will directly affect the original dictionary.\n",
    "    * Looping through dictionaries: You can loop through keys, values, or both using methods like keys(), values(), and items()."
   ]
  },
  {
   "cell_type": "markdown",
   "metadata": {},
   "source": [
    "### Summary\n",
    "\n",
    "* Today, we explored dictionaries, a versatile data structure in Python for storing key-value pairs.\n",
    "* Until next time, try creating a small program that uses a dictionary to store and manipulate data, like a simple contact book or inventory system.\n",
    "* Next week, we'll be discussing sets, a data structure for storing unique elements.\n",
    "\n",
    "### Thank you for attending! See you next week!"
   ]
  }
 ],
 "metadata": {
  "kernelspec": {
   "display_name": "venv",
   "language": "python",
   "name": "python3"
  },
  "language_info": {
   "codemirror_mode": {
    "name": "ipython",
    "version": 3
   },
   "file_extension": ".py",
   "mimetype": "text/x-python",
   "name": "python",
   "nbconvert_exporter": "python",
   "pygments_lexer": "ipython3",
   "version": "3.11.1"
  }
 },
 "nbformat": 4,
 "nbformat_minor": 2
}
