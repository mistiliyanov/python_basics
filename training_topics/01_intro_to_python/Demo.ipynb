{
 "cells": [
  {
   "cell_type": "code",
   "execution_count": null,
   "metadata": {},
   "outputs": [],
   "source": [
    "# my imports\n",
    "import pandas as pd"
   ]
  },
  {
   "cell_type": "markdown",
   "metadata": {},
   "source": [
    "### Python introduction and setup"
   ]
  },
  {
   "cell_type": "markdown",
   "metadata": {},
   "source": [
    "### What is Python?\n",
    "* Python is a high-level, versatile programming language known for its readability and efficiency.\n",
    "* Created by Guido van Rossum and first released in 1991.\n",
    "* It's widely used in web development, data science, automation, and artificial intelligence.\n"
   ]
  },
  {
   "cell_type": "markdown",
   "metadata": {},
   "source": [
    "### "
   ]
  },
  {
   "cell_type": "markdown",
   "metadata": {},
   "source": [
    "### Why Use Python?\n",
    "* Readability: Python's syntax is clear and intuitive, making it easy to learn and use.\n",
    "* Versatility: From web development to machine learning, Python is used in a variety of fields.\n",
    "* Community: A large, supportive community and extensive libraries make Python a powerful tool.\n",
    "* Productivity: Python allows you to write less code to accomplish tasks, boosting productivity.\n"
   ]
  },
  {
   "cell_type": "markdown",
   "metadata": {},
   "source": [
    "### Setting Up Python\n",
    "\n",
    "* Before we can start coding, we need to install Python on your computers.\n",
    "* Go to the official Python website: python.org\n",
    "* Download the latest version for your operating system (Windows, macOS, or Linux).\n",
    "* Follow the installation instructions. Make sure to check the box that says \"Add Python to PATH\" during the * installation process. <br>\n",
    "\n",
    "NB! First check if Python is already available on your OS\n",
    "```bash\n",
    "python3 --version \n",
    "```"
   ]
  },
  {
   "cell_type": "markdown",
   "metadata": {},
   "source": [
    "### Installing an IDE\n",
    "* An Integrated Development Environment (IDE) will make coding in Python easier.\n",
    "* We recommend using Visual Studio Code (VS Code) or PyCharm.\n",
    "* Download and install your preferred IDE:\n",
    "    * Visual Studio Code\n",
    "    * PyCharm\n",
    "* After installation, open your IDE to get started."
   ]
  },
  {
   "cell_type": "markdown",
   "metadata": {},
   "source": [
    "### Write and run your first script\n",
    "python3 demo_hello.py (Mac & Linux OS) <br>\n",
    "or <br>\n",
    "python demo_hello.py (for Windows OS) <br>"
   ]
  },
  {
   "cell_type": "code",
   "execution_count": 1,
   "metadata": {},
   "outputs": [
    {
     "name": "stdout",
     "output_type": "stream",
     "text": [
      "Hello, World!\n"
     ]
    }
   ],
   "source": [
    "print('Hello, World!')"
   ]
  },
  {
   "cell_type": "markdown",
   "metadata": {},
   "source": [
    "### Using Google Colab (as alternative to IDE installation on your computer)\n",
    "* As an alternative to conventional IDEs, you can use Google Colab.\n",
    "* Google Colab is a free, cloud-based platform that allows you to write and execute Python code in your browser.\n",
    "* To get started with Google Colab:\n",
    "    * Go to Google Colab\n",
    "    * Sign in with your Google account.\n",
    "    * Click on \"New Notebook\" to create a new Python notebook.\n",
    "* You can write and run Python code cells interactively, making it an excellent tool for learning and data analysis."
   ]
  },
  {
   "cell_type": "markdown",
   "metadata": {},
   "source": [
    "### Some fun examples:"
   ]
  },
  {
   "cell_type": "code",
   "execution_count": 2,
   "metadata": {},
   "outputs": [],
   "source": [
    "def triangle(side):\n",
    "    for i in range(side):\n",
    "        print('* ' * (i + 1))"
   ]
  },
  {
   "cell_type": "code",
   "execution_count": 4,
   "metadata": {},
   "outputs": [
    {
     "name": "stdout",
     "output_type": "stream",
     "text": [
      "* \n",
      "* * \n",
      "* * * \n",
      "* * * * \n",
      "* * * * * \n"
     ]
    }
   ],
   "source": [
    "triangle(5)"
   ]
  },
  {
   "cell_type": "code",
   "execution_count": 8,
   "metadata": {},
   "outputs": [],
   "source": [
    "def square(side):\n",
    "    for i in range(side):\n",
    "        print('* ' * side)"
   ]
  },
  {
   "cell_type": "code",
   "execution_count": 9,
   "metadata": {},
   "outputs": [
    {
     "name": "stdout",
     "output_type": "stream",
     "text": [
      "* * * * * \n",
      "* * * * * \n",
      "* * * * * \n",
      "* * * * * \n",
      "* * * * * \n"
     ]
    }
   ],
   "source": [
    "square(5)"
   ]
  },
  {
   "cell_type": "markdown",
   "metadata": {},
   "source": [
    "### Importing and installing Python packages (libraries)\n",
    "* create virtual environment for your project... \n",
    "```bash\n",
    "python3 -m venv venv  \n",
    "```\n",
    "\n",
    "...and activate it\n",
    "\n",
    "```bash\n",
    "source ./venv/bin/activate\n",
    "```\n",
    "* install packages using PIP Python Package Installer:\n",
    "```bash\n",
    "pip install pandas\n",
    "```"
   ]
  },
  {
   "cell_type": "markdown",
   "metadata": {},
   "source": [
    "\n",
    "### Q&A and Troubleshooting\n",
    "* If you're having trouble with the setup, here are a few common issues and solutions:\n",
    "    * Python not found: Ensure you checked \"Add Python to PATH\" during installation.\n",
    "    * Permission errors: Try running your terminal or IDE as an administrator.\n",
    "    * Installation stuck: Cancel and restart the installation process.\n",
    "    * Google Colab issues: Ensure you're signed into your Google account and have a stable internet connection.\n",
    "* Contact me if you need any help."
   ]
  },
  {
   "cell_type": "markdown",
   "metadata": {},
   "source": [
    "### Summary\n",
    "* Today, we covered the basics of what Python is, why it's useful, and how to set it up on your computer.\n",
    "* Until next week, feel free to explore the Python interactive shell and try writing a few simple scripts.\n",
    "* If you prefer using Google Colab, familiarize yourself with its interface and try running some Python code.\n",
    "* Next week, we'll dive into variables and data types. <br>\n",
    "## Thank you for attending! See you next week!"
   ]
  }
 ],
 "metadata": {
  "kernelspec": {
   "display_name": "Python 3",
   "language": "python",
   "name": "python3"
  },
  "language_info": {
   "codemirror_mode": {
    "name": "ipython",
    "version": 3
   },
   "file_extension": ".py",
   "mimetype": "text/x-python",
   "name": "python",
   "nbconvert_exporter": "python",
   "pygments_lexer": "ipython3",
   "version": "3.11.1"
  }
 },
 "nbformat": 4,
 "nbformat_minor": 2
}
