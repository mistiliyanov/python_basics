{
 "cells": [
  {
   "cell_type": "code",
   "execution_count": 1,
   "metadata": {},
   "outputs": [],
   "source": [
    "# My imports"
   ]
  },
  {
   "cell_type": "markdown",
   "metadata": {},
   "source": [
    "# Lambda Functions"
   ]
  },
  {
   "cell_type": "markdown",
   "metadata": {},
   "source": [
    "Syntax:"
   ]
  },
  {
   "cell_type": "markdown",
   "metadata": {},
   "source": [
    "### What Are Lambda Functions?\n",
    "\n",
    "**Lambda functions** in Python are small, anonymous functions defined with the `lambda` keyword. Unlike standard functions created with def, lambda functions are typically used for simple operations and are often written in a single line of code.\n",
    "\n"
   ]
  },
  {
   "cell_type": "markdown",
   "metadata": {},
   "source": [
    "### Why Use Lambda Functions?\n",
    "\n",
    "* They allow us to write small functions quickly.\n",
    "* They’re often used as arguments in other functions (like `map`, `filter`, and `sort`), making the code more concise and readable.\n"
   ]
  },
  {
   "cell_type": "markdown",
   "metadata": {},
   "source": [
    "### Example (standard function vs. lambda)"
   ]
  },
  {
   "cell_type": "code",
   "execution_count": 1,
   "metadata": {},
   "outputs": [],
   "source": [
    "# Standard function\n",
    "def square1(x):\n",
    "    return x * x\n",
    "\n",
    "# Lambda function\n",
    "square2 = lambda x: x * x"
   ]
  },
  {
   "cell_type": "code",
   "execution_count": 2,
   "metadata": {},
   "outputs": [
    {
     "data": {
      "text/plain": [
       "16"
      ]
     },
     "execution_count": 2,
     "metadata": {},
     "output_type": "execute_result"
    }
   ],
   "source": [
    "square1(4)"
   ]
  },
  {
   "cell_type": "code",
   "execution_count": 3,
   "metadata": {},
   "outputs": [
    {
     "data": {
      "text/plain": [
       "16"
      ]
     },
     "execution_count": 3,
     "metadata": {},
     "output_type": "execute_result"
    }
   ],
   "source": [
    "square2(4)"
   ]
  },
  {
   "cell_type": "markdown",
   "metadata": {},
   "source": [
    "### Syntax of Lambda Functions"
   ]
  },
  {
   "cell_type": "markdown",
   "metadata": {},
   "source": [
    "```python\n",
    "lambda arguments: expression\n",
    "```"
   ]
  },
  {
   "cell_type": "markdown",
   "metadata": {},
   "source": [
    "* lambda: The keyword to define a lambda function.\n",
    "* arguments: One or more inputs (similar to function parameters).\n",
    "* expression: A single expression to return the result."
   ]
  },
  {
   "cell_type": "code",
   "execution_count": 4,
   "metadata": {},
   "outputs": [
    {
     "name": "stdout",
     "output_type": "stream",
     "text": [
      "5\n"
     ]
    }
   ],
   "source": [
    "add = lambda x, y: x + y\n",
    "print(add(2, 3))  # Output: 5"
   ]
  },
  {
   "cell_type": "markdown",
   "metadata": {},
   "source": [
    "This lambda function takes two arguments, x and y, and returns their sum."
   ]
  },
  {
   "cell_type": "markdown",
   "metadata": {},
   "source": [
    "### Using Lambda Functions with Built-In Functions"
   ]
  },
  {
   "cell_type": "code",
   "execution_count": 5,
   "metadata": {},
   "outputs": [
    {
     "name": "stdout",
     "output_type": "stream",
     "text": [
      "[1, 4, 9, 16]\n"
     ]
    }
   ],
   "source": [
    "# map function with lambda\n",
    "numbers = [1, 2, 3, 4]\n",
    "squares = list(map(lambda x: x * x, numbers))\n",
    "print(squares)  # Output: [1, 4, 9, 16]"
   ]
  },
  {
   "cell_type": "code",
   "execution_count": null,
   "metadata": {},
   "outputs": [
    {
     "name": "stdout",
     "output_type": "stream",
     "text": [
      "[2, 4, 6]\n"
     ]
    }
   ],
   "source": [
    "# filter function with lambda\n",
    "numbers = [1, 2, 3, 4, 5, 6]\n",
    "evens = list(filter(lambda x: x % 2 == 0, numbers))\n",
    "print(evens)  # Output: [2, 4, 6]"
   ]
  },
  {
   "cell_type": "code",
   "execution_count": null,
   "metadata": {},
   "outputs": [
    {
     "name": "stdout",
     "output_type": "stream",
     "text": [
      "['Charlie', 'Alice', 'Dave', 'Bob']\n"
     ]
    }
   ],
   "source": [
    "# sorted function with lambda\n",
    "names = [\"Alice\", \"Bob\", \"Charlie\", \"Dave\"]\n",
    "sorted_names = sorted(names, key=lambda x: len(x), reverse=True)\n",
    "print(sorted_names)  # Output: ['Bob', 'Dave', 'Alice', 'Charlie']"
   ]
  },
  {
   "cell_type": "markdown",
   "metadata": {},
   "source": [
    "### Practical Examples"
   ]
  },
  {
   "cell_type": "markdown",
   "metadata": {},
   "source": [
    "Example 1: Sorting a List of Tuples\n"
   ]
  },
  {
   "cell_type": "code",
   "execution_count": 14,
   "metadata": {},
   "outputs": [
    {
     "name": "stdout",
     "output_type": "stream",
     "text": [
      "[('Alice', 24), ('Bob', 20), ('Charlie', 23)]\n"
     ]
    }
   ],
   "source": [
    "students = [(\"Alice\", 24), (\"Bob\", 20), (\"Charlie\", 23)]\n",
    "sorted_students = sorted(students, key=lambda x: x[0], reverse=False)\n",
    "print(sorted_students)\n",
    "# Output: [('Bob', 20), ('Charlie', 23), ('Alice', 24)]"
   ]
  },
  {
   "cell_type": "markdown",
   "metadata": {},
   "source": [
    "Example 2: Using Lambdas in List Comprehensions"
   ]
  },
  {
   "cell_type": "code",
   "execution_count": 15,
   "metadata": {},
   "outputs": [
    {
     "name": "stdout",
     "output_type": "stream",
     "text": [
      "[2, 4, 6, 8]\n"
     ]
    }
   ],
   "source": [
    "numbers = [1, 2, 3, 4]\n",
    "doubled = [(lambda x: x * 2)(x) for x in numbers]\n",
    "print(doubled)  # Output: [2, 4, 6, 8]"
   ]
  },
  {
   "cell_type": "markdown",
   "metadata": {},
   "source": [
    "### Exercise: Creating Lambda Functions\n",
    "\n",
    "Let’s create a lambda function to check if a number is a multiple of 3. If it is, it should return True, otherwise, False.\n",
    "\n",
    "Instructions:\n",
    "\n",
    "1. Define a lambda function is_multiple_of_three.\n",
    "2. Test it with the number 9 (expect True) and the number 10 (expect False).\n"
   ]
  },
  {
   "cell_type": "code",
   "execution_count": 1,
   "metadata": {},
   "outputs": [
    {
     "name": "stdout",
     "output_type": "stream",
     "text": [
      "True\n",
      "False\n"
     ]
    }
   ],
   "source": [
    "is_multiple_of_three = lambda x: x % 3 == 0\n",
    "print(is_multiple_of_three(9))   # Output: True\n",
    "print(is_multiple_of_three(10))  # Output: False\n"
   ]
  },
  {
   "cell_type": "markdown",
   "metadata": {},
   "source": [
    "### Limitations of Lambda Functions\n",
    "\n",
    "Lambda functions are concise, but they have a few limitations:\n",
    "\n",
    "* **Single Expression Only**: Lambda functions can only contain a single expression, which means no complex logic or multiple statements.\n",
    "\n",
    "* **Limited Readability**: Overusing lambda functions in complex expressions can make code harder to read.\n",
    "\n",
    "* **No Annotations**: Lambda functions don’t support type annotations, which can be a drawback for more complex functions. <br><br>\n",
    "\n",
    "In summary, use lambda functions for short, simple tasks, and stick to def functions for anything more complex."
   ]
  },
  {
   "cell_type": "markdown",
   "metadata": {},
   "source": [
    "### Best Practices for Using Lambda Functions\n",
    "\n",
    "Let’s go over a few best practices for working with lambda functions:\n",
    "\n",
    "* **Keep it Simple**: Only use lambdas for simple operations. If it’s more complex, use a def function.\n",
    "* **Avoid Overuse**: Use lambdas when you need a short function temporarily, such as in map or sorted.\n",
    "* **Focus on Readability**: If a lambda function makes code less readable, consider using a named function instead."
   ]
  },
  {
   "cell_type": "markdown",
   "metadata": {},
   "source": [
    "### Example of clear vs. unclear lambda use:"
   ]
  },
  {
   "cell_type": "code",
   "execution_count": 16,
   "metadata": {},
   "outputs": [],
   "source": [
    "# Clear\n",
    "evens = list(filter(lambda x: x % 2 == 0, range(10)))\n",
    "\n",
    "# Unclear\n",
    "nested = lambda x: lambda y: x * y\n"
   ]
  }
 ],
 "metadata": {
  "kernelspec": {
   "display_name": "venv",
   "language": "python",
   "name": "python3"
  },
  "language_info": {
   "codemirror_mode": {
    "name": "ipython",
    "version": 3
   },
   "file_extension": ".py",
   "mimetype": "text/x-python",
   "name": "python",
   "nbconvert_exporter": "python",
   "pygments_lexer": "ipython3",
   "version": "3.11.1"
  }
 },
 "nbformat": 4,
 "nbformat_minor": 2
}
