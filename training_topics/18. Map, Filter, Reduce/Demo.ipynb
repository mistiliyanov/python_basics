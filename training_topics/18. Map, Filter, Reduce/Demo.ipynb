{
 "cells": [
  {
   "cell_type": "code",
   "execution_count": 3,
   "metadata": {},
   "outputs": [],
   "source": [
    "# My imports\n",
    "# import reduce\n",
    "from functools import reduce"
   ]
  },
  {
   "cell_type": "markdown",
   "metadata": {},
   "source": [
    "# Map, Filter, Reduce\n"
   ]
  },
  {
   "cell_type": "markdown",
   "metadata": {},
   "source": [
    "### Introduction to Functional Programming in Python\n",
    "\n",
    "**Functional programming** is a paradigm focused on using functions to process data. Python supports functional programming, which allows us to perform operations like mapping, filtering, and reducing with ease and conciseness.\n",
    "\n"
   ]
  },
  {
   "cell_type": "markdown",
   "metadata": {},
   "source": [
    "## Syntax:"
   ]
  },
  {
   "cell_type": "markdown",
   "metadata": {},
   "source": [
    "\n",
    "Map:\n",
    "\n",
    "```python\n",
    "map(function, iterable)\n",
    "```\n",
    "\n",
    "The map function applies a given function to every item in an iterable (like a list) and returns a map object with the results.\n",
    "\n",
    "* **Function**: The function to apply to each item.\n",
    "* **Iterable**: The list or collection to which the function will be applied.\n"
   ]
  },
  {
   "cell_type": "code",
   "execution_count": 1,
   "metadata": {},
   "outputs": [
    {
     "name": "stdout",
     "output_type": "stream",
     "text": [
      "[1, 4, 9, 16]\n"
     ]
    }
   ],
   "source": [
    "numbers = [1, 2, 3, 4]\n",
    "squares = list(map(lambda x: x * x, numbers))\n",
    "print(squares)  # Output: [1, 4, 9, 16]"
   ]
  },
  {
   "cell_type": "markdown",
   "metadata": {},
   "source": [
    "Here, we’re using map with a lambda function to calculate the square of each number in the list."
   ]
  },
  {
   "cell_type": "markdown",
   "metadata": {},
   "source": [
    "Filter:\n",
    "```python\n",
    "filter(function, iterable)\n",
    "```\n",
    "The filter function selects elements from an iterable based on whether they meet a certain condition.\n",
    "\n",
    "* **Function**: The function that defines the condition. It should return True or False.\n",
    "* **Iterable**: The list or collection to be filtered."
   ]
  },
  {
   "cell_type": "code",
   "execution_count": 2,
   "metadata": {},
   "outputs": [
    {
     "name": "stdout",
     "output_type": "stream",
     "text": [
      "[2, 4, 6]\n"
     ]
    }
   ],
   "source": [
    "numbers = [1, 2, 3, 4, 5, 6]\n",
    "evens = list(filter(lambda x: x % 2 == 0, numbers))\n",
    "print(evens)  # Output: [2, 4, 6]"
   ]
  },
  {
   "cell_type": "markdown",
   "metadata": {},
   "source": [
    "In this example, filter is used to create a list of only even numbers."
   ]
  },
  {
   "cell_type": "markdown",
   "metadata": {},
   "source": [
    "Reduce:\n",
    "\n",
    "\n",
    "```python\n",
    "# import reduce:\n",
    "from functools import reduce\n",
    "# usage\n",
    "reduce(function, iterable)\n",
    "```\n",
    "\n",
    "Unlike map and filter, the reduce function isn’t built into Python’s core but is available in the functools module. It applies a function cumulatively to items in a sequence, reducing the sequence to a single value.\n",
    "\n",
    "\n",
    "* **Function**: The function that specifies how to reduce items, taking two arguments.\n",
    "* **Iterable**: The collection to reduce."
   ]
  },
  {
   "cell_type": "code",
   "execution_count": 4,
   "metadata": {},
   "outputs": [
    {
     "name": "stdout",
     "output_type": "stream",
     "text": [
      "24\n"
     ]
    }
   ],
   "source": [
    "numbers = [1, 2, 3, 4]\n",
    "product = reduce(lambda x, y: x * y, numbers)\n",
    "print(product)  # Output: 24"
   ]
  },
  {
   "cell_type": "markdown",
   "metadata": {},
   "source": [
    "This example multiplies all the elements in the list together.\n"
   ]
  },
  {
   "cell_type": "markdown",
   "metadata": {},
   "source": [
    "### Practical Example – Combining map, filter, and reduce\n"
   ]
  },
  {
   "cell_type": "code",
   "execution_count": 5,
   "metadata": {},
   "outputs": [
    {
     "name": "stdout",
     "output_type": "stream",
     "text": [
      "18\n"
     ]
    }
   ],
   "source": [
    "numbers = [1, 3, 5, 7, 9]\n",
    "\n",
    "# Step 1: Double each number\n",
    "doubled = list(map(lambda x: x * 2, numbers))\n",
    "\n",
    "# Step 2: Filter out numbers greater than 10\n",
    "filtered = list(filter(lambda x: x <= 10, doubled))\n",
    "\n",
    "# Step 3: Sum the remaining numbers\n",
    "result = reduce(lambda x, y: x + y, filtered)\n",
    "\n",
    "print(result)  # Output: 18"
   ]
  },
  {
   "cell_type": "code",
   "execution_count": 6,
   "metadata": {},
   "outputs": [
    {
     "data": {
      "text/plain": [
       "[2, 6, 10, 14, 18]"
      ]
     },
     "execution_count": 6,
     "metadata": {},
     "output_type": "execute_result"
    }
   ],
   "source": [
    "doubled"
   ]
  },
  {
   "cell_type": "code",
   "execution_count": 7,
   "metadata": {},
   "outputs": [
    {
     "data": {
      "text/plain": [
       "[2, 6, 10]"
      ]
     },
     "execution_count": 7,
     "metadata": {},
     "output_type": "execute_result"
    }
   ],
   "source": [
    "filtered"
   ]
  },
  {
   "cell_type": "code",
   "execution_count": 8,
   "metadata": {},
   "outputs": [
    {
     "data": {
      "text/plain": [
       "18"
      ]
     },
     "execution_count": 8,
     "metadata": {},
     "output_type": "execute_result"
    }
   ],
   "source": [
    "result"
   ]
  },
  {
   "cell_type": "markdown",
   "metadata": {},
   "source": [
    "### Exercise: Using Map, Filter, and Reduce"
   ]
  },
  {
   "cell_type": "code",
   "execution_count": 9,
   "metadata": {},
   "outputs": [
    {
     "name": "stdout",
     "output_type": "stream",
     "text": [
      "54\n"
     ]
    }
   ],
   "source": [
    "numbers = [3, 5, 9, 12, 15, 18]\n",
    "\n",
    "# Step 1: Triple each number\n",
    "tripled = list(map(lambda x: x * 3, numbers))\n",
    "\n",
    "# Step 2: Filter numbers divisible by 3\n",
    "divisible_by_three = list(filter(lambda x: x % 3 == 0, tripled))\n",
    "\n",
    "# Step 3: Find the maximum\n",
    "max_number = reduce(lambda x, y: x if x > y else y, divisible_by_three)\n",
    "\n",
    "print(max_number)  # Output should be 54"
   ]
  },
  {
   "cell_type": "code",
   "execution_count": 10,
   "metadata": {},
   "outputs": [
    {
     "data": {
      "text/plain": [
       "[9, 15, 27, 36, 45, 54]"
      ]
     },
     "execution_count": 10,
     "metadata": {},
     "output_type": "execute_result"
    }
   ],
   "source": [
    "tripled"
   ]
  },
  {
   "cell_type": "code",
   "execution_count": 11,
   "metadata": {},
   "outputs": [
    {
     "data": {
      "text/plain": [
       "[9, 15, 27, 36, 45, 54]"
      ]
     },
     "execution_count": 11,
     "metadata": {},
     "output_type": "execute_result"
    }
   ],
   "source": [
    "divisible_by_three"
   ]
  },
  {
   "cell_type": "code",
   "execution_count": 12,
   "metadata": {},
   "outputs": [
    {
     "data": {
      "text/plain": [
       "54"
      ]
     },
     "execution_count": 12,
     "metadata": {},
     "output_type": "execute_result"
    }
   ],
   "source": [
    "max_number"
   ]
  },
  {
   "cell_type": "markdown",
   "metadata": {},
   "source": [
    "### Best Practices and Considerations\n",
    "\n",
    "Some best practices and tips when working with map, filter, and reduce:\n",
    "\n",
    "* **Keep functions simple**: Avoid complex logic inside lambda expressions. If it’s too complex, consider a regular function with def.\n",
    "* **Optimize for readability**: Code readability matters. Don’t overuse these functions at the cost of making your code difficult to understand.\n",
    "* **Use list comprehensions when possible**: For simple cases, list comprehensions can be more readable than map and filter. <br><br>\n",
    "Always consider readability when combining these functions, as complex nested expressions can be harder to debug.\n",
    "\n"
   ]
  }
 ],
 "metadata": {
  "kernelspec": {
   "display_name": "venv",
   "language": "python",
   "name": "python3"
  },
  "language_info": {
   "codemirror_mode": {
    "name": "ipython",
    "version": 3
   },
   "file_extension": ".py",
   "mimetype": "text/x-python",
   "name": "python",
   "nbconvert_exporter": "python",
   "pygments_lexer": "ipython3",
   "version": "3.11.1"
  }
 },
 "nbformat": 4,
 "nbformat_minor": 2
}
