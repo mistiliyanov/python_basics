{
 "cells": [
  {
   "cell_type": "code",
   "execution_count": 1,
   "metadata": {},
   "outputs": [],
   "source": [
    "# My imports"
   ]
  },
  {
   "cell_type": "markdown",
   "metadata": {},
   "source": [
    "## Loops"
   ]
  },
  {
   "cell_type": "markdown",
   "metadata": {},
   "source": [
    "* Loops allow you to execute a block of code repeatedly, based on a condition or over a sequence of items.\n",
    "* There are two main types of loops in Python:\n",
    "    * for loops: Used to iterate over a sequence like a list, tuple, string, or range.\n",
    "    * while loops: Repeats as long as a condition is True.\n"
   ]
  },
  {
   "cell_type": "code",
   "execution_count": null,
   "metadata": {},
   "outputs": [],
   "source": [
    "# Repeat a task multiple times using a loop\n",
    "# for item in sequence:\n",
    "    # Perform an action"
   ]
  },
  {
   "cell_type": "markdown",
   "metadata": {},
   "source": [
    "### *for* Loops\n",
    "\n",
    "* A for loop is used to iterate over sequences such as lists, strings, or ranges of numbers.\n",
    "* It is especially useful when you know the exact number of iterations in advance."
   ]
  },
  {
   "cell_type": "code",
   "execution_count": 2,
   "metadata": {},
   "outputs": [
    {
     "data": {
      "text/plain": [
       "[1, 2, 3, 4, 5]"
      ]
     },
     "execution_count": 2,
     "metadata": {},
     "output_type": "execute_result"
    }
   ],
   "source": [
    "list(range(1, 6))\n",
    "\n"
   ]
  },
  {
   "cell_type": "code",
   "execution_count": 3,
   "metadata": {},
   "outputs": [
    {
     "name": "stdout",
     "output_type": "stream",
     "text": [
      "apple\n",
      "banana\n",
      "cherry\n",
      "1\n",
      "2\n",
      "3\n",
      "4\n",
      "5\n"
     ]
    }
   ],
   "source": [
    "# Iterating over a list\n",
    "fruits = [\"apple\", \"banana\", \"cherry\"]\n",
    "for fruit in fruits:\n",
    "    print(fruit)\n",
    "    \n",
    "# Iterating over a range of numbers\n",
    "for i in range(1, 6):\n",
    "    print(i)"
   ]
  },
  {
   "cell_type": "markdown",
   "metadata": {},
   "source": [
    "* The first loop prints each fruit from the fruits list.\n",
    "* The second loop prints numbers from 1 to 5 using the range() function."
   ]
  },
  {
   "cell_type": "markdown",
   "metadata": {},
   "source": [
    "## *while* Loops\n",
    "\n",
    "* A while loop keeps executing as long as its condition remains True.\n",
    "* It’s great for situations where the number of iterations isn’t predetermined, but depends on some condition."
   ]
  },
  {
   "cell_type": "code",
   "execution_count": 4,
   "metadata": {},
   "outputs": [
    {
     "name": "stdout",
     "output_type": "stream",
     "text": [
      "1\n",
      "2\n",
      "3\n",
      "4\n",
      "5\n"
     ]
    }
   ],
   "source": [
    "# Example of a while loop\n",
    "count = 1\n",
    "while count <= 5:\n",
    "    print(count)\n",
    "    count += 1  # Increment the counter"
   ]
  },
  {
   "cell_type": "markdown",
   "metadata": {},
   "source": [
    "In this example, the while loop continues to execute as long as count is less than or equal to 5."
   ]
  },
  {
   "cell_type": "markdown",
   "metadata": {},
   "source": [
    "## Loop Control: break, continue, and else\n",
    "\n",
    "* Python offers additional keywords to control the flow within loops:\n",
    "    * break: Exits the loop prematurely.\n",
    "    * continue: Skips the current iteration and moves to the next one.\n",
    "    * else: Executes after the loop finishes, but only if the loop wasn’t interrupted by a break."
   ]
  },
  {
   "cell_type": "markdown",
   "metadata": {},
   "source": [
    "Using *break* to exit a loop early:"
   ]
  },
  {
   "cell_type": "code",
   "execution_count": 5,
   "metadata": {},
   "outputs": [
    {
     "name": "stdout",
     "output_type": "stream",
     "text": [
      "1\n",
      "2\n",
      "3\n",
      "4\n"
     ]
    }
   ],
   "source": [
    "for number in range(1, 10):\n",
    "    if number == 5:\n",
    "        break  # Exit the loop\n",
    "    print(number)"
   ]
  },
  {
   "cell_type": "markdown",
   "metadata": {},
   "source": [
    "Using *continue* to skip an iteration:"
   ]
  },
  {
   "cell_type": "code",
   "execution_count": 6,
   "metadata": {},
   "outputs": [
    {
     "name": "stdout",
     "output_type": "stream",
     "text": [
      "1\n",
      "2\n",
      "3\n",
      "4\n",
      "6\n",
      "7\n",
      "8\n",
      "9\n"
     ]
    }
   ],
   "source": [
    "for number in range(1, 10):\n",
    "    if number == 5:\n",
    "        continue  # Skip the rest of the code in this iteration\n",
    "    print(number)"
   ]
  },
  {
   "cell_type": "markdown",
   "metadata": {},
   "source": [
    "Using *else* with a loop:"
   ]
  },
  {
   "cell_type": "code",
   "execution_count": 8,
   "metadata": {},
   "outputs": [
    {
     "name": "stdout",
     "output_type": "stream",
     "text": [
      "1\n",
      "2\n"
     ]
    }
   ],
   "source": [
    "for number in range(1, 5):\n",
    "    # if number == 3:\n",
    "    #     break  # Exit the loop\n",
    "    print(number)\n",
    "else:\n",
    "    print(\"Loop completed successfully!\")"
   ]
  },
  {
   "cell_type": "markdown",
   "metadata": {},
   "source": [
    "* The break statement stops the loop when number == 5.\n",
    "* The continue statement skips printing when number == 5.\n",
    "* The else clause runs when the loop completes without being interrupted."
   ]
  },
  {
   "cell_type": "markdown",
   "metadata": {},
   "source": [
    "## Practical Examples\n",
    "\n",
    "Let’s look at some practical examples of using loops."
   ]
  },
  {
   "cell_type": "code",
   "execution_count": 9,
   "metadata": {},
   "outputs": [
    {
     "name": "stdout",
     "output_type": "stream",
     "text": [
      "Total sum: 15\n"
     ]
    }
   ],
   "source": [
    "# Example 1: Summing Numbers with a for Loop\n",
    "\n",
    "numbers = [1, 2, 3, 4, 5]\n",
    "total = 0\n",
    "\n",
    "for num in numbers:\n",
    "    total += num\n",
    "\n",
    "print(\"Total sum:\", total)  # Output: 15"
   ]
  },
  {
   "cell_type": "code",
   "execution_count": 10,
   "metadata": {},
   "outputs": [
    {
     "name": "stdout",
     "output_type": "stream",
     "text": [
      "Access granted.\n"
     ]
    }
   ],
   "source": [
    "# Example 2: Simple Password Checker with a while Loop\n",
    "\n",
    "correct_password = \"python123\"\n",
    "attempt = \"\"\n",
    "\n",
    "while attempt != correct_password:\n",
    "    attempt = input(\"Enter password: \")\n",
    "\n",
    "print(\"Access granted.\")"
   ]
  },
  {
   "cell_type": "code",
   "execution_count": 1,
   "metadata": {},
   "outputs": [
    {
     "name": "stdout",
     "output_type": "stream",
     "text": [
      "1 x 1 = 1\n",
      "1 x 2 = 2\n",
      "1 x 3 = 3\n",
      "2 x 1 = 2\n",
      "2 x 2 = 4\n",
      "2 x 3 = 6\n",
      "3 x 1 = 3\n",
      "3 x 2 = 6\n",
      "3 x 3 = 9\n"
     ]
    }
   ],
   "source": [
    "# Example 3: Nested for Loop for a Multiplication Table\n",
    "\n",
    "for i in range(1, 4):\n",
    "    for j in range(1, 4):\n",
    "        print(f\"{i} x {j} = {i * j}\")"
   ]
  },
  {
   "cell_type": "markdown",
   "metadata": {},
   "source": [
    "## Exercises\n",
    "\n",
    "Now, let’s try some exercises to practice what we’ve learned."
   ]
  },
  {
   "cell_type": "markdown",
   "metadata": {},
   "source": [
    "Exercise 1: Loop Through a List"
   ]
  },
  {
   "cell_type": "code",
   "execution_count": 2,
   "metadata": {},
   "outputs": [
    {
     "name": "stdout",
     "output_type": "stream",
     "text": [
      "dog\n",
      "cat\n",
      "elephant\n"
     ]
    }
   ],
   "source": [
    "# Write a loop that prints each item in the list.\n",
    "animals = [\"dog\", \"cat\", \"elephant\"]\n",
    "\n",
    "# Your code here\n",
    "for animal in animals:\n",
    "    print(animal)\n"
   ]
  },
  {
   "cell_type": "markdown",
   "metadata": {},
   "source": [
    "Exercise 2: Find the Factorial of a Number"
   ]
  },
  {
   "cell_type": "code",
   "execution_count": 3,
   "metadata": {},
   "outputs": [
    {
     "name": "stdout",
     "output_type": "stream",
     "text": [
      "The factorial of 5 is 120\n"
     ]
    }
   ],
   "source": [
    "# Write a program that uses a loop to calculate the factorial of a given number.\n",
    "number = 5\n",
    "factorial = 1\n",
    "\n",
    "# Your code here\n",
    "for i in range(1, number + 1):\n",
    "    factorial *= i\n",
    "\n",
    "print(f\"The factorial of {number} is {factorial}\")\n"
   ]
  },
  {
   "cell_type": "markdown",
   "metadata": {},
   "source": [
    "Exercise 3: Guess the Number Game"
   ]
  },
  {
   "cell_type": "code",
   "execution_count": 5,
   "metadata": {},
   "outputs": [
    {
     "name": "stdout",
     "output_type": "stream",
     "text": [
      "Congratulations, you guessed it!\n"
     ]
    }
   ],
   "source": [
    "# Create a guessing game where the user must guess a number between 1 and 10.\n",
    "import random\n",
    "\n",
    "secret_number = random.randint(1, 10)\n",
    "guess = 0\n",
    "\n",
    "while guess != secret_number:\n",
    "    guess = int(input(\"Guess the number (1-10): \"))\n",
    "\n",
    "print(\"Congratulations, you guessed it!\")\n"
   ]
  },
  {
   "cell_type": "markdown",
   "metadata": {},
   "source": [
    "## Q&A and Troubleshooting\n",
    "\n",
    "* If you’re having trouble with the exercises, here are a few tips:\n",
    "    * Infinite loops: Make sure the condition in a while loop will eventually become False to avoid infinite loops.\n",
    "    * Loop counters: Remember to update loop counters (i += 1) in while loops to ensure the loop progresses.\n",
    "    * Indentation: Ensure all code within the loop is correctly indented."
   ]
  },
  {
   "cell_type": "markdown",
   "metadata": {},
   "source": [
    "### Summary\n",
    "\n",
    "* Today, we explored loops, which are crucial for repeating tasks in Python.\n",
    "* Until next time, try writing a loop that processes a list of numbers, finds the largest and smallest, and sums them all.\n",
    "* Next week, we’ll dive into functions, which allow you to write reusable code blocks and make your programs more modular.\n",
    "\n",
    "### Thank you for attending! See you next week!"
   ]
  }
 ],
 "metadata": {
  "kernelspec": {
   "display_name": "venv",
   "language": "python",
   "name": "python3"
  },
  "language_info": {
   "codemirror_mode": {
    "name": "ipython",
    "version": 3
   },
   "file_extension": ".py",
   "mimetype": "text/x-python",
   "name": "python",
   "nbconvert_exporter": "python",
   "pygments_lexer": "ipython3",
   "version": "3.11.1"
  }
 },
 "nbformat": 4,
 "nbformat_minor": 2
}
