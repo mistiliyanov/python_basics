{
 "cells": [
  {
   "cell_type": "code",
   "execution_count": 1,
   "metadata": {},
   "outputs": [],
   "source": [
    "# My imports"
   ]
  },
  {
   "cell_type": "markdown",
   "metadata": {},
   "source": [
    "## Sets"
   ]
  },
  {
   "cell_type": "markdown",
   "metadata": {},
   "source": [
    "### What are Sets?\n",
    "\n",
    "* A set in Python is an unordered collection of unique elements.\n",
    "* Sets are useful when you need to store items without duplicates and perform operations like union, intersection, and difference.\n",
    "* Sets are mutable, meaning you can add or remove elements after creation."
   ]
  },
  {
   "cell_type": "code",
   "execution_count": 3,
   "metadata": {},
   "outputs": [],
   "source": [
    "# Creating a set\n",
    "fruits = {\"apple\", \"banana\", \"cherry\", \"banana\", \"banana\", \"banana\", \"banana\"}\n",
    "numbers = {1, 2, 3, 4, 5}"
   ]
  },
  {
   "cell_type": "code",
   "execution_count": 4,
   "metadata": {},
   "outputs": [
    {
     "name": "stdout",
     "output_type": "stream",
     "text": [
      "{'banana', 'cherry', 'apple'}\n"
     ]
    }
   ],
   "source": [
    "print(fruits)"
   ]
  },
  {
   "cell_type": "markdown",
   "metadata": {},
   "source": [
    "### Creating and Using Sets\n",
    "\n",
    "\n",
    "* Sets are created by placing elements inside curly braces {} or by using the set() function.\n",
    "* Unlike lists or tuples, sets do not maintain the order of elements, and duplicate elements are automatically removed."
   ]
  },
  {
   "cell_type": "code",
   "execution_count": 5,
   "metadata": {},
   "outputs": [
    {
     "name": "stdout",
     "output_type": "stream",
     "text": [
      "Fruits set: {'banana', 'cherry', 'apple'}\n"
     ]
    }
   ],
   "source": [
    "# Creating a set with curly braces\n",
    "fruits = {\"apple\", \"banana\", \"cherry\", \"apple\"}\n",
    "print(\"Fruits set:\", fruits)  # Output: {'banana', 'cherry', 'apple'}"
   ]
  },
  {
   "cell_type": "code",
   "execution_count": 6,
   "metadata": {},
   "outputs": [],
   "source": [
    "empty_set = set()"
   ]
  },
  {
   "cell_type": "code",
   "execution_count": 7,
   "metadata": {},
   "outputs": [
    {
     "name": "stdout",
     "output_type": "stream",
     "text": [
      "set()\n"
     ]
    }
   ],
   "source": [
    "print(empty_set)"
   ]
  },
  {
   "cell_type": "code",
   "execution_count": 13,
   "metadata": {},
   "outputs": [],
   "source": [
    "num_set = set([1, 6, 4, 5, 4, 2])"
   ]
  },
  {
   "cell_type": "code",
   "execution_count": 14,
   "metadata": {},
   "outputs": [
    {
     "name": "stdout",
     "output_type": "stream",
     "text": [
      "{1, 2, 4, 5, 6}\n"
     ]
    }
   ],
   "source": [
    "print(num_set)"
   ]
  },
  {
   "cell_type": "code",
   "execution_count": 15,
   "metadata": {},
   "outputs": [],
   "source": [
    "this_is_list = list(num_set)"
   ]
  },
  {
   "cell_type": "code",
   "execution_count": 16,
   "metadata": {},
   "outputs": [
    {
     "name": "stdout",
     "output_type": "stream",
     "text": [
      "[1, 2, 4, 5, 6]\n"
     ]
    }
   ],
   "source": [
    "print(this_is_list)"
   ]
  },
  {
   "cell_type": "markdown",
   "metadata": {},
   "source": [
    "### Set Operations\n",
    "\n",
    "* Sets support several operations that are commonly used in mathematics, such as union, intersection, and difference.\n",
    "* These operations allow you to compare sets and find common or unique elements.\n"
   ]
  },
  {
   "cell_type": "code",
   "execution_count": 17,
   "metadata": {},
   "outputs": [
    {
     "name": "stdout",
     "output_type": "stream",
     "text": [
      "After adding 'orange': {'banana', 'orange', 'cherry', 'apple'}\n"
     ]
    }
   ],
   "source": [
    "# Adding elements to a set\n",
    "fruits.add(\"orange\")\n",
    "print(\"After adding 'orange':\", fruits)  # Output: {'banana', 'cherry', 'apple', 'orange'}"
   ]
  },
  {
   "cell_type": "code",
   "execution_count": 18,
   "metadata": {},
   "outputs": [
    {
     "name": "stdout",
     "output_type": "stream",
     "text": [
      "After removing 'banana': {'orange', 'cherry', 'apple'}\n"
     ]
    }
   ],
   "source": [
    "# Removing elements from a set\n",
    "fruits.remove(\"banana\")\n",
    "print(\"After removing 'banana':\", fruits)  # Output: {'cherry', 'apple', 'orange'}"
   ]
  },
  {
   "cell_type": "code",
   "execution_count": 19,
   "metadata": {},
   "outputs": [],
   "source": [
    "set_a = {1, 2, 3, 4}\n",
    "set_b = {3, 4, 5, 6}"
   ]
  },
  {
   "cell_type": "code",
   "execution_count": 20,
   "metadata": {},
   "outputs": [
    {
     "name": "stdout",
     "output_type": "stream",
     "text": [
      "{1, 2, 3, 4}\n",
      "{3, 4, 5, 6}\n"
     ]
    }
   ],
   "source": [
    "print(set_a)\n",
    "print(set_b)"
   ]
  },
  {
   "cell_type": "code",
   "execution_count": 21,
   "metadata": {},
   "outputs": [
    {
     "name": "stdout",
     "output_type": "stream",
     "text": [
      "Union: {1, 2, 3, 4, 5, 6}\n"
     ]
    }
   ],
   "source": [
    "union_set = set_a | set_b\n",
    "print(\"Union:\", union_set)  # Output: {1, 2, 3, 4, 5, 6}"
   ]
  },
  {
   "cell_type": "code",
   "execution_count": 22,
   "metadata": {},
   "outputs": [
    {
     "name": "stdout",
     "output_type": "stream",
     "text": [
      "Intersection: {3, 4}\n"
     ]
    }
   ],
   "source": [
    "# Intersection: elements in both sets\n",
    "intersection_set = set_a & set_b\n",
    "print(\"Intersection:\", intersection_set)  # Output: {3, 4}"
   ]
  },
  {
   "cell_type": "code",
   "execution_count": 23,
   "metadata": {},
   "outputs": [
    {
     "name": "stdout",
     "output_type": "stream",
     "text": [
      "Difference (A - B): {1, 2}\n"
     ]
    }
   ],
   "source": [
    "# Difference: elements in set_a but not in set_b\n",
    "difference_set = set_a - set_b\n",
    "print(\"Difference (A - B):\", difference_set)  # Output: {1, 2}"
   ]
  },
  {
   "cell_type": "code",
   "execution_count": 24,
   "metadata": {},
   "outputs": [
    {
     "name": "stdout",
     "output_type": "stream",
     "text": [
      "Difference (B - A): {5, 6}\n"
     ]
    }
   ],
   "source": [
    "difference_set = set_b - set_a \n",
    "print(\"Difference (B - A):\", difference_set)  # Output: {1, 2}"
   ]
  },
  {
   "cell_type": "code",
   "execution_count": 25,
   "metadata": {},
   "outputs": [
    {
     "name": "stdout",
     "output_type": "stream",
     "text": [
      "Symmetric Difference: {1, 2, 5, 6}\n"
     ]
    }
   ],
   "source": [
    "# Symmetric Difference: elements in either set, but not both\n",
    "symmetric_difference_set = set_a ^ set_b\n",
    "print(\"Symmetric Difference:\", symmetric_difference_set)  # Output: {1, 2, 5, 6}"
   ]
  },
  {
   "cell_type": "markdown",
   "metadata": {},
   "source": [
    "# Set Methods\n",
    "\n",
    "* Python provides various methods to work with sets, such as adding and removing elements, checking for membership, and clearing the set."
   ]
  },
  {
   "cell_type": "code",
   "execution_count": 26,
   "metadata": {},
   "outputs": [
    {
     "name": "stdout",
     "output_type": "stream",
     "text": [
      "Is apple in fruits? True\n"
     ]
    }
   ],
   "source": [
    "fruits = {\"apple\", \"banana\", \"cherry\"}\n",
    "\n",
    "# Check if an element is in the set\n",
    "is_apple_in_fruits = \"apple\" in fruits\n",
    "print(\"Is apple in fruits?\", is_apple_in_fruits)  # Output: True"
   ]
  },
  {
   "cell_type": "code",
   "execution_count": 27,
   "metadata": {},
   "outputs": [
    {
     "name": "stdout",
     "output_type": "stream",
     "text": [
      "After update: {'apple', 'orange', 'grape', 'banana', 'cherry'}\n"
     ]
    }
   ],
   "source": [
    "# Add multiple elements to a set\n",
    "fruits.update([\"orange\", \"grape\", \"apple\"])\n",
    "print(\"After update:\", fruits)  # Output: {'orange', 'apple', 'grape', 'cherry', 'banana'}"
   ]
  },
  {
   "cell_type": "code",
   "execution_count": 30,
   "metadata": {},
   "outputs": [
    {
     "ename": "KeyError",
     "evalue": "'banana'",
     "output_type": "error",
     "traceback": [
      "\u001b[0;31m---------------------------------------------------------------------------\u001b[0m",
      "\u001b[0;31mKeyError\u001b[0m                                  Traceback (most recent call last)",
      "Cell \u001b[0;32mIn[30], line 2\u001b[0m\n\u001b[1;32m      1\u001b[0m \u001b[38;5;66;03m# Remove an element (raises an error if the element is not present)\u001b[39;00m\n\u001b[0;32m----> 2\u001b[0m \u001b[43mfruits\u001b[49m\u001b[38;5;241;43m.\u001b[39;49m\u001b[43mremove\u001b[49m\u001b[43m(\u001b[49m\u001b[38;5;124;43m\"\u001b[39;49m\u001b[38;5;124;43mbanana\u001b[39;49m\u001b[38;5;124;43m\"\u001b[39;49m\u001b[43m)\u001b[49m\n\u001b[1;32m      3\u001b[0m \u001b[38;5;28mprint\u001b[39m(\u001b[38;5;124m\"\u001b[39m\u001b[38;5;124mAfter removing banana:\u001b[39m\u001b[38;5;124m\"\u001b[39m, fruits)  \u001b[38;5;66;03m# Output: {'orange', 'apple', 'grape', 'cherry'}\u001b[39;00m\n",
      "\u001b[0;31mKeyError\u001b[0m: 'banana'"
     ]
    }
   ],
   "source": [
    "# Remove an element (raises an error if the element is not present)\n",
    "fruits.remove(\"banana\")\n",
    "print(\"After removing banana:\", fruits)  # Output: {'orange', 'apple', 'grape', 'cherry'}"
   ]
  },
  {
   "cell_type": "code",
   "execution_count": 31,
   "metadata": {},
   "outputs": [],
   "source": [
    "# Discard an element (does not raise an error if the element is not present)\n",
    "fruits.discard(\"banana\")"
   ]
  },
  {
   "cell_type": "code",
   "execution_count": 32,
   "metadata": {},
   "outputs": [
    {
     "name": "stdout",
     "output_type": "stream",
     "text": [
      "After clearing: set()\n"
     ]
    }
   ],
   "source": [
    "# Clear the set (removes all elements)\n",
    "fruits.clear()\n",
    "print(\"After clearing:\", fruits)  # Output: set()"
   ]
  },
  {
   "cell_type": "markdown",
   "metadata": {},
   "source": [
    "### Practicle Examples"
   ]
  },
  {
   "cell_type": "markdown",
   "metadata": {},
   "source": [
    "Example 1: Removing Duplicates from a List"
   ]
  },
  {
   "cell_type": "code",
   "execution_count": 33,
   "metadata": {},
   "outputs": [
    {
     "name": "stdout",
     "output_type": "stream",
     "text": [
      "Unique numbers: {1, 2, 3, 4, 5}\n"
     ]
    }
   ],
   "source": [
    "# Given a list with duplicate elements\n",
    "numbers = [1, 2, 2, 3, 4, 4, 5]\n",
    "\n",
    "# Convert the list to a set to remove duplicates\n",
    "unique_numbers = set(numbers)\n",
    "print(\"Unique numbers:\", unique_numbers)  # Output: {1, 2, 3, 4, 5}"
   ]
  },
  {
   "cell_type": "markdown",
   "metadata": {},
   "source": [
    "Example 2: Finding Common Elements in Two Lists"
   ]
  },
  {
   "cell_type": "code",
   "execution_count": 34,
   "metadata": {},
   "outputs": [
    {
     "name": "stdout",
     "output_type": "stream",
     "text": [
      "Common students: {'Alice', 'Charlie'}\n"
     ]
    }
   ],
   "source": [
    "# Two lists of students in different classes\n",
    "class_a = [\"Alice\", \"Bob\", \"Charlie\"]\n",
    "class_b = [\"Charlie\", \"David\", \"Alice\"]\n",
    "\n",
    "# Convert lists to sets and find the intersection\n",
    "common_students = set(class_a) & set(class_b)\n",
    "print(\"Common students:\", common_students)  # Output: {'Alice', 'Charlie'}"
   ]
  },
  {
   "cell_type": "markdown",
   "metadata": {},
   "source": [
    "Example 3: Checking for Subset and Superset Relationships"
   ]
  },
  {
   "cell_type": "code",
   "execution_count": 35,
   "metadata": {},
   "outputs": [
    {
     "name": "stdout",
     "output_type": "stream",
     "text": [
      "Is set_a a subset of set_b? True\n",
      "Is set_b a superset of set_a? True\n"
     ]
    }
   ],
   "source": [
    "set_a = {1, 2, 3}\n",
    "set_b = {1, 2, 3, 4, 5}\n",
    "\n",
    "# Check if set_a is a subset of set_b\n",
    "is_subset = set_a.issubset(set_b)\n",
    "print(\"Is set_a a subset of set_b?\", is_subset)  # Output: True\n",
    "\n",
    "# Check if set_b is a superset of set_a\n",
    "is_superset = set_b.issuperset(set_a)\n",
    "print(\"Is set_b a superset of set_a?\", is_superset)  # Output: True"
   ]
  },
  {
   "cell_type": "markdown",
   "metadata": {},
   "source": [
    "### Exercises\n",
    "\n",
    "Now, let’s try some exercises to practice what we’ve learned."
   ]
  },
  {
   "cell_type": "markdown",
   "metadata": {},
   "source": [
    "Exercise 1: Create and Modify a Set"
   ]
  },
  {
   "cell_type": "code",
   "execution_count": 36,
   "metadata": {},
   "outputs": [
    {
     "name": "stdout",
     "output_type": "stream",
     "text": [
      "Updated colors: {'yellow', 'blue', 'red'}\n"
     ]
    }
   ],
   "source": [
    "# Create a set of colors\n",
    "colors = {\"red\", \"green\", \"blue\"}\n",
    "\n",
    "# Add a new color to the set\n",
    "colors.add(\"yellow\")\n",
    "\n",
    "# Remove the color \"green\" from the set\n",
    "colors.remove(\"green\")\n",
    "\n",
    "# Print the updated set\n",
    "print(\"Updated colors:\", colors)"
   ]
  },
  {
   "cell_type": "markdown",
   "metadata": {},
   "source": [
    "Exercise 2: Find the Difference Between Two Sets"
   ]
  },
  {
   "cell_type": "code",
   "execution_count": 37,
   "metadata": {},
   "outputs": [
    {
     "name": "stdout",
     "output_type": "stream",
     "text": [
      "Difference (X - Y): {10, 20}\n"
     ]
    }
   ],
   "source": [
    "# Given two sets of integers\n",
    "set_x = {10, 20, 30, 40}\n",
    "set_y = {30, 40, 50, 60}\n",
    "\n",
    "# Find the difference (elements in set_x but not in set_y)\n",
    "difference = set_x - set_y\n",
    "print(\"Difference (X - Y):\", difference)"
   ]
  },
  {
   "cell_type": "markdown",
   "metadata": {},
   "source": [
    "### Q&A and Troubleshooting\n",
    "\n",
    "* If you’re having trouble with the exercises, here are a few tips:\n",
    "    * Unordered nature: Remember that sets are unordered, so the elements may appear in any order when you print them.\n",
    "    * No duplicates: If you notice missing elements, check if there were duplicates in the original data.\n",
    "    * Methods vs. operators: Be familiar with both the methods (like issubset) and operators (like | for union) used with sets."
   ]
  },
  {
   "cell_type": "markdown",
   "metadata": {},
   "source": [
    "### Summary\n",
    "\n",
    "* Today, we explored sets, a powerful data structure in Python for storing unique elements and performing various set operations.\n",
    "* Until next time, try creating a small program that uses sets to solve a problem, such as finding unique items in a list or performing set operations on two collections of data.\n",
    "* Next week, we'll dive into control flow with if statements, a fundamental concept for making decisions in your code.\n",
    "\n",
    "### Thank you for attending! See you next week!"
   ]
  }
 ],
 "metadata": {
  "kernelspec": {
   "display_name": "venv",
   "language": "python",
   "name": "python3"
  },
  "language_info": {
   "codemirror_mode": {
    "name": "ipython",
    "version": 3
   },
   "file_extension": ".py",
   "mimetype": "text/x-python",
   "name": "python",
   "nbconvert_exporter": "python",
   "pygments_lexer": "ipython3",
   "version": "3.11.1"
  }
 },
 "nbformat": 4,
 "nbformat_minor": 2
}
