{
 "cells": [
  {
   "cell_type": "code",
   "execution_count": 1,
   "metadata": {},
   "outputs": [],
   "source": [
    "# My imports"
   ]
  },
  {
   "cell_type": "markdown",
   "metadata": {},
   "source": [
    "# File Handling"
   ]
  },
  {
   "cell_type": "markdown",
   "metadata": {},
   "source": [
    "File handling allows Python programs to interact with external files, which is crucial for working with data stored in files like text documents, CSV files, log files, etc.\n",
    "\n",
    "* Importance of File Handling:\n",
    "\n",
    "    * It lets you save data for future use.\n",
    "    * You can read and process data from external sources.\n",
    "    * It’s widely used in data science, web applications, and automation tasks.\n"
   ]
  },
  {
   "cell_type": "markdown",
   "metadata": {},
   "source": [
    "To work with files in Python, you must first open them using the built-in open() function. After finishing with the file, it’s important to close it to free up system resources."
   ]
  },
  {
   "cell_type": "markdown",
   "metadata": {},
   "source": [
    "```python\n",
    "file = open(\"filename.txt\", \"mode\")\n",
    "file.close()\n",
    "```"
   ]
  },
  {
   "cell_type": "markdown",
   "metadata": {},
   "source": [
    "There are multiple modes for handling files in Python:"
   ]
  },
  {
   "cell_type": "markdown",
   "metadata": {},
   "source": [
    "\"r\": Read (default)\n",
    "\"w\": Write (overwrites)\n",
    "\"a\": Append (adds data to the end)\n",
    "\"r+\": Read and write"
   ]
  },
  {
   "cell_type": "code",
   "execution_count": 2,
   "metadata": {},
   "outputs": [],
   "source": [
    "file = open(\"example.txt\", \"r\")\n",
    "# Perform file operations\n",
    "\n",
    "# file.close()"
   ]
  },
  {
   "cell_type": "code",
   "execution_count": 3,
   "metadata": {},
   "outputs": [],
   "source": [
    "file.close()"
   ]
  },
  {
   "cell_type": "markdown",
   "metadata": {},
   "source": [
    "Python provides a cleaner way to work with files using the with statement. The file is automatically closed when the block inside with is exited."
   ]
  },
  {
   "cell_type": "code",
   "execution_count": 4,
   "metadata": {},
   "outputs": [],
   "source": [
    "with open(\"example.txt\", \"r\") as file:\n",
    "    content = file.read()\n",
    "# No need to explicitly close the file"
   ]
  },
  {
   "cell_type": "markdown",
   "metadata": {},
   "source": [
    "### Reading from Files\n",
    "\n",
    "Let’s look at how to read from a file. There are several methods to read files in Python:\n",
    "\n",
    "* read(): Reads the entire file content.\n",
    "* readline(): Reads one line at a time.\n",
    "* readlines(): Reads all lines into a list."
   ]
  },
  {
   "cell_type": "code",
   "execution_count": 5,
   "metadata": {},
   "outputs": [
    {
     "name": "stdout",
     "output_type": "stream",
     "text": [
      "To work with files in Python, you must first open them using the built-in open() function. After finishing with the file, it’s important to close it to free up system resources.\n",
      "\n",
      "asdfas\n",
      "\n",
      "asdf\n",
      "\n",
      "asdf\n"
     ]
    }
   ],
   "source": [
    "with open(\"example.txt\", \"r\") as file:\n",
    "    content = file.read()  # Reads the entire file\n",
    "    print(content)\n",
    "    "
   ]
  },
  {
   "cell_type": "markdown",
   "metadata": {},
   "source": [
    "For large files, it’s often better to read line by line using readline() or iterate through the file object directly or use readlines() and pull all rows as list."
   ]
  },
  {
   "cell_type": "code",
   "execution_count": 6,
   "metadata": {},
   "outputs": [
    {
     "name": "stdout",
     "output_type": "stream",
     "text": [
      "To work with files in Python, you must first open them using the built-in open() function. After finishing with the file, it’s important to close it to free up system resources.\n",
      "\n"
     ]
    }
   ],
   "source": [
    "with open(\"example.txt\", \"r\") as file:\n",
    "    content = file.readline()  # Reads one row of the file\n",
    "    print(content)"
   ]
  },
  {
   "cell_type": "code",
   "execution_count": 7,
   "metadata": {},
   "outputs": [
    {
     "name": "stdout",
     "output_type": "stream",
     "text": [
      "['To work with files in Python, you must first open them using the built-in open() function. After finishing with the file, it’s important to close it to free up system resources.\\n', '\\n', 'asdfas\\n', '\\n', 'asdf\\n', '\\n', 'asdf']\n"
     ]
    }
   ],
   "source": [
    "with open(\"example.txt\", \"r\") as file:\n",
    "    content = file.readlines()  # Reads the entire file and store as list\n",
    "    print(content)"
   ]
  },
  {
   "cell_type": "markdown",
   "metadata": {},
   "source": [
    "Writing to a file allows us to save output or data for later use. You can use the following methods:\n",
    "\n",
    "* write(): Writes a string to the file.\n",
    "* writelines(): Writes a list of strings to the file."
   ]
  },
  {
   "cell_type": "code",
   "execution_count": 18,
   "metadata": {},
   "outputs": [],
   "source": [
    "with open(\"output.txt\", \"w\") as file:\n",
    "    file.write(\"Hello, World!\\n\")"
   ]
  },
  {
   "cell_type": "code",
   "execution_count": 17,
   "metadata": {},
   "outputs": [],
   "source": [
    "with open(\"output.txt\", \"w\") as file:\n",
    "    file.writelines([\"Hello, World!\\n\", \"Line 2\\n\", \"Line 3\\n\"])"
   ]
  },
  {
   "cell_type": "markdown",
   "metadata": {},
   "source": [
    "If the file doesn’t exist, it will be created. If it does exist, the content will be overwritten when using \"w\" mode. Same is valid when using \"a\" mode."
   ]
  },
  {
   "cell_type": "markdown",
   "metadata": {},
   "source": [
    "### Practical Example: Read from and Write to a File"
   ]
  },
  {
   "cell_type": "code",
   "execution_count": 19,
   "metadata": {},
   "outputs": [],
   "source": [
    "# Reading from input.txt and writing to output.txt\n",
    "with open(\"input.txt\", \"r\") as infile:\n",
    "    content = infile.read()\n",
    "\n",
    "with open(\"output.txt\", \"w\") as outfile:\n",
    "    outfile.write(content.upper())  # Writes content in uppercase"
   ]
  },
  {
   "cell_type": "markdown",
   "metadata": {},
   "source": [
    "### File Modes Recap\n",
    "\n",
    "* \"r\"\tRead (default mode)\n",
    "* \"w\"\tWrite (overwrites file)\n",
    "* \"a\"\tAppend (adds to the end)\n",
    "* \"r+\"\tRead and write\n",
    "* \"b\"\tBinary mode for non-text files"
   ]
  },
  {
   "cell_type": "markdown",
   "metadata": {},
   "source": [
    "You can combine modes. For example, \"wb\" means writing in binary mode."
   ]
  },
  {
   "cell_type": "markdown",
   "metadata": {},
   "source": [
    "### Handling Exceptions in File Operations\n",
    "It’s important to handle exceptions when working with files because many things can go wrong, like the file not existing or being inaccessible."
   ]
  },
  {
   "cell_type": "code",
   "execution_count": 20,
   "metadata": {},
   "outputs": [
    {
     "ename": "FileNotFoundError",
     "evalue": "[Errno 2] No such file or directory: 'input2.txt'",
     "output_type": "error",
     "traceback": [
      "\u001b[0;31m---------------------------------------------------------------------------\u001b[0m",
      "\u001b[0;31mFileNotFoundError\u001b[0m                         Traceback (most recent call last)",
      "Cell \u001b[0;32mIn[20], line 1\u001b[0m\n\u001b[0;32m----> 1\u001b[0m \u001b[38;5;28;01mwith\u001b[39;00m \u001b[38;5;28;43mopen\u001b[39;49m\u001b[43m(\u001b[49m\u001b[38;5;124;43m\"\u001b[39;49m\u001b[38;5;124;43minput2.txt\u001b[39;49m\u001b[38;5;124;43m\"\u001b[39;49m\u001b[43m,\u001b[49m\u001b[43m \u001b[49m\u001b[38;5;124;43m\"\u001b[39;49m\u001b[38;5;124;43mr\u001b[39;49m\u001b[38;5;124;43m\"\u001b[39;49m\u001b[43m)\u001b[49m \u001b[38;5;28;01mas\u001b[39;00m infile:\n\u001b[1;32m      2\u001b[0m     content \u001b[38;5;241m=\u001b[39m infile\u001b[38;5;241m.\u001b[39mread()\n",
      "File \u001b[0;32m~/repos/python_basics/venv/lib/python3.11/site-packages/IPython/core/interactiveshell.py:324\u001b[0m, in \u001b[0;36m_modified_open\u001b[0;34m(file, *args, **kwargs)\u001b[0m\n\u001b[1;32m    317\u001b[0m \u001b[38;5;28;01mif\u001b[39;00m file \u001b[38;5;129;01min\u001b[39;00m {\u001b[38;5;241m0\u001b[39m, \u001b[38;5;241m1\u001b[39m, \u001b[38;5;241m2\u001b[39m}:\n\u001b[1;32m    318\u001b[0m     \u001b[38;5;28;01mraise\u001b[39;00m \u001b[38;5;167;01mValueError\u001b[39;00m(\n\u001b[1;32m    319\u001b[0m         \u001b[38;5;124mf\u001b[39m\u001b[38;5;124m\"\u001b[39m\u001b[38;5;124mIPython won\u001b[39m\u001b[38;5;124m'\u001b[39m\u001b[38;5;124mt let you open fd=\u001b[39m\u001b[38;5;132;01m{\u001b[39;00mfile\u001b[38;5;132;01m}\u001b[39;00m\u001b[38;5;124m by default \u001b[39m\u001b[38;5;124m\"\u001b[39m\n\u001b[1;32m    320\u001b[0m         \u001b[38;5;124m\"\u001b[39m\u001b[38;5;124mas it is likely to crash IPython. If you know what you are doing, \u001b[39m\u001b[38;5;124m\"\u001b[39m\n\u001b[1;32m    321\u001b[0m         \u001b[38;5;124m\"\u001b[39m\u001b[38;5;124myou can use builtins\u001b[39m\u001b[38;5;124m'\u001b[39m\u001b[38;5;124m open.\u001b[39m\u001b[38;5;124m\"\u001b[39m\n\u001b[1;32m    322\u001b[0m     )\n\u001b[0;32m--> 324\u001b[0m \u001b[38;5;28;01mreturn\u001b[39;00m \u001b[43mio_open\u001b[49m\u001b[43m(\u001b[49m\u001b[43mfile\u001b[49m\u001b[43m,\u001b[49m\u001b[43m \u001b[49m\u001b[38;5;241;43m*\u001b[39;49m\u001b[43margs\u001b[49m\u001b[43m,\u001b[49m\u001b[43m \u001b[49m\u001b[38;5;241;43m*\u001b[39;49m\u001b[38;5;241;43m*\u001b[39;49m\u001b[43mkwargs\u001b[49m\u001b[43m)\u001b[49m\n",
      "\u001b[0;31mFileNotFoundError\u001b[0m: [Errno 2] No such file or directory: 'input2.txt'"
     ]
    }
   ],
   "source": [
    "with open(\"input2.txt\", \"r\") as infile:\n",
    "    content = infile.read()"
   ]
  },
  {
   "cell_type": "code",
   "execution_count": 23,
   "metadata": {},
   "outputs": [
    {
     "name": "stdout",
     "output_type": "stream",
     "text": [
      "Lorem ipsum dolor sit amet, consectetur adipiscing elit. Nulla convallis dui magna, fringilla dapibus magna congue non. Mauris ac bibendum tortor. Nam tempus sapien nec pharetra semper. Aliquam et mi pharetra risus congue pellentesque in et metus. Duis est metus, bibendum eu magna nec, egestas finibus lacus. In vitae lorem mattis, aliquam ipsum quis, ultrices arcu. In hac habitasse platea dictumst. Nullam ultrices ligula ligula. Donec consequat, elit a tincidunt cursus, nunc metus dignissim arcu, id sodales dui turpis quis metus. Praesent erat dolor, tincidunt sit amet dignissim at, ultrices ut leo. Duis non placerat erat. Nam sollicitudin nunc eget augue gravida, at mollis neque semper. Proin sit amet elit facilisis, pharetra eros eu, pulvinar est. Vestibulum odio turpis, ornare a hendrerit quis, mattis in mi.\n",
      "\n",
      "Proin lacinia volutpat sodales. Praesent feugiat non dolor vitae sagittis. Morbi diam dolor, facilisis vitae mattis dapibus, finibus at leo. Integer rhoncus dapibus scelerisque. Etiam eget vehicula risus. Sed eleifend eleifend porta. Vestibulum lobortis ipsum lectus, vestibulum vehicula purus pretium ut.\n",
      "\n",
      "Maecenas ut elit non risus placerat rhoncus nec quis metus. Ut eu maximus lacus. Nunc ut suscipit velit. Etiam accumsan metus a nisi cursus mattis. Integer vestibulum tellus felis, at lobortis enim congue quis. Etiam rutrum nisi risus, non imperdiet ex blandit eu. Suspendisse non ornare massa. Etiam quis ante a mauris scelerisque egestas in quis diam. Nunc quis est ac turpis ultricies placerat.\n",
      "\n",
      "In eget aliquet eros. Curabitur a faucibus nunc, id consequat neque. Cras ex nisi, accumsan accumsan luctus in, pulvinar id mi. Vivamus dolor tortor, luctus eget blandit id, euismod vel tellus. Curabitur lorem nulla, posuere sit amet placerat in, volutpat at orci. In varius urna nisi, in bibendum magna dignissim vitae. Integer nec enim ex. In efficitur tortor ac leo laoreet aliquet. Curabitur posuere imperdiet purus, id mollis enim iaculis sed. Maecenas in laoreet ipsum. In hac habitasse platea dictumst.\n",
      "\n",
      "\n"
     ]
    }
   ],
   "source": [
    "try:\n",
    "    with open(\"input.txt\", \"r\") as infile:\n",
    "        content = infile.read()\n",
    "        print(content)\n",
    "except FileNotFoundError:\n",
    "    print('File not found')"
   ]
  },
  {
   "cell_type": "markdown",
   "metadata": {},
   "source": [
    "This is a basic form of error handling, which will be our next topic. Handling errors ensures that your programs don’t crash unexpectedly."
   ]
  },
  {
   "cell_type": "code",
   "execution_count": 24,
   "metadata": {},
   "outputs": [],
   "source": [
    "with open(\"data.txt\", \"w\") as file:\n",
    "    file.write('Hello World!')"
   ]
  },
  {
   "cell_type": "code",
   "execution_count": 25,
   "metadata": {},
   "outputs": [
    {
     "name": "stdout",
     "output_type": "stream",
     "text": [
      "!dlroW olleH\n"
     ]
    }
   ],
   "source": [
    "with open(\"data.txt\", \"r\") as file:\n",
    "    for line in file:\n",
    "        print(line[::-1])  # Reverse each line and print"
   ]
  },
  {
   "cell_type": "markdown",
   "metadata": {},
   "source": [
    "### Common Pitfalls and Best Practices\n",
    "\n",
    "* Pitfalls:\n",
    "\n",
    "1. Forgetting to close files (use with to avoid this).\n",
    "1. Assuming files will always exist or have the correct content.\n",
    "1. Overwriting existing files without checking.\n",
    "\n",
    "* Best Practices:\n",
    "\n",
    "1. Always use the with statement.\n",
    "1. Handle file-related exceptions properly.\n",
    "1. Use appropriate file modes (read vs write, text vs binary)."
   ]
  }
 ],
 "metadata": {
  "kernelspec": {
   "display_name": "venv",
   "language": "python",
   "name": "python3"
  },
  "language_info": {
   "codemirror_mode": {
    "name": "ipython",
    "version": 3
   },
   "file_extension": ".py",
   "mimetype": "text/x-python",
   "name": "python",
   "nbconvert_exporter": "python",
   "pygments_lexer": "ipython3",
   "version": "3.11.1"
  }
 },
 "nbformat": 4,
 "nbformat_minor": 2
}
