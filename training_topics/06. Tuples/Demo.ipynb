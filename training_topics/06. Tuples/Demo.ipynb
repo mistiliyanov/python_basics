{
 "cells": [
  {
   "cell_type": "code",
   "execution_count": 2,
   "metadata": {},
   "outputs": [],
   "source": [
    "# My imports"
   ]
  },
  {
   "cell_type": "markdown",
   "metadata": {},
   "source": [
    "## Tuples\n"
   ]
  },
  {
   "cell_type": "markdown",
   "metadata": {},
   "source": [
    "### What are Tuples?\n",
    "\n",
    "- A tuple in Python is a collection of items, similar to a list, but with one key difference: tuples are immutable.\n",
    "- This means that once a tuple is created, it cannot be modified.\n",
    "- Tuples are often used to group related data together."
   ]
  },
  {
   "cell_type": "code",
   "execution_count": 1,
   "metadata": {},
   "outputs": [],
   "source": [
    "coordinates = (10.0, 20.0)\n",
    "user_info = (\"Alice\", 30, \"Engineer\")\n",
    "mixed_tuple = (1, \"hello\", 3.14, True)"
   ]
  },
  {
   "cell_type": "code",
   "execution_count": 4,
   "metadata": {},
   "outputs": [],
   "source": [
    "coordinates_list = [10.0, 20.0]\n"
   ]
  },
  {
   "cell_type": "code",
   "execution_count": 5,
   "metadata": {},
   "outputs": [],
   "source": [
    "coordinates_list[0] = 11.1\n",
    "\n"
   ]
  },
  {
   "cell_type": "code",
   "execution_count": 6,
   "metadata": {},
   "outputs": [
    {
     "data": {
      "text/plain": [
       "[11.1, 20.0]"
      ]
     },
     "execution_count": 6,
     "metadata": {},
     "output_type": "execute_result"
    }
   ],
   "source": [
    "coordinates_list"
   ]
  },
  {
   "cell_type": "code",
   "execution_count": 9,
   "metadata": {},
   "outputs": [
    {
     "ename": "TypeError",
     "evalue": "'tuple' object does not support item assignment",
     "output_type": "error",
     "traceback": [
      "\u001b[0;31m---------------------------------------------------------------------------\u001b[0m",
      "\u001b[0;31mTypeError\u001b[0m                                 Traceback (most recent call last)",
      "Cell \u001b[0;32mIn[9], line 1\u001b[0m\n\u001b[0;32m----> 1\u001b[0m \u001b[43mcoordinates\u001b[49m\u001b[43m[\u001b[49m\u001b[38;5;241;43m0\u001b[39;49m\u001b[43m]\u001b[49m \u001b[38;5;241m=\u001b[39m \u001b[38;5;241m11.1\u001b[39m\n",
      "\u001b[0;31mTypeError\u001b[0m: 'tuple' object does not support item assignment"
     ]
    }
   ],
   "source": [
    "# 'tuple' object does not support item assignment\n",
    "coordinates[0] = 11.1\n"
   ]
  },
  {
   "cell_type": "markdown",
   "metadata": {},
   "source": [
    "## Creating and Using Tuples\n",
    "\n",
    "* Tuples are created by placing items inside parentheses '()', separated by commas.\n",
    "* You can access tuple elements using indexing, just like with lists.\n"
   ]
  },
  {
   "cell_type": "code",
   "execution_count": 10,
   "metadata": {},
   "outputs": [],
   "source": [
    "# Creating tuples\n",
    "empty_tuple = ()\n",
    "single_element_tuple = (42,)\n",
    "coordinates = (10.0, 20.0)"
   ]
  },
  {
   "cell_type": "markdown",
   "metadata": {},
   "source": [
    "Creating a single element tuple requires trailing comma, otherwise it's considered just a single value (not a tuple)."
   ]
  },
  {
   "cell_type": "code",
   "execution_count": 18,
   "metadata": {},
   "outputs": [],
   "source": [
    "single_element_tuple = (42,)"
   ]
  },
  {
   "cell_type": "code",
   "execution_count": 19,
   "metadata": {},
   "outputs": [
    {
     "data": {
      "text/plain": [
       "(42,)"
      ]
     },
     "execution_count": 19,
     "metadata": {},
     "output_type": "execute_result"
    }
   ],
   "source": [
    "single_element_tuple"
   ]
  },
  {
   "cell_type": "markdown",
   "metadata": {},
   "source": [
    "## Tuple Operations\n",
    "\n",
    "- Tuples support many of the same operations as lists, including concatenation, repetition, and membership testing.\n",
    "- However, since tuples are immutable, you cannot add, remove, or modify elements."
   ]
  },
  {
   "cell_type": "code",
   "execution_count": 20,
   "metadata": {},
   "outputs": [
    {
     "name": "stdout",
     "output_type": "stream",
     "text": [
      "x coordinate: 10.0\n",
      "y coordinate: 20.0\n"
     ]
    }
   ],
   "source": [
    "# Accessing elements by index\n",
    "x = coordinates[0]\n",
    "y = coordinates[1]\n",
    "print(\"x coordinate:\", x)  # Output: 10.0\n",
    "print(\"y coordinate:\", y)  # Output: 20.0"
   ]
  },
  {
   "cell_type": "code",
   "execution_count": 21,
   "metadata": {},
   "outputs": [
    {
     "name": "stdout",
     "output_type": "stream",
     "text": [
      "Unpacked x: 10.0\n",
      "Unpacked y: 20.0\n"
     ]
    }
   ],
   "source": [
    "# Unpacking tuples\n",
    "x, y = coordinates\n",
    "print(\"Unpacked x:\", x)  # Output: 10.0\n",
    "print(\"Unpacked y:\", y)  # Output: 20.0"
   ]
  },
  {
   "cell_type": "code",
   "execution_count": 25,
   "metadata": {},
   "outputs": [],
   "source": [
    "list_coordinates = list(coordinates)"
   ]
  },
  {
   "cell_type": "code",
   "execution_count": 26,
   "metadata": {},
   "outputs": [
    {
     "data": {
      "text/plain": [
       "[10.0, 20.0]"
      ]
     },
     "execution_count": 26,
     "metadata": {},
     "output_type": "execute_result"
    }
   ],
   "source": [
    "list_coordinates"
   ]
  },
  {
   "cell_type": "code",
   "execution_count": 22,
   "metadata": {},
   "outputs": [],
   "source": [
    "some_list = [1, 2, 3]\n",
    "\n",
    "a, b, c = some_list"
   ]
  },
  {
   "cell_type": "code",
   "execution_count": 23,
   "metadata": {},
   "outputs": [
    {
     "name": "stdout",
     "output_type": "stream",
     "text": [
      "1 2 3\n"
     ]
    }
   ],
   "source": [
    "print(a, b, c)"
   ]
  },
  {
   "cell_type": "code",
   "execution_count": 27,
   "metadata": {},
   "outputs": [
    {
     "name": "stdout",
     "output_type": "stream",
     "text": [
      "Concatenation: (1, 2, 3, 4, 5, 6)\n"
     ]
    }
   ],
   "source": [
    "# Concatenation\n",
    "tuple1 = (1, 2, 3)\n",
    "tuple2 = (4, 5, 6)\n",
    "combined_tuple = tuple1 + tuple2\n",
    "print(\"Concatenation:\", combined_tuple)  # Output: (1, 2, 3, 4, 5, 6)"
   ]
  },
  {
   "cell_type": "markdown",
   "metadata": {},
   "source": [
    "The initial variables are unchanged"
   ]
  },
  {
   "cell_type": "code",
   "execution_count": 28,
   "metadata": {},
   "outputs": [
    {
     "data": {
      "text/plain": [
       "(1, 2, 3)"
      ]
     },
     "execution_count": 28,
     "metadata": {},
     "output_type": "execute_result"
    }
   ],
   "source": [
    "tuple1"
   ]
  },
  {
   "cell_type": "code",
   "execution_count": 29,
   "metadata": {},
   "outputs": [
    {
     "data": {
      "text/plain": [
       "(4, 5, 6)"
      ]
     },
     "execution_count": 29,
     "metadata": {},
     "output_type": "execute_result"
    }
   ],
   "source": [
    "tuple2"
   ]
  },
  {
   "cell_type": "code",
   "execution_count": 30,
   "metadata": {},
   "outputs": [
    {
     "name": "stdout",
     "output_type": "stream",
     "text": [
      "Repetition: (1, 2, 3, 1, 2, 3)\n"
     ]
    }
   ],
   "source": [
    "# Repetition\n",
    "repeated_tuple = tuple1 * 2\n",
    "print(\"Repetition:\", repeated_tuple)  # Output: (1, 2, 3, 1, 2, 3)"
   ]
  },
  {
   "cell_type": "code",
   "execution_count": 31,
   "metadata": {},
   "outputs": [
    {
     "name": "stdout",
     "output_type": "stream",
     "text": [
      "Is 2 in tuple1? True\n"
     ]
    }
   ],
   "source": [
    "# Membership testing\n",
    "is_in_tuple = 2 in tuple1\n",
    "print(\"Is 2 in tuple1?\", is_in_tuple)  # Output: True"
   ]
  },
  {
   "cell_type": "markdown",
   "metadata": {},
   "source": [
    "## Tuple Methods\n",
    "\n",
    "- Since tuples are immutable, they have fewer methods than lists. However, there are a couple of useful ones."
   ]
  },
  {
   "cell_type": "code",
   "execution_count": 33,
   "metadata": {},
   "outputs": [
    {
     "name": "stdout",
     "output_type": "stream",
     "text": [
      "Count of 2s: 3\n"
     ]
    }
   ],
   "source": [
    "numbers = (1, 2, 3, 2, 4, 2)\n",
    "\n",
    "# Count occurrences of an item\n",
    "count_of_twos = numbers.count(2)\n",
    "print(\"Count of 2s:\", count_of_twos)  # Output: 3"
   ]
  },
  {
   "cell_type": "code",
   "execution_count": 34,
   "metadata": {},
   "outputs": [
    {
     "name": "stdout",
     "output_type": "stream",
     "text": [
      "Index of 3: 2\n"
     ]
    }
   ],
   "source": [
    "# Find the index of an item\n",
    "index_of_three = numbers.index(3)\n",
    "print(\"Index of 3:\", index_of_three)  # Output: 2"
   ]
  },
  {
   "cell_type": "markdown",
   "metadata": {},
   "source": [
    "## Practical Examples\n",
    "\n",
    "Let’s look at some practical examples of using tuples."
   ]
  },
  {
   "cell_type": "code",
   "execution_count": 36,
   "metadata": {},
   "outputs": [
    {
     "name": "stdout",
     "output_type": "stream",
     "text": [
      "Min and Max: 5 40\n"
     ]
    }
   ],
   "source": [
    "# Example 1: Returning Multiple Values from a Function\n",
    "\n",
    "\n",
    "def get_min_max(numbers):\n",
    "    return min(numbers), max(numbers)\n",
    "\n",
    "result1, result2 = get_min_max([10, 20, 5, 40])\n",
    "print(\"Min and Max:\", result1, result2)  # Output: (5, 40)"
   ]
  },
  {
   "cell_type": "code",
   "execution_count": 37,
   "metadata": {},
   "outputs": [
    {
     "name": "stdout",
     "output_type": "stream",
     "text": [
      "a: 20\n",
      "b: 10\n"
     ]
    }
   ],
   "source": [
    "# Example 2: Swapping Values\n",
    "\n",
    "a = 10\n",
    "b = 20\n",
    "a, b = b, a\n",
    "print(\"a:\", a)  # Output: 20\n",
    "print(\"b:\", b)  # Output: 10"
   ]
  },
  {
   "cell_type": "markdown",
   "metadata": {},
   "source": [
    "## Exercises\n",
    "\n",
    "Now, let’s try some exercises to practice what we’ve learned.\n"
   ]
  },
  {
   "cell_type": "code",
   "execution_count": 38,
   "metadata": {},
   "outputs": [
    {
     "name": "stdout",
     "output_type": "stream",
     "text": [
      "Point: (1, 2)\n",
      "Point: (3, 4)\n",
      "Point: (5, 6)\n"
     ]
    }
   ],
   "source": [
    "# Store multiple points as tuples in a list\n",
    "points = [(1, 2), (3, 4), (5, 6)]\n",
    "for point in points:\n",
    "    print(f\"Point: {point}\")"
   ]
  },
  {
   "cell_type": "code",
   "execution_count": 39,
   "metadata": {},
   "outputs": [
    {
     "name": "stdout",
     "output_type": "stream",
     "text": [
      "First movie: The Matrix\n",
      "Last movie: Interstellar\n"
     ]
    }
   ],
   "source": [
    "# Create a tuple of three favorite movies\n",
    "favorite_movies = (\"The Matrix\", \"Inception\", \"Interstellar\")\n",
    "\n",
    "# Access and print the first and last movie in the tuple\n",
    "first_movie = favorite_movies[0]\n",
    "last_movie = favorite_movies[-1]\n",
    "print(\"First movie:\", first_movie)\n",
    "print(\"Last movie:\", last_movie)"
   ]
  },
  {
   "cell_type": "code",
   "execution_count": 40,
   "metadata": {},
   "outputs": [
    {
     "name": "stdout",
     "output_type": "stream",
     "text": [
      "Name: Alice\n",
      "Age: 30\n",
      "Profession: Engineer\n"
     ]
    }
   ],
   "source": [
    "# Given a tuple with personal information\n",
    "person_info = (\"Alice\", 30, \"Engineer\")\n",
    "\n",
    "# Unpack the tuple into variables and print them\n",
    "name, age, profession = person_info\n",
    "print(\"Name:\", name)\n",
    "print(\"Age:\", age)\n",
    "print(\"Profession:\", profession)"
   ]
  },
  {
   "cell_type": "markdown",
   "metadata": {},
   "source": [
    "### Q&A and Troubleshooting\n",
    "\n",
    "* If you're having trouble with the exercises, here are a few tips:\n",
    "    * Immutable error: Remember, tuples cannot be modified after creation.\n",
    "    * Indexing: Make sure you’re using valid indices when accessing elements in a tuple.\n",
    "    * Unpacking: Ensure the number of variables matches the number of elements in the tuple when unpacking.\n"
   ]
  },
  {
   "cell_type": "markdown",
   "metadata": {},
   "source": [
    "### Summary\n",
    "\n",
    "* Today, we covered the basics of tuples in Python, including creation, operations, methods, and practical examples.\n",
    "* Until next time, try creating a small program that uses various tuple operations and methods to solve a problem of your choice.\n",
    "* Next week, we'll explore dictionaries, a powerful data structure for mapping keys to values.\n",
    "\n",
    "### Thank you for attending! See you next week!"
   ]
  },
  {
   "cell_type": "markdown",
   "metadata": {},
   "source": []
  }
 ],
 "metadata": {
  "kernelspec": {
   "display_name": "venv",
   "language": "python",
   "name": "python3"
  },
  "language_info": {
   "codemirror_mode": {
    "name": "ipython",
    "version": 3
   },
   "file_extension": ".py",
   "mimetype": "text/x-python",
   "name": "python",
   "nbconvert_exporter": "python",
   "pygments_lexer": "ipython3",
   "version": "3.11.1"
  }
 },
 "nbformat": 4,
 "nbformat_minor": 2
}
