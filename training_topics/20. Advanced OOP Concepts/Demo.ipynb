{
 "cells": [
  {
   "cell_type": "code",
   "execution_count": null,
   "metadata": {},
   "outputs": [],
   "source": [
    "# My imports\n"
   ]
  },
  {
   "cell_type": "markdown",
   "metadata": {},
   "source": [
    "# Advanced OOP Concepts"
   ]
  },
  {
   "cell_type": "markdown",
   "metadata": {},
   "source": [
    "### OOP Recap"
   ]
  },
  {
   "cell_type": "markdown",
   "metadata": {},
   "source": [
    "Before we dive in, let’s quickly recap on OOP basic concepts:\n",
    "\n",
    "* **Classes:** Blueprints for creating objects.\n",
    "* **Objects:** Instances of classes, each with unique attributes and methods.\n",
    "* **Attributes:** Hold data specific to each instance.\n",
    "* **Methods:** Functions within a class that define behavior.\n",
    "These core concepts set up the foundation for more advanced topics like inheritance, polymorphism, and encapsulation."
   ]
  },
  {
   "cell_type": "markdown",
   "metadata": {},
   "source": [
    "```python\n",
    "class Dog:\n",
    "    def __init__(self, name, age):\n",
    "        self.name = name\n",
    "        self.age = age\n",
    "\n",
    "    def bark(self):\n",
    "        print(f\"{self.name} says Woof!\")\n",
    "```"
   ]
  },
  {
   "cell_type": "markdown",
   "metadata": {},
   "source": [
    "```python\n",
    "\n",
    "my_dog = Dog(\"Buddy\", 5)\n",
    "print(my_dog.name)  # Output: Buddy\n",
    "print(my_dog.age)   # Output: 5\n",
    "my_dog.bark()       # Output: Buddy says Woof!\n",
    "\n",
    "\n",
    "another_dog = Dog(\"Bella\", 3)\n",
    "print(another_dog.name)  # Output: Bella\n",
    "\n",
    "```"
   ]
  },
  {
   "cell_type": "markdown",
   "metadata": {},
   "source": [
    "### Inheritance\n",
    "\n",
    "Inheritance allows one class (called the child or subclass) to inherit attributes and methods from another class (called the parent or superclass).\n",
    "\n",
    "**Benefits of Inheritance:**\n",
    "\n",
    "* **Code reuse:** Share functionality between related classes.\n",
    "* **Easy updates:** Changes to the parent class propagate to subclasses.\n"
   ]
  },
  {
   "cell_type": "code",
   "execution_count": 1,
   "metadata": {},
   "outputs": [],
   "source": [
    "class Animal:\n",
    "    def __init__(self, name):\n",
    "        self.name = name\n",
    "\n",
    "    def make_sound(self):\n",
    "        return \"Some sound\""
   ]
  },
  {
   "cell_type": "code",
   "execution_count": 2,
   "metadata": {},
   "outputs": [],
   "source": [
    "class Dog(Animal):\n",
    "    def make_sound(self):\n",
    "        return \"Woof!\""
   ]
  },
  {
   "cell_type": "code",
   "execution_count": 3,
   "metadata": {},
   "outputs": [
    {
     "name": "stdout",
     "output_type": "stream",
     "text": [
      "Woof!\n"
     ]
    }
   ],
   "source": [
    "my_dog = Dog(\"Buddy\")\n",
    "print(my_dog.make_sound())  # Output: Woof!"
   ]
  },
  {
   "cell_type": "code",
   "execution_count": 4,
   "metadata": {},
   "outputs": [
    {
     "data": {
      "text/plain": [
       "'Buddy'"
      ]
     },
     "execution_count": 4,
     "metadata": {},
     "output_type": "execute_result"
    }
   ],
   "source": [
    "my_dog.name"
   ]
  },
  {
   "cell_type": "markdown",
   "metadata": {},
   "source": [
    "### Polymorphism:\n",
    "**Polymorphism** allows us to use a single interface to represent different underlying forms. In OOP, it means that different classes can have methods with the same name but behave differently.\n",
    "\n",
    "**Example:**\n",
    "\n",
    "Both Dog and Cat subclasses inherit from Animal, but each class can implement make_sound differently."
   ]
  },
  {
   "cell_type": "code",
   "execution_count": 5,
   "metadata": {},
   "outputs": [],
   "source": [
    "class Cat(Animal):\n",
    "    def make_sound(self):\n",
    "        return \"Meow!\""
   ]
  },
  {
   "cell_type": "code",
   "execution_count": 6,
   "metadata": {},
   "outputs": [],
   "source": [
    "my_cat = Cat(\"Whiskers\")\n",
    "animals = [my_dog, my_cat]\n"
   ]
  },
  {
   "cell_type": "code",
   "execution_count": 7,
   "metadata": {},
   "outputs": [
    {
     "data": {
      "text/plain": [
       "'Whiskers'"
      ]
     },
     "execution_count": 7,
     "metadata": {},
     "output_type": "execute_result"
    }
   ],
   "source": [
    "my_cat.name"
   ]
  },
  {
   "cell_type": "code",
   "execution_count": 8,
   "metadata": {},
   "outputs": [
    {
     "data": {
      "text/plain": [
       "'Meow!'"
      ]
     },
     "execution_count": 8,
     "metadata": {},
     "output_type": "execute_result"
    }
   ],
   "source": [
    "my_cat.make_sound()"
   ]
  },
  {
   "cell_type": "code",
   "execution_count": 9,
   "metadata": {},
   "outputs": [],
   "source": [
    "another_dog = Dog(\"Bethoven\")"
   ]
  },
  {
   "cell_type": "code",
   "execution_count": 10,
   "metadata": {},
   "outputs": [
    {
     "data": {
      "text/plain": [
       "'Woof!'"
      ]
     },
     "execution_count": 10,
     "metadata": {},
     "output_type": "execute_result"
    }
   ],
   "source": [
    "another_dog.make_sound()"
   ]
  },
  {
   "cell_type": "code",
   "execution_count": 11,
   "metadata": {},
   "outputs": [
    {
     "name": "stdout",
     "output_type": "stream",
     "text": [
      "Woof!\n",
      "Meow!\n"
     ]
    }
   ],
   "source": [
    "for animal in animals:\n",
    "    print(animal.make_sound())  # Output: Woof! and Meow!"
   ]
  },
  {
   "cell_type": "markdown",
   "metadata": {},
   "source": [
    "Polymorphism enables flexibility and clean code when working with multiple related classes."
   ]
  },
  {
   "cell_type": "markdown",
   "metadata": {},
   "source": [
    "### Encapsulation"
   ]
  },
  {
   "cell_type": "markdown",
   "metadata": {},
   "source": [
    "\n",
    "Encapsulation is the concept of hiding the internal state of an object and restricting direct access to some of its components. This is achieved by defining attributes and methods as private or protected."
   ]
  },
  {
   "cell_type": "markdown",
   "metadata": {},
   "source": [
    "_protected <br>\n",
    "__private"
   ]
  },
  {
   "cell_type": "code",
   "execution_count": 18,
   "metadata": {},
   "outputs": [],
   "source": [
    "class BankAccount:\n",
    "    def __init__(self, balance):\n",
    "        self.__balance = balance  # Private attribute\n",
    "\n",
    "    def deposit(self, amount):\n",
    "        if amount > 0:\n",
    "            self.__balance += amount\n",
    "            print(f\"Deposited: ${amount}\")\n",
    "        else:\n",
    "            print(\"Invalid deposit amount\")\n",
    "\n",
    "    def get_balance(self):\n",
    "        return self.__balance"
   ]
  },
  {
   "cell_type": "code",
   "execution_count": 19,
   "metadata": {},
   "outputs": [],
   "source": [
    "account = BankAccount(1000)"
   ]
  },
  {
   "cell_type": "code",
   "execution_count": 22,
   "metadata": {},
   "outputs": [
    {
     "name": "stdout",
     "output_type": "stream",
     "text": [
      "Deposited: $500\n",
      "1500\n"
     ]
    }
   ],
   "source": [
    "account.deposit(500)\n",
    "print(account.get_balance())  # Output: 1500"
   ]
  },
  {
   "cell_type": "markdown",
   "metadata": {},
   "source": [
    "### Practical Example – Implementing Advanced OOP Concepts \n",
    "Inheritance and Polymorphism\n"
   ]
  },
  {
   "cell_type": "code",
   "execution_count": 23,
   "metadata": {},
   "outputs": [],
   "source": [
    "class Employee:\n",
    "    def __init__(self, name, salary):\n",
    "        self.name = name\n",
    "        self._salary = salary\n",
    "\n",
    "    def work(self):\n",
    "        pass\n",
    "\n",
    "class Developer(Employee):\n",
    "    def work(self):\n",
    "        print(f\"{self.name} is coding.\")\n",
    "\n",
    "class Manager(Employee):\n",
    "    def work(self):\n",
    "        print(f\"{self.name} is managing a team.\")"
   ]
  },
  {
   "cell_type": "code",
   "execution_count": 24,
   "metadata": {},
   "outputs": [
    {
     "name": "stdout",
     "output_type": "stream",
     "text": [
      "Alice is coding.\n",
      "Bob is managing a team.\n"
     ]
    }
   ],
   "source": [
    "dev = Developer(\"Alice\", 70000)\n",
    "mgr = Manager(\"Bob\", 90000)\n",
    "\n",
    "employees = [dev, mgr]\n",
    "for emp in employees:\n",
    "    emp.work()  # Output: Alice is coding, Bob is managing a team"
   ]
  },
  {
   "cell_type": "markdown",
   "metadata": {},
   "source": [
    "Exercise: Implementing Encapsulation"
   ]
  },
  {
   "cell_type": "code",
   "execution_count": 25,
   "metadata": {},
   "outputs": [],
   "source": [
    "class Car:\n",
    "    def __init__(self, fuel_level=0):\n",
    "        self.__fuel_level = fuel_level\n",
    "        self.__mileage = 0\n",
    "\n",
    "    def drive(self, distance):\n",
    "        if self.__fuel_level > distance / 10:\n",
    "            self.__mileage += distance\n",
    "            self.__fuel_level -= distance / 10\n",
    "            print(f\"Drove {distance} miles. Remaining fuel: {self.__fuel_level} liters.\")\n",
    "        else:\n",
    "            print(\"Not enough fuel!\")\n",
    "\n",
    "    def refuel(self, liters):\n",
    "        self.__fuel_level += liters\n",
    "        print(f\"Refueled with {liters} liters.\")"
   ]
  },
  {
   "cell_type": "code",
   "execution_count": 26,
   "metadata": {},
   "outputs": [],
   "source": [
    "my_car = Car(100)"
   ]
  },
  {
   "cell_type": "code",
   "execution_count": 28,
   "metadata": {},
   "outputs": [
    {
     "name": "stdout",
     "output_type": "stream",
     "text": [
      "Drove 100 miles. Remaining fuel: 90.0 liters.\n"
     ]
    }
   ],
   "source": [
    "my_car.drive(100)"
   ]
  },
  {
   "cell_type": "code",
   "execution_count": 29,
   "metadata": {},
   "outputs": [
    {
     "name": "stdout",
     "output_type": "stream",
     "text": [
      "Drove 200 miles. Remaining fuel: 70.0 liters.\n"
     ]
    }
   ],
   "source": [
    "my_car.drive(200)"
   ]
  },
  {
   "cell_type": "code",
   "execution_count": 30,
   "metadata": {},
   "outputs": [
    {
     "name": "stdout",
     "output_type": "stream",
     "text": [
      "Drove 200 miles. Remaining fuel: 50.0 liters.\n"
     ]
    }
   ],
   "source": [
    "my_car.drive(200)"
   ]
  },
  {
   "cell_type": "code",
   "execution_count": 32,
   "metadata": {},
   "outputs": [
    {
     "name": "stdout",
     "output_type": "stream",
     "text": [
      "Refueled with 100 liters.\n"
     ]
    }
   ],
   "source": [
    "my_car.refuel(100)"
   ]
  },
  {
   "cell_type": "markdown",
   "metadata": {},
   "source": [
    "### Recap and Common Pitfalls"
   ]
  },
  {
   "cell_type": "markdown",
   "metadata": {},
   "source": [
    "**Recap:**\n",
    "\n",
    "* **Inheritance:** Allows subclasses to inherit attributes and methods from a parent class.\n",
    "* **Polymorphism:** Lets us use the same method name for different types of objects.\n",
    "* **Encapsulation:** Restricts access to internal object state, protecting data integrity.\n",
    "\n",
    "**Common Pitfalls:**\n",
    "\n",
    "* **Overusing Inheritance:** Only use it when a subclass truly \"is-a\" type of its superclass.\n",
    "* **Confusing Public and Private Attributes:** Use encapsulation to protect data as needed.\n"
   ]
  }
 ],
 "metadata": {
  "kernelspec": {
   "display_name": "venv",
   "language": "python",
   "name": "python3"
  },
  "language_info": {
   "codemirror_mode": {
    "name": "ipython",
    "version": 3
   },
   "file_extension": ".py",
   "mimetype": "text/x-python",
   "name": "python",
   "nbconvert_exporter": "python",
   "pygments_lexer": "ipython3",
   "version": "3.11.1"
  }
 },
 "nbformat": 4,
 "nbformat_minor": 2
}
