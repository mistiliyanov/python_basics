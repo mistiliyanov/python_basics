{
 "cells": [
  {
   "cell_type": "code",
   "execution_count": null,
   "metadata": {},
   "outputs": [],
   "source": [
    "## My imports"
   ]
  },
  {
   "cell_type": "markdown",
   "metadata": {},
   "source": [
    "## Variables and Data Types"
   ]
  },
  {
   "cell_type": "markdown",
   "metadata": {},
   "source": [
    "### What are Variables?\n",
    "* A variable in Python is a name that refers to a value. Think of it as a container that holds data.\n",
    "* Variables are essential because they allow us to store, modify, and reuse data throughout our programs.\n",
    "* In Python, you don't need to declare a variable before using it. You simply assign a value to a variable name."
   ]
  },
  {
   "cell_type": "code",
   "execution_count": 3,
   "metadata": {},
   "outputs": [
    {
     "name": "stdout",
     "output_type": "stream",
     "text": [
      "10\n"
     ]
    }
   ],
   "source": [
    "x = 10\n",
    "print(x)\n"
   ]
  },
  {
   "cell_type": "code",
   "execution_count": 4,
   "metadata": {},
   "outputs": [],
   "source": [
    "x = 5\n",
    "name = \"Alice\"\n",
    "is_student = True"
   ]
  },
  {
   "cell_type": "code",
   "execution_count": 26,
   "metadata": {},
   "outputs": [
    {
     "name": "stdout",
     "output_type": "stream",
     "text": [
      "5\n"
     ]
    }
   ],
   "source": [
    "print(x)"
   ]
  },
  {
   "cell_type": "markdown",
   "metadata": {},
   "source": [
    "### Basic (primitive) Data Types in Python\n",
    "* Python has several built-in data types that help us work with different kinds of data.\n",
    "* The most common data types are:\n",
    "    * Integers (int): Whole numbers, e.g., 1, 42, -5\n",
    "    * Floats (float): Decimal numbers, e.g., 3.14, 2.0, -0.5\n",
    "    * Strings (str): Text data, e.g., \"hello\", 'world'\n",
    "    * Booleans (bool): True or False values"
   ]
  },
  {
   "cell_type": "code",
   "execution_count": 27,
   "metadata": {},
   "outputs": [],
   "source": [
    "age = 25              # int\n",
    "height = 5.9          # float\n",
    "greeting = \"Hello!\"   # str\n",
    "is_active = True      # bool"
   ]
  },
  {
   "cell_type": "code",
   "execution_count": 7,
   "metadata": {},
   "outputs": [],
   "source": [
    "x = 5"
   ]
  },
  {
   "cell_type": "code",
   "execution_count": 8,
   "metadata": {},
   "outputs": [],
   "source": [
    "pi = 3.14"
   ]
  },
  {
   "cell_type": "code",
   "execution_count": 9,
   "metadata": {},
   "outputs": [],
   "source": [
    "name = \"Misho\""
   ]
  },
  {
   "cell_type": "code",
   "execution_count": null,
   "metadata": {},
   "outputs": [],
   "source": [
    "bool = True"
   ]
  },
  {
   "cell_type": "code",
   "execution_count": 10,
   "metadata": {},
   "outputs": [],
   "source": [
    "bool2 = False"
   ]
  },
  {
   "cell_type": "markdown",
   "metadata": {},
   "source": [
    "### NB! Python is non-typed programing language\n",
    "This means that data type in variable depends on the content and it can be dynamically changed:"
   ]
  },
  {
   "cell_type": "code",
   "execution_count": 11,
   "metadata": {},
   "outputs": [
    {
     "data": {
      "text/plain": [
       "int"
      ]
     },
     "execution_count": 11,
     "metadata": {},
     "output_type": "execute_result"
    }
   ],
   "source": [
    "type(x)"
   ]
  },
  {
   "cell_type": "code",
   "execution_count": 44,
   "metadata": {},
   "outputs": [],
   "source": [
    "x = 'text'"
   ]
  },
  {
   "cell_type": "code",
   "execution_count": 45,
   "metadata": {},
   "outputs": [
    {
     "data": {
      "text/plain": [
       "str"
      ]
     },
     "execution_count": 45,
     "metadata": {},
     "output_type": "execute_result"
    }
   ],
   "source": [
    "type(x)"
   ]
  },
  {
   "cell_type": "code",
   "execution_count": 12,
   "metadata": {},
   "outputs": [
    {
     "name": "stdout",
     "output_type": "stream",
     "text": [
      "<class 'int'>\n",
      "<class 'float'>\n",
      "<class 'str'>\n",
      "<class 'bool'>\n"
     ]
    }
   ],
   "source": [
    "x = 5\n",
    "pi = 3.14\n",
    "name = \"Alice\"\n",
    "is_student = True\n",
    "print(type(x)) # Integer\n",
    "print(type(pi)) # Float\n",
    "print(type(name)) # String\n",
    "print(type(is_student)) # Boolean"
   ]
  },
  {
   "cell_type": "markdown",
   "metadata": {},
   "source": [
    "### Type Conversion\n",
    "* Sometimes, you need to convert data from one type to another. This process is called type conversion.\n",
    "* Python provides built-in functions for type conversion:\n",
    "    * int(): Converts to integer\n",
    "    * float(): Converts to float\n",
    "    * str(): Converts to string\n",
    "    * bool(): Converts to boolean"
   ]
  },
  {
   "cell_type": "code",
   "execution_count": 30,
   "metadata": {},
   "outputs": [
    {
     "name": "stdout",
     "output_type": "stream",
     "text": [
      "<class 'float'>\n",
      "<class 'int'>\n"
     ]
    }
   ],
   "source": [
    "# Convert float to int\n",
    "num = 3.14\n",
    "num_int = int(num)  # 3\n",
    "print(type(num))\n",
    "print(type(num_int))"
   ]
  },
  {
   "cell_type": "code",
   "execution_count": 31,
   "metadata": {},
   "outputs": [
    {
     "name": "stdout",
     "output_type": "stream",
     "text": [
      "<class 'int'>\n",
      "<class 'float'>\n"
     ]
    }
   ],
   "source": [
    "# Convert int to float\n",
    "num = 5\n",
    "num_float = float(num)  # 5.0\n",
    "print(type(num))\n",
    "print(type(num_float))"
   ]
  },
  {
   "cell_type": "code",
   "execution_count": 32,
   "metadata": {},
   "outputs": [
    {
     "name": "stdout",
     "output_type": "stream",
     "text": [
      "<class 'int'>\n",
      "<class 'str'>\n"
     ]
    }
   ],
   "source": [
    "# Convert int to string\n",
    "num = 42\n",
    "num_str = str(num)  # \"42\"\n",
    "print(type(num))\n",
    "print(type(num_str))"
   ]
  },
  {
   "cell_type": "code",
   "execution_count": 33,
   "metadata": {},
   "outputs": [
    {
     "name": "stdout",
     "output_type": "stream",
     "text": [
      "<class 'str'>\n",
      "<class 'bool'>\n"
     ]
    }
   ],
   "source": [
    "# Convert string to bool\n",
    "str_value = \"True\"\n",
    "bool_value = bool(str_value)  # True\n",
    "print(type(str_value))\n",
    "print(type(bool_value))"
   ]
  },
  {
   "cell_type": "markdown",
   "metadata": {},
   "source": [
    "### Practical Examples\n",
    "Let's look at some practical examples of using variables and data types."
   ]
  },
  {
   "cell_type": "code",
   "execution_count": 36,
   "metadata": {},
   "outputs": [
    {
     "name": "stdout",
     "output_type": "stream",
     "text": [
      "Area of the circle: 78.53975\n"
     ]
    }
   ],
   "source": [
    "# Calculating the Area of a Circle\n",
    "radius = 5.0\n",
    "pi = 3.14159\n",
    "area = pi * (radius ** 2)\n",
    "print(\"Area of the circle:\", area)"
   ]
  },
  {
   "cell_type": "code",
   "execution_count": 35,
   "metadata": {},
   "outputs": [
    {
     "name": "stdout",
     "output_type": "stream",
     "text": [
      "Hello, Misho! You are 40 years old.\n"
     ]
    }
   ],
   "source": [
    "# Simple User Input\n",
    "name = input(\"Enter your name: \")\n",
    "age = int(input(\"Enter your age: \"))\n",
    "print(f\"Hello, {name}! You are {age} years old.\")"
   ]
  },
  {
   "cell_type": "code",
   "execution_count": 38,
   "metadata": {},
   "outputs": [
    {
     "name": "stdout",
     "output_type": "stream",
     "text": [
      "Let's stay inside.\n"
     ]
    }
   ],
   "source": [
    "# Boolean Logic\n",
    "is_sunny = True\n",
    "is_weekend = False\n",
    "if is_sunny and is_weekend:\n",
    "    print(\"Let's go to the beach!\")\n",
    "else:\n",
    "    print(\"Let's stay inside.\")"
   ]
  },
  {
   "cell_type": "markdown",
   "metadata": {},
   "source": [
    "### Exercises\n",
    "Now, let's try some exercises to practice what we've learned."
   ]
  },
  {
   "cell_type": "code",
   "execution_count": 25,
   "metadata": {},
   "outputs": [
    {
     "name": "stdout",
     "output_type": "stream",
     "text": [
      "Sum: 30\n",
      "Difference: -10\n",
      "Product: 200\n",
      "Quotient: 0.5\n"
     ]
    }
   ],
   "source": [
    "# Define variables\n",
    "a = 10\n",
    "b = 20\n",
    "\n",
    "# Calculate sum, difference, product, and quotient\n",
    "sum_ab = a + b\n",
    "diff_ab = a - b\n",
    "prod_ab = a * b\n",
    "quot_ab = a / b\n",
    "\n",
    "# Print the results\n",
    "print(\"Sum:\", sum_ab)\n",
    "print(\"Difference:\", diff_ab)\n",
    "print(\"Product:\", prod_ab)\n",
    "print(\"Quotient:\", quot_ab)"
   ]
  },
  {
   "cell_type": "code",
   "execution_count": 40,
   "metadata": {},
   "outputs": [
    {
     "name": "stdout",
     "output_type": "stream",
     "text": [
      "Uppercase message: PYTHON PROGRAMMING IS FUN!\n",
      "Length of message: 26\n"
     ]
    }
   ],
   "source": [
    "# Define a string variable\n",
    "message = \"Python programming is fun!\"\n",
    "\n",
    "# Convert to uppercase\n",
    "upper_message = message.upper()\n",
    "\n",
    "# Find the length of the string\n",
    "length = len(message)\n",
    "\n",
    "# Print the results\n",
    "print(\"Uppercase message:\", upper_message)\n",
    "print(\"Length of message:\", length)"
   ]
  },
  {
   "cell_type": "markdown",
   "metadata": {},
   "source": [
    "### Q&A and Troubleshooting\n",
    "If you're having trouble with the exercises, here are a few tips:\n",
    "* Syntax errors: Double-check your code for typos and proper indentation.\n",
    "* Type errors: Ensure you're using the correct data type for each operation.\n",
    "* Runtime errors: Use print statements to debug and trace the flow of your code."
   ]
  },
  {
   "cell_type": "markdown",
   "metadata": {},
   "source": [
    "### Summary\n",
    "* Today, we covered the basics of variables and data types in Python, as well as type conversion and practical examples.\n",
    "* Until next time, try creating a small program that uses variables and different data types to solve a problem of your choice.\n",
    "* Next week, we'll dive into basic operations and how to manipulate data.\n",
    "\n",
    "## Thank you for attending! See you next week!\n"
   ]
  }
 ],
 "metadata": {
  "kernelspec": {
   "display_name": "Python 3",
   "language": "python",
   "name": "python3"
  },
  "language_info": {
   "codemirror_mode": {
    "name": "ipython",
    "version": 3
   },
   "file_extension": ".py",
   "mimetype": "text/x-python",
   "name": "python",
   "nbconvert_exporter": "python",
   "pygments_lexer": "ipython3",
   "version": "3.11.1"
  }
 },
 "nbformat": 4,
 "nbformat_minor": 2
}
