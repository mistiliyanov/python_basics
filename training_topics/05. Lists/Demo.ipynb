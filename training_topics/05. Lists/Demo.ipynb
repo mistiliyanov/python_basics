{
 "cells": [
  {
   "cell_type": "code",
   "execution_count": 2,
   "metadata": {},
   "outputs": [],
   "source": [
    "# My imports"
   ]
  },
  {
   "cell_type": "markdown",
   "metadata": {},
   "source": [
    "## Lists\n"
   ]
  },
  {
   "cell_type": "markdown",
   "metadata": {},
   "source": [
    "### What are Lists?\n",
    "* A list in Python is a collection of items in a particular order.\n",
    "* Lists are mutable, meaning they can be changed after they are created.\n",
    "* Lists can hold items of different data types."
   ]
  },
  {
   "cell_type": "code",
   "execution_count": 3,
   "metadata": {},
   "outputs": [],
   "source": [
    "numbers = [1, 2, 3, 4, 5]\n",
    "fruits = [\"apple\", \"banana\", \"cherry\"]\n",
    "mixed = [1, \"hello\", 3.14, True]"
   ]
  },
  {
   "cell_type": "markdown",
   "metadata": {},
   "source": [
    "### Creating and Using Lists\n",
    "* Lists are created by placing items inside square brackets [], separated by commas.\n",
    "* Lists can be accessed using indexing, slicing, and loops."
   ]
  },
  {
   "cell_type": "code",
   "execution_count": 4,
   "metadata": {},
   "outputs": [],
   "source": [
    "# Creating lists\n",
    "empty_list = []\n",
    "numbers = [1, 2, 3, 4, 5]\n",
    "fruits = [\"apple\", \"banana\", \"cherry\"]"
   ]
  },
  {
   "cell_type": "code",
   "execution_count": 5,
   "metadata": {},
   "outputs": [
    {
     "name": "stdout",
     "output_type": "stream",
     "text": [
      "[]\n"
     ]
    }
   ],
   "source": [
    "print(empty_list)"
   ]
  },
  {
   "cell_type": "code",
   "execution_count": 6,
   "metadata": {},
   "outputs": [
    {
     "name": "stdout",
     "output_type": "stream",
     "text": [
      "['some', 'text']\n"
     ]
    }
   ],
   "source": [
    "text = 'some text'\n",
    "text_list = text.split()\n",
    "print(text_list)"
   ]
  },
  {
   "cell_type": "code",
   "execution_count": 7,
   "metadata": {},
   "outputs": [
    {
     "name": "stdout",
     "output_type": "stream",
     "text": [
      "['s', 'o', 'm', 'e', ' ', 't', 'e', 'x', 't']\n"
     ]
    }
   ],
   "source": [
    "char_list = list(text)\n",
    "print(char_list)"
   ]
  },
  {
   "cell_type": "code",
   "execution_count": 8,
   "metadata": {},
   "outputs": [
    {
     "name": "stdout",
     "output_type": "stream",
     "text": [
      "First number: 1\n"
     ]
    }
   ],
   "source": [
    "first_number = numbers[0]\n",
    "print(\"First number:\", first_number)  # Output: 1"
   ]
  },
  {
   "cell_type": "code",
   "execution_count": 9,
   "metadata": {},
   "outputs": [
    {
     "name": "stdout",
     "output_type": "stream",
     "text": [
      "First two numbers: [1, 2]\n"
     ]
    }
   ],
   "source": [
    "# Slicing a list\n",
    "first_two_numbers = numbers[:2]\n",
    "print(\"First two numbers:\", first_two_numbers)  # Output: [1, 2]"
   ]
  },
  {
   "cell_type": "code",
   "execution_count": 10,
   "metadata": {},
   "outputs": [
    {
     "name": "stdout",
     "output_type": "stream",
     "text": [
      "Fruit: apple\n",
      "Fruit: banana\n",
      "Fruit: cherry\n"
     ]
    }
   ],
   "source": [
    "# Looping through a list\n",
    "for fruit in fruits:\n",
    "    print(\"Fruit:\", fruit)"
   ]
  },
  {
   "cell_type": "markdown",
   "metadata": {},
   "source": [
    "### List Operations\n",
    "* Lists support various operations like concatenation, repetition, and membership testing.\n"
   ]
  },
  {
   "cell_type": "code",
   "execution_count": 11,
   "metadata": {},
   "outputs": [
    {
     "name": "stdout",
     "output_type": "stream",
     "text": [
      "Concatenation: [1, 2, 3, 4, 5, 6]\n"
     ]
    }
   ],
   "source": [
    "# Concatenation\n",
    "list1 = [1, 2, 3]\n",
    "list2 = [4, 5, 6]\n",
    "combined_list = list1 + list2\n",
    "print(\"Concatenation:\", combined_list)  # Output: [1, 2, 3, 4, 5, 6]"
   ]
  },
  {
   "cell_type": "code",
   "execution_count": 12,
   "metadata": {},
   "outputs": [
    {
     "name": "stdout",
     "output_type": "stream",
     "text": [
      "Repetition: [1, 2, 3, 1, 2, 3]\n"
     ]
    }
   ],
   "source": [
    "# Repetition\n",
    "repeated_list = list1 * 2\n",
    "print(\"Repetition:\", repeated_list)  # Output: [1, 2, 3, 1, 2, 3]"
   ]
  },
  {
   "cell_type": "code",
   "execution_count": 13,
   "metadata": {},
   "outputs": [
    {
     "name": "stdout",
     "output_type": "stream",
     "text": [
      "Is 2 in list1? True\n"
     ]
    }
   ],
   "source": [
    "# Membership testing\n",
    "is_in_list = 2 in list1\n",
    "print(\"Is 2 in list1?\", is_in_list)  # Output: True"
   ]
  },
  {
   "cell_type": "code",
   "execution_count": 14,
   "metadata": {},
   "outputs": [
    {
     "name": "stdout",
     "output_type": "stream",
     "text": [
      "Is 2 in list1? False\n"
     ]
    }
   ],
   "source": [
    "# Membership testing\n",
    "is_in_list = 7 in list1\n",
    "print(\"Is 2 in list1?\", is_in_list)  # Output: True"
   ]
  },
  {
   "cell_type": "code",
   "execution_count": 15,
   "metadata": {},
   "outputs": [],
   "source": [
    "numbers = [1, 2, 3, 4, 5]"
   ]
  },
  {
   "cell_type": "markdown",
   "metadata": {},
   "source": [
    "### List Methods\n",
    "* Python provides a wide range of built-in list methods for common tasks."
   ]
  },
  {
   "cell_type": "code",
   "execution_count": 16,
   "metadata": {},
   "outputs": [
    {
     "name": "stdout",
     "output_type": "stream",
     "text": [
      "Append: [1, 2, 3, 4, 5, 6]\n"
     ]
    }
   ],
   "source": [
    "# Append an item to the list\n",
    "numbers.append(6)\n",
    "print(\"Append:\", numbers)  # Output: [1, 2, 3, 4, 5, 6]"
   ]
  },
  {
   "cell_type": "code",
   "execution_count": 17,
   "metadata": {},
   "outputs": [
    {
     "data": {
      "text/plain": [
       "[1, 2, 3, 4, 5, 6]"
      ]
     },
     "execution_count": 17,
     "metadata": {},
     "output_type": "execute_result"
    }
   ],
   "source": [
    "numbers"
   ]
  },
  {
   "cell_type": "code",
   "execution_count": 18,
   "metadata": {},
   "outputs": [
    {
     "name": "stdout",
     "output_type": "stream",
     "text": [
      "Insert: [1, 2, 2.5, 3, 4, 5, 6]\n"
     ]
    }
   ],
   "source": [
    "# Insert an item at a specific position\n",
    "numbers.insert(2, 2.5)\n",
    "print(\"Insert:\", numbers)  # Output: [1, 2, 2.5, 3, 4, 5, 6]"
   ]
  },
  {
   "cell_type": "code",
   "execution_count": 19,
   "metadata": {},
   "outputs": [
    {
     "data": {
      "text/plain": [
       "[1, 2, 2.5, 3, 4, 5, 6]"
      ]
     },
     "execution_count": 19,
     "metadata": {},
     "output_type": "execute_result"
    }
   ],
   "source": [
    "numbers"
   ]
  },
  {
   "cell_type": "code",
   "execution_count": 20,
   "metadata": {},
   "outputs": [
    {
     "name": "stdout",
     "output_type": "stream",
     "text": [
      "Remove: [1, 2, 3, 4, 5, 6]\n"
     ]
    }
   ],
   "source": [
    "# Remove an item from the list\n",
    "numbers.remove(2.5)\n",
    "print(\"Remove:\", numbers)  # Output: [1, 2, 3, 4, 5, 6]"
   ]
  },
  {
   "cell_type": "code",
   "execution_count": 21,
   "metadata": {},
   "outputs": [
    {
     "data": {
      "text/plain": [
       "[1, 2, 3, 4, 5, 6]"
      ]
     },
     "execution_count": 21,
     "metadata": {},
     "output_type": "execute_result"
    }
   ],
   "source": [
    "numbers"
   ]
  },
  {
   "cell_type": "code",
   "execution_count": 22,
   "metadata": {},
   "outputs": [
    {
     "name": "stdout",
     "output_type": "stream",
     "text": [
      "Pop: 6\n",
      "List after pop: [1, 2, 3, 4, 5]\n"
     ]
    }
   ],
   "source": [
    "# Pop an item from the list\n",
    "last_number = numbers.pop()\n",
    "print(\"Pop:\", last_number)  # Output: 6\n",
    "print(\"List after pop:\", numbers)  # Output: [1, 2, 3, 4, 5]"
   ]
  },
  {
   "cell_type": "code",
   "execution_count": 23,
   "metadata": {},
   "outputs": [
    {
     "name": "stdout",
     "output_type": "stream",
     "text": [
      "Index of 3: 2\n"
     ]
    }
   ],
   "source": [
    "# Find the index of an item\n",
    "index_of_three = numbers.index(3)\n",
    "print(\"Index of 3:\", index_of_three)  # Output: 2"
   ]
  },
  {
   "cell_type": "code",
   "execution_count": 24,
   "metadata": {},
   "outputs": [
    {
     "name": "stdout",
     "output_type": "stream",
     "text": [
      "unsorted [3, 4, 1, 2, 5]\n",
      "Sorted list: [1, 2, 3, 4, 5]\n"
     ]
    }
   ],
   "source": [
    "# Sort the list\n",
    "numbers = [3, 4, 1, 2, 5]\n",
    "print('unsorted', numbers)\n",
    "numbers.sort()\n",
    "print(\"Sorted list:\", numbers)  # Output: [1, 2, 3, 4, 5]"
   ]
  },
  {
   "cell_type": "code",
   "execution_count": 25,
   "metadata": {},
   "outputs": [
    {
     "name": "stdout",
     "output_type": "stream",
     "text": [
      "Reversed list: [5, 4, 3, 2, 1]\n"
     ]
    }
   ],
   "source": [
    "\n",
    "# Reverse the list\n",
    "numbers.reverse()\n",
    "print(\"Reversed list:\", numbers)  # Output: [5, 4, 3, 2, 1]"
   ]
  },
  {
   "cell_type": "markdown",
   "metadata": {},
   "source": [
    "### Practical Examples\n",
    "Let's look at some practical examples of using lists."
   ]
  },
  {
   "cell_type": "code",
   "execution_count": 26,
   "metadata": {},
   "outputs": [
    {
     "name": "stdout",
     "output_type": "stream",
     "text": [
      "Sum of numbers: 150\n"
     ]
    }
   ],
   "source": [
    "# Example 1: Calculating the Sum of a List of Numbers\n",
    "\n",
    "numbers = [10, 20, 30, 40, 50]\n",
    "total = sum(numbers)\n",
    "print(\"Sum of numbers:\", total)"
   ]
  },
  {
   "cell_type": "code",
   "execution_count": 27,
   "metadata": {},
   "outputs": [
    {
     "name": "stdout",
     "output_type": "stream",
     "text": [
      "Max value: 25\n",
      "Min value: 3\n"
     ]
    }
   ],
   "source": [
    "# Example 2: Finding the Maximum and Minimum Values in a List\n",
    "\n",
    "values = [10, 3, 25, 7, 18]\n",
    "max_value = max(values)\n",
    "min_value = min(values)\n",
    "print(\"Max value:\", max_value)  # Output: 25\n",
    "print(\"Min value:\", min_value)  # Output: 3\n"
   ]
  },
  {
   "cell_type": "code",
   "execution_count": 28,
   "metadata": {},
   "outputs": [
    {
     "name": "stdout",
     "output_type": "stream",
     "text": [
      "Squares: [1, 4, 9, 16, 25]\n"
     ]
    }
   ],
   "source": [
    "# Example 3: List Comprehensions\n",
    "\n",
    "# Create a list of squares of numbers from 1 to 5\n",
    "squares = [x**2 for x in range(1, 6)]\n",
    "print(\"Squares:\", squares)  # Output: [1, 4, 9, 16, 25]"
   ]
  },
  {
   "cell_type": "code",
   "execution_count": 29,
   "metadata": {},
   "outputs": [
    {
     "data": {
      "text/plain": [
       "range(1, 6)"
      ]
     },
     "execution_count": 29,
     "metadata": {},
     "output_type": "execute_result"
    }
   ],
   "source": [
    "range(1, 6)"
   ]
  },
  {
   "cell_type": "code",
   "execution_count": 30,
   "metadata": {},
   "outputs": [
    {
     "data": {
      "text/plain": [
       "[1, 2, 3, 4, 5]"
      ]
     },
     "execution_count": 30,
     "metadata": {},
     "output_type": "execute_result"
    }
   ],
   "source": [
    "list(range(1, 6))"
   ]
  },
  {
   "cell_type": "markdown",
   "metadata": {},
   "source": [
    "### Exercises"
   ]
  },
  {
   "cell_type": "code",
   "execution_count": 31,
   "metadata": {},
   "outputs": [
    {
     "name": "stdout",
     "output_type": "stream",
     "text": [
      "Updated list of favorite fruits: ['apple', 'mango', 'orange']\n",
      "Sum: 55\n",
      "Max number: 10\n",
      "Reversed list: [10, 9, 8, 7, 6, 5, 4, 3, 2, 1]\n"
     ]
    }
   ],
   "source": [
    "# Exercise 1: Create and Modify a List\n",
    "\n",
    "# Create a list of your favorite fruits\n",
    "favorite_fruits = [\"apple\", \"banana\", \"mango\"]\n",
    "\n",
    "# Add a new fruit to the list\n",
    "favorite_fruits.append(\"orange\")\n",
    "\n",
    "# Remove a fruit from the list\n",
    "favorite_fruits.remove(\"banana\")\n",
    "\n",
    "# Print the updated list\n",
    "print(\"Updated list of favorite fruits:\", favorite_fruits)\n",
    "\n",
    "\n",
    "# Exercise 2: List Operations and Methods\n",
    "\n",
    "# Create a list of numbers from 1 to 10\n",
    "numbers = list(range(1, 11))\n",
    "\n",
    "# Find and print the sum of the numbers\n",
    "total_sum = sum(numbers)\n",
    "print(\"Sum:\", total_sum)\n",
    "\n",
    "# Find and print the maximum number in the list\n",
    "max_num = max(numbers)\n",
    "print(\"Max number:\", max_num)\n",
    "\n",
    "# Reverse the list and print it\n",
    "numbers.reverse()\n",
    "print(\"Reversed list:\", numbers)"
   ]
  },
  {
   "cell_type": "code",
   "execution_count": 32,
   "metadata": {},
   "outputs": [
    {
     "data": {
      "text/plain": [
       "[10, 9, 8, 7, 6, 5, 4, 3, 2, 1]"
      ]
     },
     "execution_count": 32,
     "metadata": {},
     "output_type": "execute_result"
    }
   ],
   "source": [
    "numbers"
   ]
  },
  {
   "cell_type": "code",
   "execution_count": 33,
   "metadata": {},
   "outputs": [],
   "source": [
    "numbers.sort()"
   ]
  },
  {
   "cell_type": "code",
   "execution_count": 34,
   "metadata": {},
   "outputs": [
    {
     "data": {
      "text/plain": [
       "[1, 2, 3, 4, 5, 6, 7, 8, 9, 10]"
      ]
     },
     "execution_count": 34,
     "metadata": {},
     "output_type": "execute_result"
    }
   ],
   "source": [
    "numbers"
   ]
  },
  {
   "cell_type": "markdown",
   "metadata": {},
   "source": [
    "### Q&A and Troubleshooting\n",
    "\n",
    "* If you're having trouble with the exercises, here are a few tips:\n",
    "    * Index errors: Ensure you're accessing valid indices within the list's range.\n",
    "    * List mutability: Remember that lists can be modified in place.\n",
    "    * Method usage: Check the method documentation if you're unsure how to use it."
   ]
  },
  {
   "cell_type": "markdown",
   "metadata": {},
   "source": [
    "### Summary\n",
    "\n",
    "* Today, we covered the basics of lists in Python, including creation, operations, methods, and practical examples.\n",
    "* Until next time, try creating a small program that uses various list operations and methods to solve a problem of your choice.\n",
    "* Next week, we'll dive into tuples and how to work with them.\n",
    "\n",
    "\n",
    "### Thank you for attending! See you next week!"
   ]
  },
  {
   "cell_type": "markdown",
   "metadata": {},
   "source": []
  }
 ],
 "metadata": {
  "kernelspec": {
   "display_name": "venv",
   "language": "python",
   "name": "python3"
  },
  "language_info": {
   "codemirror_mode": {
    "name": "ipython",
    "version": 3
   },
   "file_extension": ".py",
   "mimetype": "text/x-python",
   "name": "python",
   "nbconvert_exporter": "python",
   "pygments_lexer": "ipython3",
   "version": "3.11.1"
  }
 },
 "nbformat": 4,
 "nbformat_minor": 2
}
