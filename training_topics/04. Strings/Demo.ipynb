{
 "cells": [
  {
   "cell_type": "code",
   "execution_count": null,
   "metadata": {},
   "outputs": [],
   "source": [
    "# My imports"
   ]
  },
  {
   "cell_type": "markdown",
   "metadata": {},
   "source": [
    "## Strings"
   ]
  },
  {
   "cell_type": "markdown",
   "metadata": {},
   "source": [
    "#### What are Strings?\n",
    "\n",
    "* A string in Python is a sequence of characters enclosed in single quotes, double quotes, or triple quotes.\n",
    "* Strings are used to handle text data in Python."
   ]
  },
  {
   "cell_type": "code",
   "execution_count": null,
   "metadata": {},
   "outputs": [],
   "source": [
    "single_quote_string = 'Hello'\n",
    "double_quote_string = \"World\"\n",
    "triple_quote_string = '''Python programming'''"
   ]
  },
  {
   "cell_type": "markdown",
   "metadata": {},
   "source": [
    "### Creating and Using Strings\n",
    "\n",
    "* Strings can be created by enclosing text in quotes.\n",
    "* Strings are immutable, meaning once created, they cannot be changed."
   ]
  },
  {
   "cell_type": "code",
   "execution_count": 17,
   "metadata": {},
   "outputs": [
    {
     "name": "stdout",
     "output_type": "stream",
     "text": [
      "Hello, Alice!\n"
     ]
    }
   ],
   "source": [
    "name = \"Alice\"\n",
    "greeting = 'Hello, ' + name + '!'\n",
    "print(greeting)  # Output: Hello, Alice!"
   ]
  },
  {
   "cell_type": "code",
   "execution_count": 19,
   "metadata": {},
   "outputs": [
    {
     "name": "stdout",
     "output_type": "stream",
     "text": [
      "This \n",
      "is a\n",
      "multiline \n",
      "string\n"
     ]
    }
   ],
   "source": [
    "multiline_string = \"\"\"This \n",
    "is a\n",
    "multiline \n",
    "string\"\"\"\n",
    "print(multiline_string)"
   ]
  },
  {
   "cell_type": "code",
   "execution_count": 46,
   "metadata": {},
   "outputs": [
    {
     "name": "stdout",
     "output_type": "stream",
     "text": [
      "This is also a\n",
      "multiline\n",
      "string\n"
     ]
    }
   ],
   "source": [
    "multiline_string = \"This is also a\\nmultiline\\nstring\"\n",
    "print(multiline_string)"
   ]
  },
  {
   "cell_type": "code",
   "execution_count": 47,
   "metadata": {},
   "outputs": [
    {
     "name": "stdout",
     "output_type": "stream",
     "text": [
      "<class 'str'>\n"
     ]
    }
   ],
   "source": [
    "# Any value input from the console is a string.\n",
    "print(type(input()))"
   ]
  },
  {
   "cell_type": "code",
   "execution_count": 28,
   "metadata": {},
   "outputs": [
    {
     "name": "stdout",
     "output_type": "stream",
     "text": [
      "25\n"
     ]
    }
   ],
   "source": [
    "# You need to parse to number (int / float) in order to execute the numeric operation:\n",
    "a = input()\n",
    "b = 10\n",
    "print(int(a) + b)"
   ]
  },
  {
   "cell_type": "markdown",
   "metadata": {},
   "source": [
    "### String Operations\n",
    "\n",
    "Strings support various operations like concatenation, repetition, and indexing."
   ]
  },
  {
   "cell_type": "code",
   "execution_count": 29,
   "metadata": {},
   "outputs": [
    {
     "name": "stdout",
     "output_type": "stream",
     "text": [
      "Concatenation: Hello World\n"
     ]
    }
   ],
   "source": [
    "# Concatenation\n",
    "str1 = \"Hello\"\n",
    "str2 = \"World\"\n",
    "result = str1 + \" \" + str2\n",
    "print(\"Concatenation:\", result)  # Output: Hello World"
   ]
  },
  {
   "cell_type": "code",
   "execution_count": 48,
   "metadata": {},
   "outputs": [
    {
     "name": "stdout",
     "output_type": "stream",
     "text": [
      "some text for print\n"
     ]
    }
   ],
   "source": [
    "# default delimiter for print() function is space.\n",
    "print('some', 'text', 'for print')"
   ]
  },
  {
   "cell_type": "code",
   "execution_count": 31,
   "metadata": {},
   "outputs": [
    {
     "name": "stdout",
     "output_type": "stream",
     "text": [
      "Repetition: HelloHelloHello\n"
     ]
    }
   ],
   "source": [
    "# Repetition\n",
    "result = str1 * 3\n",
    "print(\"Repetition:\", result)  # Output: HelloHelloHello"
   ]
  },
  {
   "cell_type": "code",
   "execution_count": 32,
   "metadata": {},
   "outputs": [
    {
     "name": "stdout",
     "output_type": "stream",
     "text": [
      "First character: H\n"
     ]
    }
   ],
   "source": [
    "# Indexing\n",
    "first_char = str1[0]\n",
    "print(\"First character:\", first_char)  # Output: H"
   ]
  },
  {
   "cell_type": "code",
   "execution_count": 33,
   "metadata": {},
   "outputs": [
    {
     "name": "stdout",
     "output_type": "stream",
     "text": [
      "Slicing: orl\n"
     ]
    }
   ],
   "source": [
    "# Slicing\n",
    "substring = str2[1:4]\n",
    "print(\"Slicing:\", substring)  # Output: orl"
   ]
  },
  {
   "cell_type": "markdown",
   "metadata": {},
   "source": [
    "### String Methods\n",
    "\n",
    "Python provides a wide range of built-in string methods for common tasks.\n",
    "Find more in Python documentation: https://docs.python.org/3/library/stdtypes.html#text-sequence-type-str\n"
   ]
  },
  {
   "cell_type": "code",
   "execution_count": 50,
   "metadata": {},
   "outputs": [
    {
     "name": "stdout",
     "output_type": "stream",
     "text": [
      "Strip: Python Programming\n"
     ]
    }
   ],
   "source": [
    "text = \"  Python Programming  \"\n",
    "\n",
    "# Strip\n",
    "clean_text = text.strip()\n",
    "print(\"Strip:\", clean_text)  # Output: Python Programming"
   ]
  },
  {
   "cell_type": "code",
   "execution_count": 51,
   "metadata": {},
   "outputs": [
    {
     "name": "stdout",
     "output_type": "stream",
     "text": [
      "Lowercase:   python programming  \n",
      "Uppercase:   PYTHON PROGRAMMING  \n",
      "  Python Programming  \n"
     ]
    }
   ],
   "source": [
    "# Lowercase\n",
    "lower_text = text.lower()\n",
    "print(\"Lowercase:\", lower_text)  # Output:   python programming  \n",
    "\n",
    "# Uppercase\n",
    "upper_text = text.upper()\n",
    "print(\"Uppercase:\", upper_text)  # Output:   PYTHON PROGRAMMING  \n",
    "\n",
    "# Note that the original text is unchanged:\n",
    "print(text)"
   ]
  },
  {
   "cell_type": "code",
   "execution_count": 37,
   "metadata": {},
   "outputs": [
    {
     "name": "stdout",
     "output_type": "stream",
     "text": [
      "Replace:   Java Programming  \n"
     ]
    }
   ],
   "source": [
    "# Replace\n",
    "replaced_text = text.replace(\"Python\", \"Java\")\n",
    "print(\"Replace:\", replaced_text)  # Output:   Java Programming  "
   ]
  },
  {
   "cell_type": "code",
   "execution_count": 38,
   "metadata": {},
   "outputs": [
    {
     "name": "stdout",
     "output_type": "stream",
     "text": [
      "  Python Programming  \n"
     ]
    }
   ],
   "source": [
    "print(text)"
   ]
  },
  {
   "cell_type": "code",
   "execution_count": 39,
   "metadata": {},
   "outputs": [
    {
     "name": "stdout",
     "output_type": "stream",
     "text": [
      "Split: ['Python', 'Programming']\n"
     ]
    }
   ],
   "source": [
    "# Split\n",
    "words = text.split()\n",
    "print(\"Split:\", words)  # Output: ['Python', 'Programming']"
   ]
  },
  {
   "cell_type": "code",
   "execution_count": 40,
   "metadata": {},
   "outputs": [
    {
     "name": "stdout",
     "output_type": "stream",
     "text": [
      "['test1', 'test2']\n"
     ]
    }
   ],
   "source": [
    "test = 'test1#test2'\n",
    "print(test.split('#'))"
   ]
  },
  {
   "cell_type": "code",
   "execution_count": 41,
   "metadata": {},
   "outputs": [
    {
     "name": "stdout",
     "output_type": "stream",
     "text": [
      "Split: [' ', ' ', 'P', 'y', 't', 'h', 'o', 'n', ' ', 'P', 'r', 'o', 'g', 'r', 'a', 'm', 'm', 'i', 'n', 'g', ' ', ' ']\n"
     ]
    }
   ],
   "source": [
    "list_of_chars = list(text)\n",
    "print(\"Split:\", list_of_chars) # Output: [' ', ' ', 'P', 'y', 't', 'h', 'o', 'n', ' ', 'P', 'r', 'o', 'g', 'r', 'a', 'm', 'm', 'i', 'n', 'g', ' ', ' ']"
   ]
  },
  {
   "cell_type": "markdown",
   "metadata": {},
   "source": [
    "### Practical Examples\n",
    "\n",
    "Let's look at some practical examples of using strings."
   ]
  },
  {
   "cell_type": "code",
   "execution_count": 42,
   "metadata": {},
   "outputs": [
    {
     "name": "stdout",
     "output_type": "stream",
     "text": [
      "Formatted string: My name is Alice and I am 30 years old.\n"
     ]
    }
   ],
   "source": [
    "# Formatting a String\n",
    "\n",
    "name = \"Alice\"\n",
    "age = 30\n",
    "formatted_string = f\"My name is {name} and I am {age} years old.\"\n",
    "print(\"Formatted string:\", formatted_string)\n"
   ]
  },
  {
   "cell_type": "code",
   "execution_count": 43,
   "metadata": {},
   "outputs": [
    {
     "name": "stdout",
     "output_type": "stream",
     "text": [
      "Word count: 6\n"
     ]
    }
   ],
   "source": [
    "# Counting Words in a Sentence\n",
    "\n",
    "\n",
    "sentence = \"Python programming is fun and versatile.\"\n",
    "word_count = len(sentence.split())\n",
    "print(\"Word count:\", word_count)"
   ]
  },
  {
   "cell_type": "code",
   "execution_count": 44,
   "metadata": {},
   "outputs": [
    {
     "name": "stdout",
     "output_type": "stream",
     "text": [
      "Word count: 40\n"
     ]
    }
   ],
   "source": [
    "\n",
    "sentence = \"Python programming is fun and versatile.\"\n",
    "word_count = len(list(sentence))\n",
    "print(\"Word count:\", word_count)"
   ]
  },
  {
   "cell_type": "code",
   "execution_count": 45,
   "metadata": {},
   "outputs": [
    {
     "name": "stdout",
     "output_type": "stream",
     "text": [
      "Does the text contain 'Python'? True\n"
     ]
    }
   ],
   "source": [
    "# Checking for Substring\n",
    "\n",
    "text = \"Hello, welcome to the world of Python!\"\n",
    "substring = \"Python\"\n",
    "contains_substring = substring in text\n",
    "print(f\"Does the text contain '{substring}'?\", contains_substring)"
   ]
  },
  {
   "cell_type": "markdown",
   "metadata": {},
   "source": [
    "###  Exercises\n",
    "\n",
    "Now, let's try some exercises to practice what we've learned."
   ]
  },
  {
   "cell_type": "code",
   "execution_count": 52,
   "metadata": {},
   "outputs": [
    {
     "name": "stdout",
     "output_type": "stream",
     "text": [
      "Full name: John Doe\n"
     ]
    }
   ],
   "source": [
    "# Concatenate First and Last Name\n",
    "first_name = \"John\"\n",
    "last_name = \"Doe\"\n",
    "full_name = first_name + \" \" + last_name\n",
    "print(\"Full name:\", full_name)"
   ]
  },
  {
   "cell_type": "code",
   "execution_count": 53,
   "metadata": {},
   "outputs": [
    {
     "name": "stdout",
     "output_type": "stream",
     "text": [
      "Uppercase text: PYTHON PROGRAMMING\n",
      "Length of text: 18\n"
     ]
    }
   ],
   "source": [
    "# Convert String to Uppercase and Count Length\n",
    "text = \"python programming\"\n",
    "upper_text = text.upper()\n",
    "length = len(upper_text)\n",
    "print(\"Uppercase text:\", upper_text)\n",
    "print(\"Length of text:\", length)"
   ]
  },
  {
   "cell_type": "code",
   "execution_count": 54,
   "metadata": {},
   "outputs": [
    {
     "name": "stdout",
     "output_type": "stream",
     "text": [
      "Initials: JD\n"
     ]
    }
   ],
   "source": [
    "# Extract and Print Initials\n",
    "name = \"John Doe\"\n",
    "initials = name[0] + name[name.index(\" \") + 1]\n",
    "print(\"Initials:\", initials)"
   ]
  },
  {
   "cell_type": "markdown",
   "metadata": {},
   "source": [
    "### Q&A and Troubleshooting\n",
    "\n",
    "* If you're having trouble with the exercises, here are a few tips:\n",
    "    * Indexing errors: Ensure you're using valid indices within the string's range.\n",
    "    * String immutability: Remember that strings cannot be modified in place; create new strings instead.\n",
    "    * Method usage: Check the method documentation if you're unsure how to use it.\n",
    "    "
   ]
  },
  {
   "cell_type": "markdown",
   "metadata": {},
   "source": [
    "### Summary\n",
    "\n",
    "* Today, we covered the basics of strings in Python, including creation, operations, methods, and practical examples.\n",
    "* Until next time, try creating a small program that manipulates strings to solve a problem of your choice.\n",
    "* Next week, we'll dive into lists and how to work with them.\n",
    "\n",
    "\n",
    "### Thank you for attending! See you next week!"
   ]
  },
  {
   "cell_type": "markdown",
   "metadata": {},
   "source": []
  }
 ],
 "metadata": {
  "kernelspec": {
   "display_name": "venv",
   "language": "python",
   "name": "python3"
  },
  "language_info": {
   "codemirror_mode": {
    "name": "ipython",
    "version": 3
   },
   "file_extension": ".py",
   "mimetype": "text/x-python",
   "name": "python",
   "nbconvert_exporter": "python",
   "pygments_lexer": "ipython3",
   "version": "3.11.1"
  }
 },
 "nbformat": 4,
 "nbformat_minor": 2
}
