{
 "cells": [
  {
   "cell_type": "code",
   "execution_count": 1,
   "metadata": {},
   "outputs": [],
   "source": [
    "# My imports"
   ]
  },
  {
   "cell_type": "markdown",
   "metadata": {},
   "source": [
    "## Scope and Lifetime of Variables"
   ]
  },
  {
   "cell_type": "markdown",
   "metadata": {},
   "source": [
    "### What is Scope?\n",
    "\n",
    "* Scope refers to the region of the code where a variable is accessible. Depending on where a variable is defined, it may or may not be accessible in different parts of your code.\n",
    "* In Python, the placement of a variable in the code defines where and how it can be used. "
   ]
  },
  {
   "cell_type": "code",
   "execution_count": 1,
   "metadata": {},
   "outputs": [
    {
     "ename": "NameError",
     "evalue": "name 'x' is not defined",
     "output_type": "error",
     "traceback": [
      "\u001b[0;31m---------------------------------------------------------------------------\u001b[0m",
      "\u001b[0;31mNameError\u001b[0m                                 Traceback (most recent call last)",
      "Cell \u001b[0;32mIn[1], line 5\u001b[0m\n\u001b[1;32m      2\u001b[0m     x \u001b[38;5;241m=\u001b[39m \u001b[38;5;241m10\u001b[39m  \u001b[38;5;66;03m# Variable 'x' is only accessible inside this function\u001b[39;00m\n\u001b[1;32m      4\u001b[0m example_function()\n\u001b[0;32m----> 5\u001b[0m \u001b[38;5;28mprint\u001b[39m(\u001b[43mx\u001b[49m)  \u001b[38;5;66;03m# Error: 'x' is not defined outside the function\u001b[39;00m\n",
      "\u001b[0;31mNameError\u001b[0m: name 'x' is not defined"
     ]
    }
   ],
   "source": [
    "def example_function():\n",
    "    x = 10  # Variable 'x' is only accessible inside this function\n",
    "\n",
    "example_function()\n",
    "print(x)  # Error: 'x' is not defined outside the function"
   ]
  },
  {
   "cell_type": "markdown",
   "metadata": {},
   "source": [
    "* In this example, x has a local scope within example_function. Trying to access it outside the function will raise an error."
   ]
  },
  {
   "cell_type": "markdown",
   "metadata": {},
   "source": [
    "### Types of Variable Scope\n",
    "\n",
    "In Python, there are four main types of scopes:\n",
    "1. Local Scope: Variables defined inside a function. They can only be accessed within that function.\n",
    "2. Enclosing (Nonlocal) Scope: Variables in the outer function of a nested function.\n",
    "3. Global Scope: Variables defined at the top level of a script or outside any function. They can be accessed throughout the entire script.\n",
    "4. Built-in Scope: Reserved names in Python, like len() or range()."
   ]
  },
  {
   "cell_type": "markdown",
   "metadata": {},
   "source": [
    "![scopes](https://i.ytimg.com/vi/38uGbVYICwg/maxresdefault.jpg)"
   ]
  },
  {
   "cell_type": "markdown",
   "metadata": {},
   "source": [
    "![scopes2](https://miro.medium.com/v2/resize:fit:519/1*uEObvLPqaRLXerEjkZmhiQ.png)"
   ]
  },
  {
   "cell_type": "markdown",
   "metadata": {},
   "source": [
    "### Global vs. Local Variables\n",
    "\n",
    "* Let’s break down the difference between global and local variables.\n",
    "* Local variables are defined inside a function and can only be used there.\n",
    "* Global variables are defined outside of all functions and can be accessed anywhere in the program."
   ]
  },
  {
   "cell_type": "code",
   "execution_count": 2,
   "metadata": {},
   "outputs": [
    {
     "name": "stdout",
     "output_type": "stream",
     "text": [
      "5\n"
     ]
    }
   ],
   "source": [
    "x = 5  # Global variable\n",
    "\n",
    "def my_function():\n",
    "    print(x)  # Accessing the global variable 'x'\n",
    "\n",
    "my_function()  # Output: 5"
   ]
  },
  {
   "cell_type": "code",
   "execution_count": 3,
   "metadata": {},
   "outputs": [
    {
     "name": "stdout",
     "output_type": "stream",
     "text": [
      "10\n"
     ]
    }
   ],
   "source": [
    "def my_function():\n",
    "    y = 10  # Local variable\n",
    "    print(y)\n",
    "\n",
    "my_function()  # Output: 10\n"
   ]
  },
  {
   "cell_type": "code",
   "execution_count": 4,
   "metadata": {},
   "outputs": [
    {
     "ename": "NameError",
     "evalue": "name 'y' is not defined",
     "output_type": "error",
     "traceback": [
      "\u001b[0;31m---------------------------------------------------------------------------\u001b[0m",
      "\u001b[0;31mNameError\u001b[0m                                 Traceback (most recent call last)",
      "Cell \u001b[0;32mIn[4], line 1\u001b[0m\n\u001b[0;32m----> 1\u001b[0m \u001b[38;5;28mprint\u001b[39m(\u001b[43my\u001b[49m)  \u001b[38;5;66;03m# Error: 'y' is not defined outside the function\u001b[39;00m\n",
      "\u001b[0;31mNameError\u001b[0m: name 'y' is not defined"
     ]
    }
   ],
   "source": [
    "print(y)  # Error: 'y' is not defined outside the function"
   ]
  },
  {
   "cell_type": "markdown",
   "metadata": {},
   "source": [
    "* The variable x is global and can be accessed anywhere, while y is local to my_function and cannot be accessed outside the function."
   ]
  },
  {
   "cell_type": "markdown",
   "metadata": {},
   "source": [
    "### Modifying Global Variables\n",
    "\n",
    "* By default, you cannot modify a global variable inside a function. However, you can use the global keyword to modify a global variable within a function."
   ]
  },
  {
   "cell_type": "code",
   "execution_count": 8,
   "metadata": {},
   "outputs": [
    {
     "name": "stdout",
     "output_type": "stream",
     "text": [
      "20\n"
     ]
    }
   ],
   "source": [
    "x = 10  # Global variable\n",
    "\n",
    "def modify_global():\n",
    "    global x  # Declare that we want to modify the global 'x'\n",
    "    x = 20\n",
    "    # print(x)\n",
    "\n",
    "modify_global()\n",
    "print(x)  # Output: 20"
   ]
  },
  {
   "cell_type": "markdown",
   "metadata": {},
   "source": [
    "* Without the global keyword, Python would treat x inside modify_global as a local variable. Using global allows you to modify the global variable.\n"
   ]
  },
  {
   "cell_type": "markdown",
   "metadata": {},
   "source": [
    "### Enclosing (Nonlocal) Scope\n",
    "\n",
    "* In nested functions, variables in the outer function are in enclosing scope. You can modify an enclosing variable using the `nonlocal` keyword."
   ]
  },
  {
   "cell_type": "code",
   "execution_count": 12,
   "metadata": {},
   "outputs": [
    {
     "name": "stdout",
     "output_type": "stream",
     "text": [
      "inner\n"
     ]
    }
   ],
   "source": [
    "def outer_function():\n",
    "    x = \"outer\"\n",
    "    \n",
    "    def inner_function():\n",
    "        nonlocal x  # Modify the variable from the enclosing (outer) function\n",
    "        x = \"inner\"\n",
    "        \n",
    "    inner_function()\n",
    "    print(x)  # Output: inner\n",
    "\n",
    "outer_function()"
   ]
  },
  {
   "cell_type": "markdown",
   "metadata": {},
   "source": [
    "* Here, the nonlocal keyword allows inner_function to modify x in outer_function. Without nonlocal, Python would treat x in inner_function as a local variable."
   ]
  },
  {
   "cell_type": "code",
   "execution_count": 26,
   "metadata": {},
   "outputs": [],
   "source": [
    "# clear the global variable x\n",
    "del x"
   ]
  },
  {
   "cell_type": "markdown",
   "metadata": {},
   "source": [
    "### Lifetime of Variables\n",
    "\n",
    "* The lifetime of a variable refers to how long it exists in memory. This depends on where the variable is declared:\n",
    "    * Local variables: Exist only while the function is executing. Once the function exits, the local variable is deleted.\n",
    "    * Global variables: Exist for the duration of the program’s execution, unless explicitly deleted."
   ]
  },
  {
   "cell_type": "code",
   "execution_count": 15,
   "metadata": {},
   "outputs": [
    {
     "name": "stdout",
     "output_type": "stream",
     "text": [
      "10\n"
     ]
    },
    {
     "ename": "NameError",
     "evalue": "name 'x' is not defined",
     "output_type": "error",
     "traceback": [
      "\u001b[0;31m---------------------------------------------------------------------------\u001b[0m",
      "\u001b[0;31mNameError\u001b[0m                                 Traceback (most recent call last)",
      "Cell \u001b[0;32mIn[15], line 6\u001b[0m\n\u001b[1;32m      3\u001b[0m     \u001b[38;5;28mprint\u001b[39m(x)\n\u001b[1;32m      5\u001b[0m my_function()  \u001b[38;5;66;03m# Output: 10\u001b[39;00m\n\u001b[0;32m----> 6\u001b[0m \u001b[38;5;28mprint\u001b[39m(\u001b[43mx\u001b[49m)  \u001b[38;5;66;03m# Error: 'x' is not defined (the local variable 'x' no longer exists)\u001b[39;00m\n",
      "\u001b[0;31mNameError\u001b[0m: name 'x' is not defined"
     ]
    }
   ],
   "source": [
    "def my_function():\n",
    "    x = 10  # Local variable\n",
    "    print(x)\n",
    "\n",
    "my_function()  # Output: 10\n",
    "print(x)  # Error: 'x' is not defined (the local variable 'x' no longer exists)"
   ]
  },
  {
   "cell_type": "markdown",
   "metadata": {},
   "source": [
    "* The local variable `x` only exists while `my_function` is running. After the function finishes, `x` is removed from memory."
   ]
  },
  {
   "cell_type": "markdown",
   "metadata": {},
   "source": [
    "### Practical Examples\n",
    "\n",
    "Let’s go over some practical examples to see how scope works in real-world scenarios."
   ]
  },
  {
   "cell_type": "code",
   "execution_count": 16,
   "metadata": {},
   "outputs": [
    {
     "name": "stdout",
     "output_type": "stream",
     "text": [
      "2\n"
     ]
    }
   ],
   "source": [
    "# Counting Function Calls with Global Variables\n",
    "\n",
    "counter = 0  # Global variable\n",
    "\n",
    "def increment_counter():\n",
    "    global counter  # Modify global variable\n",
    "    counter += 1\n",
    "\n",
    "increment_counter()\n",
    "increment_counter()\n",
    "print(counter)  # Output: 2"
   ]
  },
  {
   "cell_type": "code",
   "execution_count": 17,
   "metadata": {},
   "outputs": [
    {
     "ename": "NameError",
     "evalue": "name 'x' is not defined",
     "output_type": "error",
     "traceback": [
      "\u001b[0;31m---------------------------------------------------------------------------\u001b[0m",
      "\u001b[0;31mNameError\u001b[0m                                 Traceback (most recent call last)",
      "Cell \u001b[0;32mIn[17], line 1\u001b[0m\n\u001b[0;32m----> 1\u001b[0m \u001b[38;5;28;01mdel\u001b[39;00m \u001b[43mx\u001b[49m\n",
      "\u001b[0;31mNameError\u001b[0m: name 'x' is not defined"
     ]
    }
   ],
   "source": [
    "del x"
   ]
  },
  {
   "cell_type": "code",
   "execution_count": 20,
   "metadata": {},
   "outputs": [
    {
     "name": "stdout",
     "output_type": "stream",
     "text": [
      "Inside function: global\n",
      "Inside function: local\n",
      "Outside function: global\n"
     ]
    },
    {
     "ename": "NameError",
     "evalue": "name 'y' is not defined",
     "output_type": "error",
     "traceback": [
      "\u001b[0;31m---------------------------------------------------------------------------\u001b[0m",
      "\u001b[0;31mNameError\u001b[0m                                 Traceback (most recent call last)",
      "Cell \u001b[0;32mIn[20], line 12\u001b[0m\n\u001b[1;32m     10\u001b[0m print_variables()\n\u001b[1;32m     11\u001b[0m \u001b[38;5;28mprint\u001b[39m(\u001b[38;5;124m\"\u001b[39m\u001b[38;5;124mOutside function:\u001b[39m\u001b[38;5;124m\"\u001b[39m, x)  \u001b[38;5;66;03m# Output: global\u001b[39;00m\n\u001b[0;32m---> 12\u001b[0m \u001b[38;5;28mprint\u001b[39m(\u001b[38;5;124m\"\u001b[39m\u001b[38;5;124mOutside function:\u001b[39m\u001b[38;5;124m\"\u001b[39m, \u001b[43my\u001b[49m)  \u001b[38;5;66;03m# Error: 'y' is not defined\u001b[39;00m\n",
      "\u001b[0;31mNameError\u001b[0m: name 'y' is not defined"
     ]
    }
   ],
   "source": [
    "# Using Local and Global Variables Together\n",
    "\n",
    "x = \"global\"\n",
    "\n",
    "def print_variables():\n",
    "    y = \"local\"  # Local variable\n",
    "    print(\"Inside function:\", x)  # Accessing global variable\n",
    "    print(\"Inside function:\", y)  # Accessing local variable\n",
    "\n",
    "print_variables()\n",
    "print(\"Outside function:\", x)  # Output: global\n",
    "print(\"Outside function:\", y)  # Error: 'y' is not defined\n"
   ]
  },
  {
   "cell_type": "markdown",
   "metadata": {},
   "source": [
    "* The global variable `x` can be accessed inside and outside the function, while the local variable `y` only exists inside the function."
   ]
  },
  {
   "cell_type": "code",
   "execution_count": 21,
   "metadata": {},
   "outputs": [],
   "source": [
    "del x"
   ]
  },
  {
   "cell_type": "markdown",
   "metadata": {},
   "source": [
    "### Exercises"
   ]
  },
  {
   "cell_type": "markdown",
   "metadata": {},
   "source": [
    "Exercise 1: Global and Local Variables"
   ]
  },
  {
   "cell_type": "code",
   "execution_count": 23,
   "metadata": {},
   "outputs": [
    {
     "name": "stdout",
     "output_type": "stream",
     "text": [
      "5\n"
     ]
    }
   ],
   "source": [
    "# Define a global variable and a local variable inside a function. Modify the global variable inside the function using the 'global' keyword.\n",
    "\n",
    "x = 5  # Global variable\n",
    "\n",
    "def modify_variable():\n",
    "    # global x\n",
    "    x = 10  # Modify global variable\n",
    "\n",
    "modify_variable()\n",
    "print(x)  # Output: 10"
   ]
  },
  {
   "cell_type": "markdown",
   "metadata": {},
   "source": [
    "Exercise 2: Nested Functions with `nonlocal`"
   ]
  },
  {
   "cell_type": "code",
   "execution_count": 25,
   "metadata": {},
   "outputs": [
    {
     "name": "stdout",
     "output_type": "stream",
     "text": [
      "5\n"
     ]
    }
   ],
   "source": [
    "# Create a nested function and modify the enclosing variable using the 'nonlocal' keyword.\n",
    "\n",
    "def outer():\n",
    "    a = 5\n",
    "    \n",
    "    def inner():\n",
    "        # nonlocal a\n",
    "        a = 10\n",
    "    \n",
    "    inner()\n",
    "    print(a)  # Output: 10\n",
    "\n",
    "outer()"
   ]
  }
 ],
 "metadata": {
  "kernelspec": {
   "display_name": "venv",
   "language": "python",
   "name": "python3"
  },
  "language_info": {
   "codemirror_mode": {
    "name": "ipython",
    "version": 3
   },
   "file_extension": ".py",
   "mimetype": "text/x-python",
   "name": "python",
   "nbconvert_exporter": "python",
   "pygments_lexer": "ipython3",
   "version": "3.11.1"
  }
 },
 "nbformat": 4,
 "nbformat_minor": 2
}
