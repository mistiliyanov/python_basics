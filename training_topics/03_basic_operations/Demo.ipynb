{
 "cells": [
  {
   "cell_type": "code",
   "execution_count": 1,
   "metadata": {},
   "outputs": [],
   "source": [
    "# my imports"
   ]
  },
  {
   "cell_type": "markdown",
   "metadata": {},
   "source": [
    "## Basic Operations"
   ]
  },
  {
   "cell_type": "markdown",
   "metadata": {},
   "source": [
    "### Arithmetic Operations\n",
    "\n",
    "* Arithmetic operations allow us to perform basic mathematical calculations.\n",
    "* The common arithmetic operators in Python are:\n",
    "    * Addition: '+'\n",
    "    * Subtraction: '-'\n",
    "    * Multiplication: '*'\n",
    "    * Division: '/'\n",
    "    * Modulus: '%'\n",
    "    * Exponentiation: '**'\n",
    "    * Floor Division: '//'\n"
   ]
  },
  {
   "cell_type": "code",
   "execution_count": 22,
   "metadata": {},
   "outputs": [
    {
     "name": "stdout",
     "output_type": "stream",
     "text": [
      "Addition: 13\n",
      "Subtraction: 7\n",
      "Multiplication: 30\n",
      "Division: 3.3333333333333335\n",
      "Modulus: 1\n",
      "Exponentiation: 1000\n",
      "Floor Division: 3\n"
     ]
    }
   ],
   "source": [
    "# Aritmetic Operations example:\n",
    "a = 10\n",
    "b = 3\n",
    "\n",
    "print(\"Addition:\", a + b)        # 13\n",
    "print(\"Subtraction:\", a - b)     # 7\n",
    "print(\"Multiplication:\", a * b)  # 30\n",
    "print(\"Division:\", a / b)        # 3.3333...\n",
    "print(\"Modulus:\", a % b)         # 1\n",
    "print(\"Exponentiation:\", a ** b) # 1000\n",
    "print(\"Floor Division:\", a // b) # 3"
   ]
  },
  {
   "cell_type": "markdown",
   "metadata": {},
   "source": [
    "### Comparison Operations\n",
    "\n",
    "* Comparison operations allow us to compare two values.\n",
    "* The common comparison operators in Python are:\n",
    "    * Equal: '=='\n",
    "    * Not equal: '!='\n",
    "    * Greater than: '>'\n",
    "    * Less than: '<'\n",
    "    * Greater than or equal to: '>='\n",
    "    * Less than or equal to: '<='"
   ]
  },
  {
   "cell_type": "code",
   "execution_count": 23,
   "metadata": {},
   "outputs": [
    {
     "name": "stdout",
     "output_type": "stream",
     "text": [
      "Equal: False\n",
      "Not equal: True\n",
      "Greater than: False\n",
      "Less than: True\n",
      "Greater or equal: False\n",
      "Less or equal: True\n"
     ]
    }
   ],
   "source": [
    "# Comparison Operations example:\n",
    "\n",
    "x = 5\n",
    "y = 8\n",
    "\n",
    "print(\"Equal:\", x == y)              # False\n",
    "print(\"Not equal:\", x != y)          # True\n",
    "print(\"Greater than:\", x > y)        # False\n",
    "print(\"Less than:\", x < y)           # True\n",
    "print(\"Greater or equal:\", x >= y)   # False\n",
    "print(\"Less or equal:\", x <= y)      # True"
   ]
  },
  {
   "cell_type": "markdown",
   "metadata": {},
   "source": [
    "### Chaining comperison operations"
   ]
  },
  {
   "cell_type": "code",
   "execution_count": 21,
   "metadata": {},
   "outputs": [
    {
     "data": {
      "text/plain": [
       "True"
      ]
     },
     "execution_count": 21,
     "metadata": {},
     "output_type": "execute_result"
    }
   ],
   "source": [
    "x = 3\n",
    "y = 7\n",
    "z = 10\n",
    "\n",
    "x <= y <= z"
   ]
  },
  {
   "cell_type": "markdown",
   "metadata": {},
   "source": [
    "### Logical Operations\n",
    "\n",
    "* Logical operations allow us to combine multiple conditions.\n",
    "* The common logical operators in Python are:\n",
    "    * And: 'and'\n",
    "    * Or: 'or'\n",
    "    * Not: 'not'\n"
   ]
  },
  {
   "cell_type": "code",
   "execution_count": 9,
   "metadata": {},
   "outputs": [
    {
     "name": "stdout",
     "output_type": "stream",
     "text": [
      "a and b: False\n",
      "a or b: True\n",
      "not a: False\n"
     ]
    }
   ],
   "source": [
    "# Logical Operations example:\n",
    "\n",
    "a = True\n",
    "b = False\n",
    "\n",
    "print(\"a and b:\", a and b)  # False\n",
    "print(\"a or b:\", a or b)    # True\n",
    "print(\"not a:\", not a)      # False"
   ]
  },
  {
   "cell_type": "markdown",
   "metadata": {},
   "source": [
    "### Assignment Operations\n",
    "\n",
    "* Assignment operations allow us to assign values to variables and perform operations simultaneously.\n",
    "* The common assignment operators in Python are:\n",
    "    * Assign: =\n",
    "    * Add and assign: +=\n",
    "    * Subtract and assign: -=\n",
    "    * Multiply and assign: *=\n",
    "    * Divide and assign: /=\n",
    "    * Modulus and assign: %=\n",
    "    * Exponentiate and assign: **=\n",
    "    * Floor divide and assign: //="
   ]
  },
  {
   "cell_type": "code",
   "execution_count": 10,
   "metadata": {},
   "outputs": [
    {
     "name": "stdout",
     "output_type": "stream",
     "text": [
      "x += 5: 15\n",
      "x -= 3: 12\n",
      "x *= 2: 24\n",
      "x /= 4: 6.0\n",
      "x %= 2: 0.0\n",
      "x **= 3: 0.0\n",
      "x //= 1: 0.0\n"
     ]
    }
   ],
   "source": [
    "# Assignment Operations example:\n",
    "\n",
    "x = 10\n",
    "\n",
    "x += 5  # x = x + 5\n",
    "print(\"x += 5:\", x)  # 15\n",
    "\n",
    "x -= 3  # x = x - 3\n",
    "print(\"x -= 3:\", x)  # 12\n",
    "\n",
    "x *= 2  # x = x * 2\n",
    "print(\"x *= 2:\", x)  # 24\n",
    "\n",
    "x /= 4  # x = x / 4\n",
    "print(\"x /= 4:\", x)  # 6.0\n",
    "\n",
    "x %= 2  # x = x % 2\n",
    "print(\"x %= 2:\", x)  # 0.0\n",
    "\n",
    "x **= 3  # x = x ** 3\n",
    "print(\"x **= 3:\", x)  # 0.0\n",
    "\n",
    "x //= 1  # x = x // 1\n",
    "print(\"x //= 1:\", x)  # 0.0"
   ]
  },
  {
   "cell_type": "markdown",
   "metadata": {},
   "source": [
    "### Practical Examples"
   ]
  },
  {
   "cell_type": "code",
   "execution_count": 24,
   "metadata": {},
   "outputs": [
    {
     "name": "stdout",
     "output_type": "stream",
     "text": [
      "Average: 84.33333333333333\n"
     ]
    }
   ],
   "source": [
    "# Calculating the Average of Three Numbers\n",
    "\n",
    "num1 = 85\n",
    "num2 = 90\n",
    "num3 = 78\n",
    "\n",
    "average = (num1 + num2 + num3) / 3\n",
    "print(\"Average:\", average)"
   ]
  },
  {
   "cell_type": "code",
   "execution_count": 25,
   "metadata": {},
   "outputs": [
    {
     "name": "stdout",
     "output_type": "stream",
     "text": [
      "Eligible for discount: True\n"
     ]
    }
   ],
   "source": [
    "# Checking Eligibility for a Discount\n",
    "\n",
    "age = 65\n",
    "is_member = True\n",
    "\n",
    "eligible_for_discount = (age >= 60) or is_member\n",
    "print(\"Eligible for discount:\", eligible_for_discount)"
   ]
  },
  {
   "cell_type": "code",
   "execution_count": 26,
   "metadata": {},
   "outputs": [
    {
     "name": "stdout",
     "output_type": "stream",
     "text": [
      "Updated inventory after sale: 80\n",
      "Updated inventory after restock: 130\n"
     ]
    }
   ],
   "source": [
    "# Updating Inventory\n",
    "\n",
    "inventory = 100\n",
    "\n",
    "# A sale of 20 items\n",
    "inventory -= 20\n",
    "print(\"Updated inventory after sale:\", inventory)\n",
    "\n",
    "# A restock of 50 items\n",
    "inventory += 50\n",
    "print(\"Updated inventory after restock:\", inventory)"
   ]
  },
  {
   "cell_type": "markdown",
   "metadata": {},
   "source": [
    "### Exercises\n",
    "\n",
    "Now, let's try some exercises to practice what we've learned."
   ]
  },
  {
   "cell_type": "code",
   "execution_count": 14,
   "metadata": {},
   "outputs": [
    {
     "name": "stdout",
     "output_type": "stream",
     "text": [
      "Sum: 19\n",
      "Difference: 11\n",
      "Product: 60\n",
      "Quotient: 3.75\n"
     ]
    }
   ],
   "source": [
    "a = 15\n",
    "b = 4\n",
    "\n",
    "# Perform addition, subtraction, multiplication, and division\n",
    "sum_ab = a + b\n",
    "diff_ab = a - b\n",
    "prod_ab = a * b\n",
    "quot_ab = a / b\n",
    "\n",
    "# Print the results\n",
    "print(\"Sum:\", sum_ab)\n",
    "print(\"Difference:\", diff_ab)\n",
    "print(\"Product:\", prod_ab)\n",
    "print(\"Quotient:\", quot_ab)"
   ]
  },
  {
   "cell_type": "code",
   "execution_count": 15,
   "metadata": {},
   "outputs": [
    {
     "name": "stdout",
     "output_type": "stream",
     "text": [
      "Result of (x < y) and (z > y): False\n",
      "Result of (x == 10) or (y < 15): True\n"
     ]
    }
   ],
   "source": [
    "x = 10\n",
    "y = 20\n",
    "z = 15\n",
    "\n",
    "# Check if x is less than y and z is greater than y\n",
    "result = (x < y) and (z > y)\n",
    "print(\"Result of (x < y) and (z > y):\", result)\n",
    "\n",
    "# Check if x is equal to 10 or y is less than 15\n",
    "result = (x == 10) or (y < 15)\n",
    "print(\"Result of (x == 10) or (y < 15):\", result)"
   ]
  },
  {
   "cell_type": "markdown",
   "metadata": {},
   "source": [
    "Find side A in a right angled triangle: $A^2 + B^2 = C^2$"
   ]
  },
  {
   "cell_type": "code",
   "execution_count": 27,
   "metadata": {},
   "outputs": [
    {
     "data": {
      "text/plain": [
       "3.0"
      ]
     },
     "execution_count": 27,
     "metadata": {},
     "output_type": "execute_result"
    }
   ],
   "source": [
    "\n",
    "def find_a(b, c):\n",
    "    a = (c ** 2 - b ** 2) ** 0.5\n",
    "    return a\n",
    "\n",
    "find_a(4, 5)"
   ]
  }
 ],
 "metadata": {
  "kernelspec": {
   "display_name": "venv",
   "language": "python",
   "name": "python3"
  },
  "language_info": {
   "codemirror_mode": {
    "name": "ipython",
    "version": 3
   },
   "file_extension": ".py",
   "mimetype": "text/x-python",
   "name": "python",
   "nbconvert_exporter": "python",
   "pygments_lexer": "ipython3",
   "version": "3.11.1"
  }
 },
 "nbformat": 4,
 "nbformat_minor": 2
}
