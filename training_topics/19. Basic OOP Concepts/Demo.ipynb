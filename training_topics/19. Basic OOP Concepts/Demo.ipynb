{
 "cells": [
  {
   "cell_type": "code",
   "execution_count": null,
   "metadata": {},
   "outputs": [],
   "source": [
    "# My imports\n"
   ]
  },
  {
   "cell_type": "markdown",
   "metadata": {},
   "source": [
    "# Basic OOP Concepts (Classes and Objects)\n"
   ]
  },
  {
   "cell_type": "markdown",
   "metadata": {},
   "source": [
    "### Introduction to Object-Oriented Programming (OOP)\n",
    "**Object-Oriented Programming (OOP)** is a programming paradigm where we structure our code around objects. An object is an instance of a class, and it can represent real-world things like cars, users, or any entity with attributes and behaviors.\n",
    "\n",
    "Advantages of OOP:\n",
    "* **Modularity**: Code is organized into discrete, reusable classes.\n",
    "* **Reusability**: Classes can be reused across different parts of your program.\n",
    "* **Maintainability**: Code changes are easier to manage, especially in large applications.<br><br>\n",
    "\n",
    "Key OOP Concepts:\n",
    "\n",
    "* Classes\n",
    "* Objects\n",
    "* Attributes and Methods\n"
   ]
  },
  {
   "cell_type": "markdown",
   "metadata": {},
   "source": [
    "### Understanding Classes and Objects\n",
    "\n",
    "Classes are blueprints for creating objects. Each object created from a class has its own data (attributes) and behaviors (methods) defined by the class.\n",
    "\n",
    "* **Class**: Defines a template for objects.\n",
    "* **Object**: An instance of a class that represents a specific entity.\n",
    "\n",
    "Analogy:\n",
    "\n",
    "Think of a class as a blueprint for building houses. Each object is a unique house built from that blueprint with its own characteristics.\n"
   ]
  },
  {
   "cell_type": "markdown",
   "metadata": {},
   "source": [
    "Example:\n"
   ]
  },
  {
   "cell_type": "code",
   "execution_count": 2,
   "metadata": {},
   "outputs": [],
   "source": [
    "\n",
    "class Dog:\n",
    "    pass"
   ]
  },
  {
   "cell_type": "markdown",
   "metadata": {},
   "source": [
    "### Creating a Basic Class\n",
    "\n"
   ]
  },
  {
   "cell_type": "code",
   "execution_count": 4,
   "metadata": {},
   "outputs": [],
   "source": [
    "class Dog:\n",
    "    def __init__(self, name, age) -> None:\n",
    "        self.name = name\n",
    "        self.age = age\n",
    "\n",
    "    def bark(self):\n",
    "        print(f'{self.name} sais Woof!')"
   ]
  },
  {
   "cell_type": "markdown",
   "metadata": {},
   "source": [
    "* ```__init__``` method: This is a special method called the constructor. It initializes the attributes of each instance.\n",
    "* **self**: Refers to the instance itself, allowing access to its attributes and methods."
   ]
  },
  {
   "cell_type": "code",
   "execution_count": 5,
   "metadata": {},
   "outputs": [
    {
     "name": "stdout",
     "output_type": "stream",
     "text": [
      "Buddy\n",
      "5\n",
      "Buddy sais Woof!\n"
     ]
    }
   ],
   "source": [
    "my_dog = Dog(\"Buddy\", 5)\n",
    "print(my_dog.name)  # Output: Buddy\n",
    "print(my_dog.age)   # Output: 5\n",
    "my_dog.bark()       # Output: Buddy says Woof!"
   ]
  },
  {
   "cell_type": "code",
   "execution_count": 6,
   "metadata": {},
   "outputs": [
    {
     "data": {
      "text/plain": [
       "__main__.Dog"
      ]
     },
     "execution_count": 6,
     "metadata": {},
     "output_type": "execute_result"
    }
   ],
   "source": [
    "type(my_dog)"
   ]
  },
  {
   "cell_type": "markdown",
   "metadata": {},
   "source": [
    "Here, my_dog is an object of the Dog class with its own name and age attributes."
   ]
  },
  {
   "cell_type": "code",
   "execution_count": 7,
   "metadata": {},
   "outputs": [
    {
     "data": {
      "text/plain": [
       "'Buddy'"
      ]
     },
     "execution_count": 7,
     "metadata": {},
     "output_type": "execute_result"
    }
   ],
   "source": [
    "my_dog.name"
   ]
  },
  {
   "cell_type": "code",
   "execution_count": 8,
   "metadata": {},
   "outputs": [
    {
     "name": "stdout",
     "output_type": "stream",
     "text": [
      "Bella\n"
     ]
    }
   ],
   "source": [
    "another_dog = Dog(\"Bella\", 3)\n",
    "print(another_dog.name)  # Output: Bella"
   ]
  },
  {
   "cell_type": "code",
   "execution_count": 9,
   "metadata": {},
   "outputs": [
    {
     "name": "stdout",
     "output_type": "stream",
     "text": [
      "Bella sais Woof!\n"
     ]
    }
   ],
   "source": [
    "another_dog.bark()"
   ]
  },
  {
   "cell_type": "markdown",
   "metadata": {},
   "source": [
    "### Attributes in OOP\n",
    "\n",
    "Attributes represent the data associated with each instance. In the Dog class, we defined name and age as attributes.\n",
    "\n",
    "* **Instance Attributes**: These are specific to each object (e.g., each Dog has its own name and age).\n",
    "* **Accessing Attributes**: Use dot notation (object.attribute) to access attributes."
   ]
  },
  {
   "cell_type": "code",
   "execution_count": 10,
   "metadata": {},
   "outputs": [],
   "source": [
    "class Dog:\n",
    "    def __init__(self, name, age):\n",
    "        self.name = name\n",
    "        self.age = age\n",
    "\n",
    "    def bark(self):\n",
    "        print(f\"{self.name} says Woof!\")\n",
    "\n",
    "    def birthday(self):\n",
    "        self.age += 1\n",
    "        print(f\"Happy Birthday {self.name}! You are now {self.age} years old.\")"
   ]
  },
  {
   "cell_type": "code",
   "execution_count": 11,
   "metadata": {},
   "outputs": [
    {
     "name": "stdout",
     "output_type": "stream",
     "text": [
      "Bella\n"
     ]
    }
   ],
   "source": [
    "another_dog = Dog(\"Bella\", 3)\n",
    "print(another_dog.name)  # Output: Bella"
   ]
  },
  {
   "cell_type": "code",
   "execution_count": 15,
   "metadata": {},
   "outputs": [
    {
     "name": "stdout",
     "output_type": "stream",
     "text": [
      "Happy Birthday Bella! You are now 7 years old.\n"
     ]
    }
   ],
   "source": [
    "another_dog.birthday()"
   ]
  },
  {
   "cell_type": "markdown",
   "metadata": {},
   "source": [
    "Here, the birthday method increases the age attribute by 1."
   ]
  },
  {
   "cell_type": "markdown",
   "metadata": {},
   "source": [
    "### Practical Example – Creating a Simple Class\n",
    "\n",
    "Let’s create a Car class that has some basic attributes and methods to interact with the car."
   ]
  },
  {
   "cell_type": "code",
   "execution_count": 16,
   "metadata": {},
   "outputs": [],
   "source": [
    "class Car:\n",
    "    def __init__(self, make, model, year):\n",
    "        self.make = make\n",
    "        self.model = model\n",
    "        self.year = year\n",
    "        self.odometer = 0\n",
    "\n",
    "    def drive(self, miles):\n",
    "        self.odometer += miles\n",
    "        print(f\"You've driven {miles} miles. Odometer now reads {self.odometer} miles.\")\n",
    "\n",
    "    def get_info(self):\n",
    "        return f\"{self.year} {self.make} {self.model}\""
   ]
  },
  {
   "cell_type": "markdown",
   "metadata": {},
   "source": [
    "This Car class includes an __init__ method, a drive method to increase the odometer, and a get_info method to return car details.\n"
   ]
  },
  {
   "cell_type": "code",
   "execution_count": 17,
   "metadata": {},
   "outputs": [
    {
     "name": "stdout",
     "output_type": "stream",
     "text": [
      "2020 Toyota Corolla\n",
      "You've driven 100 miles. Odometer now reads 100 miles.\n"
     ]
    }
   ],
   "source": [
    "my_car = Car(\"Toyota\", \"Corolla\", 2020)\n",
    "print(my_car.get_info())  # Output: 2020 Toyota Corolla\n",
    "my_car.drive(100)         # Output: You've driven 100 miles. Odometer now reads 100 miles."
   ]
  },
  {
   "cell_type": "code",
   "execution_count": 21,
   "metadata": {},
   "outputs": [
    {
     "name": "stdout",
     "output_type": "stream",
     "text": [
      "You've driven 100 miles. Odometer now reads 300 miles.\n"
     ]
    }
   ],
   "source": [
    "my_car.drive(100) "
   ]
  },
  {
   "cell_type": "code",
   "execution_count": 22,
   "metadata": {},
   "outputs": [
    {
     "data": {
      "text/plain": [
       "300"
      ]
     },
     "execution_count": 22,
     "metadata": {},
     "output_type": "execute_result"
    }
   ],
   "source": [
    "my_car.odometer"
   ]
  },
  {
   "cell_type": "markdown",
   "metadata": {},
   "source": [
    "Exercise: Creating Your Own Class\n",
    "\n",
    "**Task**: Create a Book class with the following:\n",
    "\n",
    "* **Attributes**: title, author, and pages.\n",
    "* **Method**: summary that prints out a summary in the format \"Title by Author, Pages pages long\"."
   ]
  },
  {
   "cell_type": "code",
   "execution_count": 23,
   "metadata": {},
   "outputs": [],
   "source": [
    "class Book:\n",
    "    def __init__(self, title, author, pages):\n",
    "        self.title = title\n",
    "        self.author = author\n",
    "        self.pages = pages\n",
    "\n",
    "    def summary(self):\n",
    "        print(f\"{self.title} by {self.author}, {self.pages} pages long.\")"
   ]
  },
  {
   "cell_type": "code",
   "execution_count": 24,
   "metadata": {},
   "outputs": [
    {
     "name": "stdout",
     "output_type": "stream",
     "text": [
      "The Count of Monte Cristo by Alexandre Dumas, 1150 pages long.\n"
     ]
    }
   ],
   "source": [
    "my_book = Book(\"The Count of Monte Cristo\", \"Alexandre Dumas\", 1150)\n",
    "my_book.summary()\n"
   ]
  },
  {
   "cell_type": "markdown",
   "metadata": {},
   "source": [
    "### Recap and Common Pitfalls\n",
    "\n",
    "* **Recap**:\n",
    "\n",
    "    * Classes are blueprints for objects.\n",
    "    * Objects are instances of classes.\n",
    "    * Attributes represent data, and methods define behaviors.\n",
    "\n",
    "* **Common Pitfalls**:\n",
    "\n",
    "    * Forgetting self: Always include self as the first parameter in methods.\n",
    "    * Confusing Class vs. Instance Attributes: Instance attributes are defined in __init__ and unique to each object.\n",
    "    * Not initializing attributes: Make sure all attributes are defined in __init__.\n"
   ]
  }
 ],
 "metadata": {
  "kernelspec": {
   "display_name": "venv",
   "language": "python",
   "name": "python3"
  },
  "language_info": {
   "codemirror_mode": {
    "name": "ipython",
    "version": 3
   },
   "file_extension": ".py",
   "mimetype": "text/x-python",
   "name": "python",
   "nbconvert_exporter": "python",
   "pygments_lexer": "ipython3",
   "version": "3.11.1"
  }
 },
 "nbformat": 4,
 "nbformat_minor": 2
}
